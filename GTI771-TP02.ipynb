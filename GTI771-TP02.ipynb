{
 "cells": [
  {
   "cell_type": "markdown",
   "metadata": {},
   "source": [
    "##### Laboratoire 2\n",
    "# Discrimination linéaire et réseaux de neurones profonds\n",
    "## Classification et régression (Datasets FER et FG-NET)\n",
    "\n",
    "### GTI771 - Apprentissage machine avancé\n",
    "#### Département de génie logiciel et des technologies de l’information (LogTI)\n",
    "\n",
    "##### <font color=white> Version 1.0 - février 2020<br>Version 2.0 - février 2020 <br> Version 3.0 - mars 2020<br>Version 4.0 - juin 2020 (Richard Rail)<br>Version 4.1 - février 2021<br></font><br>Version 4.2 - février 2022<br>\n",
    "\n",
    "\n",
    "##### Prof. Alessandro L. Koerich"
   ]
  },
  {
   "cell_type": "markdown",
   "metadata": {},
   "source": [
    "| Étudiants             | Antoine Brassard Lahey - BRAA05089904 <br/>  Antoine Pelchat-Fortin - PELA04029703 <br/> Sébastien Charbonneau - CHAS01049805               |\n",
    "|-----------------------|---------------------------------------------------------|\n",
    "| Session               | ÉTÉ 2022                                                |\n",
    "| Équipe                | 10                                                      |\n",
    "| Numéro du laboratoire | 2                                                       |\n",
    "| Professeur            | Hervé Lombaert                                          |\n",
    "| Chargé de laboratoire | Lucas Geffard                                           |\n",
    "| Date                  | 2022-07-12                                              |"
   ]
  },
  {
   "cell_type": "markdown",
   "metadata": {},
   "source": [
    "# Introduction\n",
    "\n",
    "Ce deuxième laboratoire porte sur l'utilisation de trois algorithmes d'apprentissage soit les algorithmes de régression, les réseaux neuronaux et les réseaux neuronaux profonds. Dans ce laboratoire, vous êtes amenés à utiliser de nouvelles approches à l’aide de ces algorithmes aﬁn de résoudre deux problèmes: prédiction de l'âge de personnes à partir de photos du visage (régression); problème de classiﬁcation des expressions faciales (FER) introduit dans le cadre du premier laboratoire de ce cours.\n",
    "\n",
    "Le problème de régression qui vous est présenté est le problème [Facial Aging Estimation (FAE)](https://yanweifu.github.io/FG_NET_data/index.html), dont le but est de prédire l'âge des personnes à partir du visage. En vous basant sur les concepts vus en classe et l'expérience acquise dans le laboratoire 1, vous êtes invité à reprendre les primitives développées lors du laboratoire 1 ou d'autres primitives que vous jugez pertinentes à extraire sur ces types d’images et effectuer l’extraction de celles-ci sur l’ensemble de données fournies avec cet énoncé. \n",
    "\n",
    "##### Description de l'ensemble de données:\n",
    "* 1002 images faciales de 82 sujets multiraciaux âgés de 0 à 69 ans;\n",
    "* Déséquilibré: 50% des sujets ont entre 0 et 13 ans;\n",
    "* Images couleur et niveaux de gris avec une dimension moyenne de 384x487 pixels, et la résolution varie de 200 dpi à 1200 dpi;\n",
    "* Grande variation d'éclairage, de pose, d'expression faciale, de flou et d'occlusions (par exemple, moustache, barbe, lunettes, etc.).\n",
    "\n",
    "Voici, en exemple, des images de visages se retrouvant dans l’ensemble de données FG-NET:\n",
    "\n",
    "![Exemples de FER](https://www.mdpi.com/sensors/sensors-16-00994/article_deploy/html/images/sensors-16-00994-g001.png)\n",
    "\n",
    "Veuillez noter que les images qui vous sont fournies ne sont pas nécessairement similaires aux images de FER. Plusieurs images comportent du bruit, des artéfacts ou des éléments non pertinents. Le défi de ce laboratoire repose sur cette difficulté qui est chose courante dans des problèmes d’apprentissage machine moderne.\n",
    "\n",
    "Tout comme le premier travail pratique, vous réaliserez ce deuxième laboratoire avec la technologie Python3 conjointement avec la librairie d’apprentissage machine scikit-learn et TensorFlow et Keras pour la partie réseaux de neurones. Vous êtes invité à reprendre le code développé lors du laboratoire 1 afin de continuer son développement.\n",
    "\n",
    "<font color=black> L’évaluation de ce laboratoire sera basée sur la qualité des modèles entraînés, la comparaison des performances réalisées par les différents modèles, les réponses aux questions dans cette notebook ainsi que l'organisation de votre code source (SVP, n'oubliez pas des commentaires dans le code!).</font>"
   ]
  },
  {
   "cell_type": "markdown",
   "metadata": {},
   "source": [
    "* #### Partie 1: Régression\n",
    "* Régression lineaire\n",
    "* Régression Ridge\n",
    "* Régression Lasso et Elastic-Net\n",
    "* Descente du gradiente stochastique (SGD)<br>\n",
    "<br>\n",
    "* #### Partie 2: Classification\n",
    "* Régression logistique\n",
    "* Réseaux de neurones MLP <br>\n",
    "<br>\n",
    "* #### Partie 3: Classification et régression\n",
    "* Réseaux convolutionel entraîné \"from scratch\"\n",
    "* Réseaux convolutionel + modèles pre-entraînes (transfer learning)\n",
    "* Réseaux convolutionel adapté à la régression"
   ]
  },
  {
   "cell_type": "markdown",
   "metadata": {
    "collapsed": true
   },
   "source": [
    "## Partie 0: Imports"
   ]
  },
  {
   "cell_type": "markdown",
   "metadata": {},
   "source": [
    "#### (0a) Import de bibliotèques\n",
    "\n"
   ]
  },
  {
   "cell_type": "markdown",
   "metadata": {},
   "source": [
    "##### À faire:\n",
    "1. Ajouter toutes les bibliothèques que vous avez utilisées pour compléter ce notebook dans une cellule avec une petite description."
   ]
  },
  {
   "cell_type": "code",
   "execution_count": 1,
   "metadata": {},
   "outputs": [],
   "source": [
    "# Numpy - Used to manipulate matrices\n",
    "import numpy as np\n",
    "\n",
    "# Matplotlib - 2D plotting library\n",
    "import matplotlib.pyplot as plt \n",
    "from matplotlib.pyplot import figure\n",
    "\n",
    "# Library to extract features from images. Used for LBP\n",
    "import skimage\n",
    "from skimage import feature\n",
    "from skimage.restoration import denoise_tv_chambolle\n",
    "\n",
    "# SKLearn - Implementations of different machine learning models, used for tuning as well\n",
    "import absl\n",
    "import sklearn\n",
    "import sklearn.metrics\n",
    "from sklearn.cluster import MiniBatchKMeans\n",
    "from sklearn.linear_model import LogisticRegression\n",
    "from sklearn.model_selection import GridSearchCV\n",
    "from sklearn.feature_selection import SelectKBest, f_classif\n",
    "from sklearn import datasets, linear_model\n",
    "from sklearn.metrics import mean_squared_error, r2_score\n",
    "\n",
    "import tensorflow\n",
    "import tensorflow.keras as keras\n",
    "from tensorflow.keras.preprocessing.image import ImageDataGenerator\n",
    "from tensorflow.keras.applications import ResNet50, MobileNetV2, VGG19, InceptionResNetV2, EfficientNetV2L\n",
    "from tensorflow.keras.models import Sequential\n",
    "from tensorflow.keras.layers import Dense, Conv2D, AveragePooling2D, Dropout, MaxPooling2D, Flatten, RandomFlip, RandomContrast, RandomHeight, Resizing, RandomRotation, RandomBrightness, RandomWidth, RandomZoom\n",
    "from tensorflow.keras.utils import to_categorical\n",
    "\n",
    "# OpenCV - Includes functions for computervision. Used for image preprocessing and SIFT implementation.\n",
    "import cv2\n",
    "\n",
    "# Used to get float maxvalue\n",
    "import sys\n",
    "\n",
    "# Used for file system operations\n",
    "import os\n",
    "\n",
    "# Used to write csv datasets\n",
    "import csv\n",
    "\n",
    "# Used to manipulate tabular data (dataframes)\n",
    "import pandas\n",
    "\n",
    "# Used to save models\n",
    "import pickle as pkl\n",
    "import matplotlib.patches as patches\n",
    "\n",
    "import tensorflow as tf\n",
    "labels = ['Angry', 'Disgust', 'Fear', 'Happy', 'Sad', 'Surprise', 'Neutral']"
   ]
  },
  {
   "cell_type": "markdown",
   "metadata": {},
   "source": [
    "#### (0b) Fonctions"
   ]
  },
  {
   "cell_type": "markdown",
   "metadata": {},
   "source": [
    "##### À faire:\n",
    "Avez-vous créé des fonctions? Si oui, vous devez les mettre ici, avec une description."
   ]
  },
  {
   "cell_type": "code",
   "execution_count": 72,
   "metadata": {},
   "outputs": [],
   "source": [
    "def read_FER_csv(input_path, feature_length):\n",
    "  data = np.loadtxt(input_path, delimiter=',', dtype=str )\n",
    "  (Xtrain, ytrain) = split_FER_csv(data, 1, 28710, feature_length)\n",
    "  (Xtest, ytest) = split_FER_csv(data, 28710, 32299, feature_length)\n",
    "  (Xval, yval) = split_FER_csv(data, 32299, 35888, feature_length)\n",
    "  return Xtrain, ytrain, Xtest, ytest, Xval, yval\n",
    "\n",
    "def split_FER_csv(data, start_index, end_index, feature_length):\n",
    "  X = np.ones((end_index - start_index, feature_length), float)\n",
    "  \n",
    "  for i in range(start_index, end_index):\n",
    "    X[i-start_index] = data[i,1].split(\" \")\n",
    "\n",
    "  y = data[start_index:end_index, 0].astype(int)\n",
    "\n",
    "  return (X, y)\n",
    "\n",
    "def eval_model(model, x_train, y_train, x_val, y_val, x_test, y_test, titre):\n",
    "  # Classification\n",
    "  ypred_train = model.predict(x_train)\n",
    "  if not(isinstance(ypred_train[0], np.int32) or isinstance(ypred_train[0], np.int64)):\n",
    "    ypred_train = np.argmax(ypred_train, axis=1)\n",
    "        \n",
    "  training_accuracy = sklearn.metrics.accuracy_score(y_train, ypred_train, normalize=True, sample_weight=None)\n",
    "  print(\"Training accuracy: \")\n",
    "  print(str(training_accuracy * 100) + '%')\n",
    "  print(\"Training error: \")\n",
    "  print(str((1 - training_accuracy) * 100) + '%')\n",
    "\n",
    "  ypred_val = model.predict(x_val)\n",
    "  if not(isinstance(ypred_val[0], np.int32) or isinstance(ypred_val[0], np.int64)):\n",
    "    ypred_val = np.argmax(ypred_val, axis=1)\n",
    "    \n",
    "  validation_accuracy = sklearn.metrics.accuracy_score(y_val, ypred_val, normalize=True, sample_weight=None)\n",
    "  print(\"Validation accuracy: \")\n",
    "  print(str(validation_accuracy * 100) + '%')\n",
    "  print(\"Validation error: \")\n",
    "  print(str((1 - validation_accuracy) * 100) + '%')\n",
    "\n",
    "\n",
    "  ypred_test = model.predict(x_test)\n",
    "  if not(isinstance(ypred_test[0], np.int32) or isinstance(ypred_test[0], np.int64)):\n",
    "    ypred_test = np.argmax(ypred_test, axis=1)\n",
    "    \n",
    "  test_accuracy = sklearn.metrics.accuracy_score(y_test, ypred_test, normalize=True, sample_weight=None)\n",
    "  print(\"Test accuracy: \")\n",
    "  print(str(test_accuracy * 100) + '%')\n",
    "  print(\"Test error: \")\n",
    "  print(str((1 - test_accuracy) * 100) + '%')\n",
    "\n",
    "  train_precision = sklearn.metrics.precision_score(y_train, ypred_train, average='micro')\n",
    "  validation_precision = sklearn.metrics.precision_score(y_val, ypred_val, average='micro')\n",
    "  test_precision = sklearn.metrics.precision_score(y_test, ypred_test, average='micro')\n",
    "  avg_precision = (train_precision + validation_precision + test_precision) / 3\n",
    "  print(\"Average precision: \" + str(avg_precision * 100) + '%')\n",
    "\n",
    "  # Confusion matrix\n",
    "  matrice_confusion = sklearn.metrics.confusion_matrix(y_true=y_test, y_pred=ypred_test, labels=[i for i in range(0, len(labels))])\n",
    "  disp = sklearn.metrics.ConfusionMatrixDisplay(confusion_matrix=matrice_confusion, display_labels=labels)\n",
    "  disp.plot()\n",
    "  plt.title(f'Matrice de confusion - {titre}')\n",
    "  plt.show()\n",
    "\n",
    "def eval_regression_model(model, x_train, y_train, x_val, y_val, x_test, y_test, titre):\n",
    "  # Classification\n",
    "  ypred_train = model.predict(x_train)\n",
    "  if not(isinstance(ypred_train[0], np.int32) or isinstance(ypred_train[0], np.int64)):\n",
    "    ypred_train = np.argmax(ypred_train, axis=1)\n",
    "\n",
    "  ypred_val = model.predict(x_val)\n",
    "  if not(isinstance(ypred_val[0], np.int32) or isinstance(ypred_val[0], np.int64)):\n",
    "    ypred_val = np.argmax(ypred_val, axis=1)\n",
    "\n",
    "  ypred_test = model.predict(x_test)\n",
    "  if not(isinstance(ypred_test[0], np.int32) or isinstance(ypred_test[0], np.int64)):\n",
    "    ypred_test = np.argmax(ypred_test, axis=1)\n",
    "\n",
    "  mae_train = sklearn.metrics.mean_absolute_error(y_train, ypred_train)\n",
    "  mse_train = sklearn.metrics.mean_squared_error(y_train, ypred_train)\n",
    "  r2_train = sklearn.metrics.r2_score(y_train, ypred_train)\n",
    "\n",
    "  mae_val = sklearn.metrics.mean_absolute_error(y_val, ypred_val)\n",
    "  mse_val = sklearn.metrics.mean_squared_error(y_val, ypred_val)\n",
    "  r2_val = sklearn.metrics.r2_score(y_val, ypred_val)\n",
    "\n",
    "  mae_test = sklearn.metrics.mean_absolute_error(y_test, ypred_test)\n",
    "  mse_test = sklearn.metrics.mean_squared_error(y_test, ypred_test)\n",
    "  r2_test = sklearn.metrics.r2_score(y_test, ypred_test)\n",
    "\n",
    "  print('Training Set')\n",
    "  print(f'MAE: {mae_train}')\n",
    "  print(f'MSE: {mse_train}')\n",
    "  print(f'R2: {r2_train}')\n",
    "  \n",
    "  print('Validation Set')\n",
    "  print(f'MAE: {mae_val}')\n",
    "  print(f'MSE: {mse_val}')\n",
    "  print(f'R2: {r2_val}')\n",
    "  \n",
    "  print('Test Set')\n",
    "  print(f'MAE: {mae_test}')\n",
    "  print(f'MSE: {mse_test}')\n",
    "  print(f'R2: {r2_test}')\n",
    "\n",
    "\n",
    "\n",
    "def save_model(model, pkl_name):\n",
    "    # Save model\n",
    "    pickle = open(f'Models/{pkl_name}.pkl', 'wb') \n",
    "    pkl.dump(model, pickle)\n",
    "    pickle.close()\n",
    "    \n",
    "def convert_to_rgb(Xtrain, Xval, Xtest, width, length):\n",
    "    Xtrain_rgb = np.zeros((Xtrain.shape[0], width, length, 3))\n",
    "    Xval_rgb = np.zeros((Xval.shape[0], width, length, 3))\n",
    "    Xtest_rgb = np.zeros((Xtest.shape[0], width, length, 3))\n",
    "    \n",
    "    for i, image in enumerate(Xtrain):\n",
    "        to_rgb = cv2.cvtColor(image,cv2.COLOR_GRAY2RGB)\n",
    "        Xtrain_rgb[i] = to_rgb\n",
    "        \n",
    "    for i, image in enumerate(Xval):\n",
    "        to_rgb = cv2.cvtColor(image,cv2.COLOR_GRAY2RGB)\n",
    "        Xval_rgb[i] = to_rgb\n",
    "        \n",
    "    for i, image in enumerate(Xtest):\n",
    "        to_rgb = cv2.cvtColor(image,cv2.COLOR_GRAY2RGB)\n",
    "        Xtest_rgb[i] = to_rgb\n",
    "        \n",
    "    return Xtrain_rgb, Xval_rgb, Xtest_rgb\n",
    "\n",
    "def convert_grayscale_to_3_channels(Xtrain, Xval, Xtest, width, length):\n",
    "    Xtrain_stacked_grayscale = np.zeros((Xtrain.shape[0], width, length, 3))\n",
    "    Xval_stacked_grayscale = np.zeros((Xval.shape[0], width, length, 3))\n",
    "    Xtest_stacked_grayscale = np.zeros((Xtest.shape[0], width, length, 3))\n",
    "    \n",
    "    for i, image in enumerate(Xtrain):\n",
    "        stacked_img = np.concatenate((image,)*3, axis=-1)\n",
    "        Xtrain_stacked_grayscale[i] = stacked_img\n",
    "    \n",
    "    for i, image in enumerate(Xval):\n",
    "        stacked_img = np.concatenate((image,)*3, axis=-1)\n",
    "        Xval_stacked_grayscale[i] = stacked_img\n",
    "        \n",
    "    for i, image in enumerate(Xtest):\n",
    "        stacked_img = np.concatenate((image,)*3, axis=-1)\n",
    "        Xtest_stacked_grayscale[i] = stacked_img\n",
    "        \n",
    "    return Xtrain_stacked_grayscale, Xval_stacked_grayscale, Xtest_stacked_grayscale\n",
    "\n",
    "def transfer_train(pre_trained_model, Xtrain, ytrain, Xval, yval):\n",
    "  for layer in pre_trained_model.layers:\n",
    "      layer.trainable = False\n",
    "\n",
    "  transfer_trained_model = Sequential()\n",
    "  transfer_trained_model.add(pre_trained_model)\n",
    "\n",
    "  # On ajoute les couches pour la classification\n",
    "  transfer_trained_model.add(Flatten())\n",
    "  transfer_trained_model.add(Dense(100, activation='relu'))\n",
    "  transfer_trained_model.add(Dense(len(labels), activation='softmax'))\n",
    "\n",
    "  # Training avec images greyscale 3 channels (stacked)\n",
    "  transfer_trained_model.compile(loss='categorical_crossentropy', optimizer='adam', metrics=['accuracy'])\n",
    "  transfer_trained_model.fit(Xtrain, ytrain, epochs=30, batch_size=128, verbose=1, validation_data=(Xval, yval))\n",
    "  return transfer_trained_model\n",
    "\n",
    "def augment_data(X, y, shape):\n",
    "  dataset = tf.data.Dataset.from_tensor_slices((X, y))\n",
    "  \n",
    "  augmentation = tf.keras.Sequential([\n",
    "    RandomFlip(\"horizontal_and_vertical\"),\n",
    "    RandomRotation(0.2),\n",
    "    RandomHeight(0.2),\n",
    "    RandomWidth(0.2),\n",
    "    RandomZoom(0.2),\n",
    "    RandomContrast(0.2),\n",
    "    RandomBrightness(0.2),\n",
    "    Resizing(shape[0], shape[0])\n",
    "  ])\n",
    "\n",
    "  augmented = []\n",
    "  for (augmented_image, _) in dataset.map(lambda x, y: (augmentation(x), y), num_parallel_calls=tf.data.AUTOTUNE):\n",
    "    augmented.append(augmented_image.numpy())\n",
    "\n",
    "  return np.array(augmented)\n",
    "\n",
    "def create_my_cnn(input_shape, output_shape, output_activation):\n",
    "  pixel_cnn = Sequential()\n",
    "  pixel_cnn.add(Conv2D(16, (5, 5), padding='same', input_shape=input_shape, activation='relu'))\n",
    "  pixel_cnn.add(AveragePooling2D((2, 2), strides=2))\n",
    "\n",
    "  pixel_cnn.add(Conv2D(32, (3, 3), padding='same', activation='relu'))\n",
    "  pixel_cnn.add(AveragePooling2D((2, 2), strides=2))\n",
    "\n",
    "  pixel_cnn.add(Flatten()),\n",
    "  pixel_cnn.add(Dense(120, activation='relu'))\n",
    "  pixel_cnn.add(Dropout(0.3))\n",
    "  pixel_cnn.add(Dense(84, activation='relu'))\n",
    "  pixel_cnn.add(Dropout(0.3))\n",
    "  pixel_cnn.add(Dense(output_shape, activation=output_activation))\n",
    "  return pixel_cnn\n",
    "\n",
    "def pretreat_fgnet(X):\n",
    "  X_pretreated = []\n",
    "\n",
    "  for image in X:\n",
    "      image = image / np.max(image)\n",
    "      image = skimage.restoration.denoise_tv_bregman(image)\n",
    "      image = cv2.resize(image, (48, 48)).reshape((48, 48, 1))\n",
    "      X_pretreated.append(image)\n",
    "  \n",
    "  return np.array(X_pretreated)\n",
    "\n",
    "def print_regression_results(regressionName,regression_obj, y_pred, y_test):\n",
    "    # The coefficients\n",
    "    print(\"---  \"+str(regressionName)+\" ---\\n\")\n",
    "    print(\"Coefficients: \\n\", regression_obj.coef_)\n",
    "    # The mean squared error\n",
    "    print(\"Mean squared error: %.2f\" % mean_squared_error(y_test, y_pred))\n",
    "    print(\"Mean absolute error: %.2f\" % mean_absolute_error(y_test, y_pred))\n",
    "    # The coefficient of determination: 1 is perfect prediction\n",
    "    print(\"Coefficient of determination: %.2f\" % r2_score(y_test, y_pred))\n",
    "    print(\"--------------------------\")"
   ]
  },
  {
   "cell_type": "markdown",
   "metadata": {},
   "source": [
    "# Partie 1: Explorez les algorithmes de régression\n",
    "## FG-NET dataset (Facial Aging Estimation)\n",
    "\n",
    "Dans cette partie vous devez explorer les <b> algorithmes de régression linéaire </b> disponibles dans Scikit-learn, comme régression least square, régression Ridge, régression Lasso et Elastic-Net, descente du gradient stochastique (SGD), etc.\n",
    "\n",
    "Vous devez comparer la performance de ces algorithmes pour l'ensemble de données FG-NET sur:\n",
    "\n",
    "1. Le vecteur de pixels (images vectorisées)\n",
    "2. Vecteur de primitives (reprendre l'algorithme d'extraction de primitives que vous avez utilisées dans le Laboratoire 1, p.ex. LBP). Vous pouvez reprendre les primitives \"réduits\" que vous avez utilisées dans le Laboratoire 1 (p.ex. vecteur LBP après PCA), si vous pensez qu’ils sont plus performants."
   ]
  },
  {
   "cell_type": "markdown",
   "metadata": {},
   "source": [
    "### 1a: Charger le fichier de données"
   ]
  },
  {
   "cell_type": "code",
   "execution_count": 65,
   "metadata": {},
   "outputs": [],
   "source": [
    "# Load data\n",
    "X_fgnet = np.loadtxt('Datasets/fgnet_256x256.csv', delimiter=',', dtype=int )\n",
    "y_fgnet = np.loadtxt('Datasets/fgnet_labels.csv', delimiter=',', dtype=int )\n",
    "\n",
    "X_fgnet = X_fgnet.reshape(X_fgnet.shape[0], 256, 256)"
   ]
  },
  {
   "cell_type": "markdown",
   "metadata": {},
   "source": [
    "### 1b: Visualisation des visages"
   ]
  },
  {
   "cell_type": "markdown",
   "metadata": {},
   "source": [
    "Vous pouvez visualiser les images en utilisant `plt.imshow`.\n",
    "\n",
    "Il y a différents types de prétraitement que nous pouvons appliquer à des images dans les ensembles de données pour réduire la variabilité, réduire des bruits, etc.\n",
    "\n",
    "Voici deux sources pour vous aidez à décider:\n",
    "- http://eprints.qut.edu.au/92300/1/manuscript_Jhony.pdf\n",
    "- https://ieeexplore.ieee.org/stamp/stamp.jsp?tp=&arnumber=7475805\n",
    "\n",
    "### À faire:\n",
    "1. Pensez-vous qu’est nécessaire un prétraitement des images? Si oui, vous pouvez choisir différents algorithmes de prétraitement dans [scikit-image](https://scikit-image.org/docs/stable/api/api.html). Il y a aussi autres types de prétraitement plus généraux dans [scikit-learn](https://scikit-learn.org/stable/modules/preprocessing.html#preprocessing).\n",
    "2. Expliquer et justifier les prétraitements choisis."
   ]
  },
  {
   "cell_type": "markdown",
   "metadata": {},
   "source": [
    "#### Code"
   ]
  },
  {
   "cell_type": "code",
   "execution_count": 66,
   "metadata": {},
   "outputs": [],
   "source": [
    "\n",
    "X_fgnet = pretreat_fgnet(X_fgnet)"
   ]
  },
  {
   "cell_type": "markdown",
   "metadata": {},
   "source": [
    "#### Résultats et réponses"
   ]
  },
  {
   "cell_type": "code",
   "execution_count": null,
   "metadata": {},
   "outputs": [],
   "source": [
    "# Votre explication/justification"
   ]
  },
  {
   "cell_type": "markdown",
   "metadata": {},
   "source": [
    "### 1c: Statistiques sur les sujets et étiquettes"
   ]
  },
  {
   "cell_type": "markdown",
   "metadata": {},
   "source": [
    "##### À faire:\n",
    "1. Calculer quelques statistiques (# images par sujet, distribution des âges, etc.) que vous jugez importantes sur les données\n",
    "2. Faire une analyse des résultats et présenter vos conclusions basées sur ces statistiques."
   ]
  },
  {
   "cell_type": "markdown",
   "metadata": {},
   "source": [
    "#### Code:"
   ]
  },
  {
   "cell_type": "code",
   "execution_count": 85,
   "metadata": {},
   "outputs": [
    {
     "name": "stdout",
     "output_type": "stream",
     "text": [
      "Statistics of Trainning data\n"
     ]
    },
    {
     "data": {
      "image/png": "[encoded data removed]",
      "text/plain": [
       "<Figure size 432x288 with 1 Axes>"
      ]
     },
     "metadata": {
      "needs_background": "light"
     },
     "output_type": "display_data"
    },
    {
     "data": {
      "image/png": "[encoded data removed]",
      "text/plain": [
       "<Figure size 432x288 with 1 Axes>"
      ]
     },
     "metadata": {
      "needs_background": "light"
     },
     "output_type": "display_data"
    },
    {
     "data": {
      "image/png": "[encoded data removed]",
      "text/plain": [
       "<Figure size 432x288 with 1 Axes>"
      ]
     },
     "metadata": {
      "needs_background": "light"
     },
     "output_type": "display_data"
    },
    {
     "data": {
      "image/png": "[encoded data removed]",
      "text/plain": [
       "<Figure size 432x288 with 1 Axes>"
      ]
     },
     "metadata": {
      "needs_background": "light"
     },
     "output_type": "display_data"
    }
   ],
   "source": [
    "# Votre code ici\n",
    "maxlist = []\n",
    "minlist = []\n",
    "averagelist = []\n",
    "st_devlist = []\n",
    "nb_images = 0;\n",
    "\n",
    "for img in X_fgnet:\n",
    "    img = img.reshape(2304)\n",
    "#     print(\"--------\")\n",
    "#     print(img.shape)\n",
    "#     print(img[nb_images].shape)\n",
    "    averagelist.append(sum(img)/len(img))\n",
    "    maxlist.append( np.max(img))\n",
    "    minlist.append(np.min(img))\n",
    "    st_devlist.append( np.std(img))\n",
    "    \n",
    "# print(averagelist) \n",
    "# print(averagelist[0])\n",
    "# print(averagelist[2])\n",
    "# print(averagelist[3])\n",
    "\n",
    "# Code exemple:\n",
    "# Histogramme des étiquettes (classes)\n",
    "hist, _ = np.histogram(y_fgnet, density=False, bins=7, range=(0, 7))\n",
    "\n",
    "print(\"Statistics of Trainning data\")\n",
    "plt.hist(averagelist)\n",
    "plt.title('Average pixel value of a image')\n",
    "plt.show()\n",
    "plt.hist(maxlist)\n",
    "plt.title('Maximum pixel value of a image')\n",
    "plt.show()\n",
    "plt.hist(minlist)\n",
    "plt.title('Minimum pixel value of a image')\n",
    "plt.show()\n",
    "plt.hist(st_devlist)\n",
    "plt.title('Standard deviation of pixel values of a image')\n",
    "plt.show()\n",
    "# Code exemple:\n",
    "# Histogramme des étiquettes\n",
    "#hist, _ = np.histogram(ytrain, density=False, bins=7, range=(0, 7))"
   ]
  },
  {
   "cell_type": "markdown",
   "metadata": {},
   "source": [
    "#### Résultats et réponses:"
   ]
  },
  {
   "cell_type": "code",
   "execution_count": null,
   "metadata": {},
   "outputs": [],
   "source": [
    "# Vos résultats ici:\n",
    "\n",
    "# Code exemple:\n",
    "# Code exemple\n",
    "# Plot du histogramme\n",
    "# import matplotlib.pyplot as plt"
   ]
  },
  {
   "cell_type": "markdown",
   "metadata": {},
   "source": [
    "### 1d: Créer et évaluer des modèles de régression"
   ]
  },
  {
   "cell_type": "markdown",
   "metadata": {},
   "source": [
    "##### À faire:\n",
    "1. Choisir au moins trois (3) algorithmes de régression linéaire disponibles dans Scikit-learn (p.ex. régression least square, régression Ridge, régression Lasso, régression Elastic-Net, descente du gradient stochastique (SGD), etc.)\n",
    "2. Entraîner et optimiser les paramètres des modèles si nécessaire. Utiliser le protocole <font color=blue> \"Leave One Subject Out Cross-Validation\" </font> (LOSO).\n",
    "3. Faire une analyse des résultats et présenter vos conclusions sur les modèles de régression.\n",
    "\n",
    "| Algorithme            | Paramètres    |  MSE  |  MAE  |\n",
    "|-----------------------|---------------|-------|-------|\n",
    "| Regr lineaire         | XXX.XX        |XXX.XX |XXX.XX |\n",
    "| Regr Ridge            | alpha = 0.1   |123.34 | 10.45 |\n",
    "| Regr Lasso            | XXX.XX        |XXX.XX |XXX.XX |\n",
    "| Regr ElasticNet       | XXX.XX        |XXX.XX |XXX.XX |\n",
    "| ...                   | XXX.XX        |XXX.XX |XXX.XX |\n",
    "| ...                   | XXX.XX        |XXX.XX |XXX.XX |"
   ]
  },
  {
   "cell_type": "markdown",
   "metadata": {},
   "source": [
    "#### Code:"
   ]
  },
  {
   "cell_type": "code",
   "execution_count": 84,
   "metadata": {},
   "outputs": [
    {
     "name": "stdout",
     "output_type": "stream",
     "text": [
      "---  Linear Regression ---\n",
      "\n",
      "Coefficients: \n",
      " [-0.00091372 -0.00099688 -0.00128109 ...  0.00101166  0.00075866\n",
      "  0.0006023 ]\n",
      "Mean squared error: 227.60\n",
      "Mean absolute error: 11.72\n",
      "Coefficient of determination: -0.41\n",
      "--------------------------\n"
     ]
    },
    {
     "name": "stderr",
     "output_type": "stream",
     "text": [
      "C:\\Users\\cseba\\anaconda3\\lib\\site-packages\\sklearn\\linear_model\\_coordinate_descent.py:647: ConvergenceWarning: Objective did not converge. You might want to increase the number of iterations, check the scale of the features or consider increasing regularisation. Duality gap: 7.127e+02, tolerance: 1.333e+01\n",
      "  model = cd_fast.enet_coordinate_descent(\n"
     ]
    },
    {
     "name": "stdout",
     "output_type": "stream",
     "text": [
      "---  Lasso Regression ---\n",
      "\n",
      "Coefficients: \n",
      " [-0.01744102 -0.00352695 -0.00528598 ...  0.          0.\n",
      "  0.        ]\n",
      "Mean squared error: 239.60\n",
      "Mean absolute error: 12.31\n",
      "Coefficient of determination: -0.49\n",
      "--------------------------\n"
     ]
    },
    {
     "name": "stderr",
     "output_type": "stream",
     "text": [
      "C:\\Users\\cseba\\anaconda3\\lib\\site-packages\\sklearn\\linear_model\\_coordinate_descent.py:647: ConvergenceWarning: Objective did not converge. You might want to increase the number of iterations, check the scale of the features or consider increasing regularisation. Duality gap: 4.823e+02, tolerance: 1.333e+01\n",
      "  model = cd_fast.enet_coordinate_descent(\n"
     ]
    },
    {
     "name": "stdout",
     "output_type": "stream",
     "text": [
      "---  ElasticNet Regression ---\n",
      "\n",
      "Coefficients: \n",
      " [-0.02623192 -0.0020485  -0.00190368 ...  0.          0.\n",
      " -0.        ]\n",
      "Mean squared error: 239.60\n",
      "Mean absolute error: 12.31\n",
      "Coefficient of determination: -0.49\n",
      "--------------------------\n",
      "---  Ridge Regression ---\n",
      "\n",
      "Coefficients: \n",
      " [-0.00091372 -0.00099687 -0.00128109 ...  0.00101166  0.00075866\n",
      "  0.0006023 ]\n",
      "Mean squared error: 227.60\n",
      "Mean absolute error: 11.72\n",
      "Coefficient of determination: -0.41\n",
      "--------------------------\n"
     ]
    }
   ],
   "source": [
    "\n",
    "from sklearn.metrics import mean_absolute_error\n",
    "from sklearn.model_selection import train_test_split\n",
    "from sklearn import linear_model\n",
    "from sklearn.linear_model import ElasticNet\n",
    "from sklearn.datasets import make_regression\n",
    "from sklearn.linear_model import SGDClassifier\n",
    "\n",
    "X_fgnet_regression = X_fgnet.reshape(1002, 2304)\n",
    "\n",
    "x_train,x_test,y_train,y_test=train_test_split(X_fgnet_raw,y_fgnet,test_size=0.2)\n",
    "\n",
    "\n",
    "# Least Squares regression\n",
    "\n",
    "# Create linear regression object\n",
    "regr = linear_model.LinearRegression()\n",
    "\n",
    "# Train the model using the training sets\n",
    "regr.fit(x_train, y_train)\n",
    "\n",
    "# Make predictions using the testing set\n",
    "y_pred = regr.predict(x_test)\n",
    "\n",
    "print_regression_results(\"Linear Regression\",regr,y_pred,y_test)\n",
    "\n",
    "#regression Lasso\n",
    "\n",
    "reg = linear_model.Lasso(alpha=0.1)\n",
    "# Train the model using the training sets\n",
    "reg.fit(x_train, y_train)\n",
    "# Make predictions using the testing set\n",
    "y_pred = reg.predict(x_test)\n",
    "\n",
    "print_regression_results(\"Lasso Regression\",reg,y_pred,y_test)\n",
    "\n",
    "#regression ElasticNet\n",
    "\n",
    "regr = ElasticNet(alpha=0.1)\n",
    "regr.fit(x_train, y_train)\n",
    "y_pred = reg.predict(x_test)\n",
    "print_regression_results(\"ElasticNet Regression\",regr,y_pred,y_test)\n",
    "\n",
    "#regression Ridge\n",
    "reg = linear_model.Ridge(alpha=.5)\n",
    "reg.fit(x_train, y_train)\n",
    "# Make predictions using the testing set\n",
    "y_pred = reg.predict(x_test)\n",
    "\n",
    "print_regression_results(\"Ridge Regression\",reg,y_pred,y_test)\n",
    "\n",
    "# clf = SGDClassifier(loss=\"hinge\", penalty=\"l2\", max_iter=5)\n",
    "# clf.fit(x_train, y_train)\n",
    "# y_pred = clf.predict(x_test)\n",
    "# print_regression_results(\"SGD\",clf,y_pred,y_test)\n"
   ]
  },
  {
   "cell_type": "markdown",
   "metadata": {},
   "source": [
    "#### Résultats et réponses:"
   ]
  },
  {
   "cell_type": "markdown",
   "metadata": {},
   "source": [
    "Voice le résultat de nos régression lorsque nous utilisions les 48 x 48 pixels de l'image comme feature\n",
    "\n",
    "| Algorithme            | Paramètres    |  MSE  |  MAE  |  R2 |\n",
    "|-----------------------|---------------|-------|-------|-----|\n",
    "| Regr lineaire         | default       |227.60 | 11.72 |-0.41|\n",
    "| Regr Ridge            | alpha=.5      |227.60 | 11.72 |-0.41|\n",
    "| Regr Lasso            | alpha=0.1     |239.60 | 12.31 |-0.49|\n",
    "| Regr ElasticNet       | alpha=0.1     |239.60 | 12.31 |-0.49|\n"
   ]
  },
  {
   "cell_type": "markdown",
   "metadata": {},
   "source": [
    "# Partie 2: Explorez les algorithmes de classification\n",
    "## FER dataset ( Facial Expression Recognition )\n",
    "\n",
    "Vous devez reprendre l'ensemble FER et les primitives que vous avez choisis dans le Laboratoire 1.\n",
    "\n",
    "Dans cette partie vous devez explorer les algorithmes de classification <b> régression logistique et réseaux de neurones multicouches (MLP) </b>\n",
    "\n",
    "Vous devez comparer la performance de ces deux algorithmes pour l'ensemble FER sur:\n",
    "1. Le vecteur de pixels (images vectorisées)\n",
    "2. Vecteur de primitives (reprendre les primitives ou primitives sélectionnées/transformées du laboratoire 1)"
   ]
  },
  {
   "cell_type": "markdown",
   "metadata": {},
   "source": [
    "### 2a: Charger le fichier de données"
   ]
  },
  {
   "cell_type": "code",
   "execution_count": null,
   "metadata": {},
   "outputs": [],
   "source": [
    "# Lecture features pixel, SIFT et LBP\n",
    "(Xtrain, ytrain, Xtest, ytest, Xval, yval) = read_FER_csv('Datasets/fer2013.csv', 2304)\n",
    "(Xtrain_lbp, ytrain_lbp, Xtest_lbp, ytest_lbp, Xval_lbp, yval_lbp) = read_FER_csv('Datasets/lbp_fer2013.csv', 18)\n",
    "(Xtrain_sift, ytrain_sift, Xtest_sift, ytest_sift, Xval_sift, yval_sift) = read_FER_csv('Datasets/sift_fer2013.csv', 10)\n",
    "\n",
    "Xtrain_flatten = Xtrain.reshape( Xtrain.shape[0], 2304 ).astype('uint8')\n",
    "Xtest_flatten  = Xtest.reshape( Xtest.shape[0], 2304 ).astype('uint8')\n",
    "Xval_flatten   = Xval.reshape( Xval.shape[0], 2304 ).astype('uint8')"
   ]
  },
  {
   "cell_type": "markdown",
   "metadata": {},
   "source": [
    "### 2b: Créer et évaluer des modèles de classification (Régression logistique)"
   ]
  },
  {
   "cell_type": "markdown",
   "metadata": {},
   "source": [
    "##### À faire:\n",
    "\n",
    "1. Utiliser l'algorithme régression logistique disponible dans [Scikit-learn](https://scikit-learn.org/stable/modules/generated/sklearn.linear_model.LogisticRegression.html), pour classifier le vecteur de pixels et le vecteur de primitives du laboratoire 1. Vous pouvez regarder aussi [SGDClassifier](https://scikit-learn.org/stable/modules/generated/sklearn.linear_model.SGDClassifier.html#sklearn.linear_model.SGDClassifier) et [LogisticRegressionCV](https://scikit-learn.org/stable/modules/generated/sklearn.linear_model.LogisticRegressionCV.html#sklearn.linear_model.LogisticRegressionCV)\n",
    "2. Entraîner et optimiser les paramètres des modèles.\n",
    "3. Faire une analyse des résultats et présenter vos conclusions sur le modèle logistique."
   ]
  },
  {
   "cell_type": "markdown",
   "metadata": {},
   "source": [
    "#### Code:"
   ]
  },
  {
   "cell_type": "code",
   "execution_count": null,
   "metadata": {},
   "outputs": [],
   "source": [
    "grid_params = {\n",
    "    'C': [0.01, 0.1, 1, 10, 100],\n",
    "    'penalty':['l1', 'l2']\n",
    "}\n",
    "\n",
    "lr_classifier = LogisticRegression(solver=\"saga\", max_iter=10000)\n",
    "grid = GridSearchCV(lr_classifier, grid_params, cv=5, scoring='accuracy')"
   ]
  },
  {
   "cell_type": "code",
   "execution_count": null,
   "metadata": {},
   "outputs": [],
   "source": [
    "# \"SIFT\"\n",
    "# Training\n",
    "sift_grid_search = grid.fit(Xtrain_sift, ytrain)\n",
    "sift_lr_classifier = sift_grid_search.best_estimator_\n",
    "\n",
    "print(sift_grid_search.best_params_)\n",
    "\n",
    "# Save model\n",
    "save_model(sift_lr_classifier, 'sift_lr_classifier')"
   ]
  },
  {
   "cell_type": "code",
   "execution_count": null,
   "metadata": {},
   "outputs": [],
   "source": [
    "# \"pixel\"\n",
    "# Training\n",
    "pixel_grid_search = grid.fit(Xtrain_flatten, ytrain)\n",
    "pixel_lr_classifier = pixel_grid_search.best_estimator_\n",
    "\n",
    "print(pixel_grid_search.best_params_)\n",
    "\n",
    "# Save model\n",
    "save_model(pixel_lr_classifier, 'pixel_lr_classifier')"
   ]
  },
  {
   "cell_type": "code",
   "execution_count": null,
   "metadata": {},
   "outputs": [],
   "source": [
    "# \"lbp\"\n",
    "# Training\n",
    "lbp_grid_search = grid.fit(Xtrain_lbp, ytrain)\n",
    "lbp_lr_classifier = lbp_grid_search.best_estimator_\n",
    "\n",
    "print(lbp_grid_search.best_params_)\n",
    "\n",
    "# Save model\n",
    "save_model(lbp_lr_classifier, 'lbp_lr_classifier')"
   ]
  },
  {
   "cell_type": "code",
   "execution_count": null,
   "metadata": {},
   "outputs": [],
   "source": [
    "eval_model(sift_lr_classifier, Xtrain_sift, ytrain_sift, Xtest_sift, ytest_sift, Xval_sift, yval_sift, 'SIFT logistic regression')\n",
    "# eval_model(pixel_lr_classifier, Xtrain_flatten, ytrain, Xtest_flatten, ytest, Xval_flatten, yval, 'pixel logistic regression')\n",
    "eval_model(lbp_lr_classifier, Xtrain_lbp, ytrain, Xtest_lbp, ytest, Xval_lbp, yval, 'LBP logistic regression')"
   ]
  },
  {
   "cell_type": "markdown",
   "metadata": {},
   "source": [
    "####  Résultats et réponses:\n",
    "\n",
    "Vos résultats ici:"
   ]
  },
  {
   "cell_type": "markdown",
   "metadata": {},
   "source": [
    "\n",
    "| Algorithme                    | Paramètres    | Precision | %Erreur App | %Erreur Val | %Erreur Tst | \n",
    "|-------------------------------|---------------|-----------|-------------|-------------|-------------|\n",
    "| Regression logistique - SIFT  | C=10:L2       |   23.79%  |   74.47%    |   76.48%    |   77.68%    |\n",
    "| Regression logistique - Pixel |               |   xxx.xx  |   xxx.xx    |   XXX.XX    |   XXX.XX    |\n",
    "| Regression logistique - LBP   | C=10:l2       |   27.14%  |   72.65%    |   72.95%    |   72.97%    |"
   ]
  },
  {
   "cell_type": "markdown",
   "metadata": {},
   "source": [
    "### 2c: Créer et évaluer des modèles de classification (Réseaux perceptron multi-couche)"
   ]
  },
  {
   "cell_type": "markdown",
   "metadata": {},
   "source": [
    "##### À faire:\n",
    "\n",
    "1. Utiliser [Tensorflow et Keras](https://www.tensorflow.org/tutorials/keras/classification) pour construire un réseau de neurones multicouche pour classifier les vecteurs de primitives du laboratoire 1. \n",
    "2. Choisir l’architecture appropriée pour chaque vecteur de primitives (nombre et dimension des couches). \n",
    "2. Entraîner et optimiser les paramètres des réseaux.\n",
    "4. Faire une analyse des résultats et présenter vos conclusions sur les réseaux de neurones."
   ]
  },
  {
   "cell_type": "markdown",
   "metadata": {},
   "source": [
    "#### Code"
   ]
  },
  {
   "cell_type": "code",
   "execution_count": null,
   "metadata": {},
   "outputs": [],
   "source": [
    "# Convert labels to one hot encoder\n",
    "ytrain_ohe = to_categorical(ytrain, len(labels))\n",
    "yval_ohe = to_categorical(yval, len(labels))\n",
    "ytest_ohe = to_categorical(ytest, len(labels))"
   ]
  },
  {
   "cell_type": "code",
   "execution_count": null,
   "metadata": {},
   "outputs": [],
   "source": [
    "# \"SIFT\"\n",
    "sift_input_shape = Xtrain_sift[0].shape\n",
    "\n",
    "# Create the model\n",
    "sift_mlp_classifier = Sequential()\n",
    "sift_mlp_classifier.add(Dense(16, input_shape=sift_input_shape, activation='relu'))\n",
    "sift_mlp_classifier.add(Dense(len(labels), activation='softmax'))\n",
    "\n",
    "# Training\n",
    "sift_mlp_classifier.compile(loss='categorical_crossentropy', optimizer='adam', metrics=['accuracy'])\n",
    "sift_mlp_classifier.fit(Xtrain_sift, ytrain_ohe, epochs=30, batch_size=128, verbose=1, validation_split=0.2)"
   ]
  },
  {
   "cell_type": "code",
   "execution_count": null,
   "metadata": {},
   "outputs": [],
   "source": [
    "# \"pixel\"\n",
    "flatten_input_shape = Xtrain_flatten[0].shape\n",
    "\n",
    "# Create the model\n",
    "pixel_mlp_classifier = Sequential()\n",
    "pixel_mlp_classifier.add(Dense(512, input_shape=flatten_input_shape, activation='relu'))\n",
    "pixel_mlp_classifier.add(Dense(256, activation='relu'))\n",
    "pixel_mlp_classifier.add(Dense(128, activation='relu'))\n",
    "pixel_mlp_classifier.add(Dense(64, activation='relu'))\n",
    "pixel_mlp_classifier.add(Dense(32, activation='relu'))\n",
    "pixel_mlp_classifier.add(Dense(16, activation='relu'))\n",
    "pixel_mlp_classifier.add(Dense(len(labels), activation='softmax'))\n",
    "\n",
    "# Training\n",
    "pixel_mlp_classifier.compile(loss='categorical_crossentropy', optimizer='adam', metrics=['accuracy'])\n",
    "pixel_mlp_classifier.fit(Xtrain_flatten, ytrain_ohe, epochs=30, batch_size=128, verbose=1, validation_split=0.2)"
   ]
  },
  {
   "cell_type": "code",
   "execution_count": null,
   "metadata": {},
   "outputs": [],
   "source": [
    "# \"lbp\"\n",
    "input_shape = Xtrain_lbp[0].shape\n",
    "\n",
    "# Create the model\n",
    "lbp_mlp_classifier = Sequential()\n",
    "lbp_mlp_classifier.add(Dense(64, input_shape=input_shape, activation='relu'))\n",
    "lbp_mlp_classifier.add(Dense(32, activation='relu'))\n",
    "lbp_mlp_classifier.add(Dense(16, activation='relu'))\n",
    "lbp_mlp_classifier.add(Dense(len(labels), activation='softmax'))\n",
    "\n",
    "# Training\n",
    "lbp_mlp_classifier.compile(loss='categorical_crossentropy', optimizer='adam', metrics=['accuracy'])\n",
    "lbp_mlp_classifier.fit(Xtrain_lbp, ytrain_ohe, epochs=30, batch_size=128, verbose=1, validation_split=0.2)"
   ]
  },
  {
   "cell_type": "code",
   "execution_count": null,
   "metadata": {},
   "outputs": [],
   "source": [
    "eval_model(sift_mlp_classifier, Xtrain_sift, ytrain, Xtest_sift, ytest, Xval_sift, yval, 'SIFT mlp')\n",
    "eval_model(pixel_mlp_classifier, Xtrain_flatten, ytrain, Xtest_flatten, ytest, Xval_flatten, yval, 'pixel mlp')\n",
    "eval_model(lbp_mlp_classifier, Xtrain_lbp, ytrain, Xtest_lbp, ytest, Xval_lbp, yval, 'LBP mlp')"
   ]
  },
  {
   "cell_type": "markdown",
   "metadata": {},
   "source": [
    "#### Résultats et réponses:\n",
    "Vos résultats ici\n",
    "\n",
    "| Algorithme       | Paramètres             | Precision | %Erreur App | %Erreur Val | %Erreur Tst | \n",
    "|------------------|------------------------|-----------|-------------|-------------|-------------|\n",
    "| MLP SIFT         | 16:7                   |   24.45%  |   74.54%    |   75.26%    |   76.76%    |\n",
    "| MLP Pixel        | 512:256:128:64:32:16:7 |   24.87%  |   74.85%    |   75.03%    |   75.51%    |\n",
    "| MLP LBP          | 64:32:16:7             |   26.77%  |   73.58%    |   72.58%    |   73.53%    |"
   ]
  },
  {
   "cell_type": "markdown",
   "metadata": {},
   "source": [
    "# Partie 3: Explorez l'apprentissage de la représentation et les réseaux neuronaux profonds\n",
    "## (FER dataset et FG-NET dataset)\n"
   ]
  },
  {
   "cell_type": "markdown",
   "metadata": {},
   "source": [
    "##### À faire :\n",
    "1. Utiliser [Tensorflow et Keras](https://www.tensorflow.org/tutorials/keras/classification) pour construire un réseau de neurones convolutif pour apprendre une représentation directement des images de visage aussi que les discriminantes. \n",
    "2. Choisir l’architecture appropriée : nombre de couches convolutifs (CL), dimension des filtres, “stride”, nombre de couches entièrement connectées (FC) et la dimension des couches). \n",
    "3. Entraîner et optimiser les paramètres du réseau.\n",
    "4. Évaluer la pertinence d’utiliser \"data augmentation\" pour améliorer la généralisation.\n",
    "5. Récupérer une des architectures CNN pré-entraînes disponibles dans Keras pour faire une “transfert de connaissance (transfer learning). Faire un \"fine-tuning\" du modèle choisi sur FER.    \n",
    "7. Choisir le modèle qu’a donné de meilleurs résultats sur FER et adapter ce modèle pour faire la régression sur FG-NET.     \n",
    "8. Faire une analyse des résultats et présenter vos conclusions sur les réseaux de neurones."
   ]
  },
  {
   "cell_type": "markdown",
   "metadata": {},
   "source": [
    "### 3a: Code CNN (FER)\n",
    "    \n",
    "##### À faire:\n",
    "1. Utiliser [Tensorflow et Keras](https://www.tensorflow.org/tutorials/keras/classification) pour construire un réseau de neurones convolutif pour apprendre une représentation directement des images de visage aussi que les discriminantes. \n",
    "2. Choisir l’architecture appropriée: nombre de couches convolutifs (CL), dimension des filtres, \"stride”, nombre de couches entièrement connectées (FC) et la dimension des couches). \n",
    "3. Entraîner et optimiser les paramètres du réseau.\n",
    "4. Évaluer la pertinence d’utiliser \"data augmentation\" pour améliorer la généralisation."
   ]
  },
  {
   "cell_type": "code",
   "execution_count": 4,
   "metadata": {},
   "outputs": [],
   "source": [
    "# Lecture features pixel, SIFT et LBP\n",
    "(Xtrain, ytrain, Xtest, ytest, Xval, yval) = read_FER_csv('Datasets/fer2013.csv', 2304)\n",
    "\n",
    "Xtrain = Xtrain.reshape( Xtrain.shape[0], 48, 48, 1 ).astype('uint8')\n",
    "Xtest  = Xtest.reshape( Xtest.shape[0], 48, 48, 1 ).astype('uint8')\n",
    "Xval   = Xval.reshape( Xval.shape[0], 48, 48, 1 ).astype('uint8')\n",
    "\n",
    "ytrain_ohe = to_categorical(ytrain, len(labels))\n",
    "yval_ohe = to_categorical(yval, len(labels))\n",
    "ytest_ohe = to_categorical(ytest, len(labels))"
   ]
  },
  {
   "cell_type": "code",
   "execution_count": 4,
   "metadata": {},
   "outputs": [
    {
     "name": "stdout",
     "output_type": "stream",
     "text": [
      "Epoch 1/30\n"
     ]
    },
    {
     "name": "stderr",
     "output_type": "stream",
     "text": [
      "2022-07-04 16:22:13.342101: I tensorflow/stream_executor/cuda/cuda_gpu_executor.cc:975] successful NUMA node read from SysFS had negative value (-1), but there must be at least one NUMA node, so returning NUMA node zero\n",
      "2022-07-04 16:22:13.372215: I tensorflow/stream_executor/cuda/cuda_gpu_executor.cc:975] successful NUMA node read from SysFS had negative value (-1), but there must be at least one NUMA node, so returning NUMA node zero\n",
      "2022-07-04 16:22:13.372412: I tensorflow/stream_executor/cuda/cuda_gpu_executor.cc:975] successful NUMA node read from SysFS had negative value (-1), but there must be at least one NUMA node, so returning NUMA node zero\n",
      "2022-07-04 16:22:13.372766: I tensorflow/core/platform/cpu_feature_guard.cc:193] This TensorFlow binary is optimized with oneAPI Deep Neural Network Library (oneDNN) to use the following CPU instructions in performance-critical operations:  AVX2 FMA\n",
      "To enable them in other operations, rebuild TensorFlow with the appropriate compiler flags.\n",
      "2022-07-04 16:22:13.373339: I tensorflow/stream_executor/cuda/cuda_gpu_executor.cc:975] successful NUMA node read from SysFS had negative value (-1), but there must be at least one NUMA node, so returning NUMA node zero\n",
      "2022-07-04 16:22:13.373507: I tensorflow/stream_executor/cuda/cuda_gpu_executor.cc:975] successful NUMA node read from SysFS had negative value (-1), but there must be at least one NUMA node, so returning NUMA node zero\n",
      "2022-07-04 16:22:13.373655: I tensorflow/stream_executor/cuda/cuda_gpu_executor.cc:975] successful NUMA node read from SysFS had negative value (-1), but there must be at least one NUMA node, so returning NUMA node zero\n",
      "2022-07-04 16:22:13.780822: I tensorflow/stream_executor/cuda/cuda_gpu_executor.cc:975] successful NUMA node read from SysFS had negative value (-1), but there must be at least one NUMA node, so returning NUMA node zero\n",
      "2022-07-04 16:22:13.781014: I tensorflow/stream_executor/cuda/cuda_gpu_executor.cc:975] successful NUMA node read from SysFS had negative value (-1), but there must be at least one NUMA node, so returning NUMA node zero\n",
      "2022-07-04 16:22:13.781171: I tensorflow/stream_executor/cuda/cuda_gpu_executor.cc:975] successful NUMA node read from SysFS had negative value (-1), but there must be at least one NUMA node, so returning NUMA node zero\n",
      "2022-07-04 16:22:13.781300: I tensorflow/core/common_runtime/gpu/gpu_device.cc:1532] Created device /job:localhost/replica:0/task:0/device:GPU:0 with 5619 MB memory:  -> device: 0, name: NVIDIA GeForce RTX 2060 SUPER, pci bus id: 0000:07:00.0, compute capability: 7.5\n",
      "2022-07-04 16:22:14.877012: I tensorflow/stream_executor/cuda/cuda_dnn.cc:384] Loaded cuDNN version 8401\n"
     ]
    },
    {
     "name": "stdout",
     "output_type": "stream",
     "text": [
      "225/225 [==============================] - 3s 5ms/step - loss: 2.3955 - accuracy: 0.2398 - val_loss: 1.7273 - val_accuracy: 0.3149\n",
      "Epoch 2/30\n",
      "225/225 [==============================] - 1s 4ms/step - loss: 1.7118 - accuracy: 0.3137 - val_loss: 1.6606 - val_accuracy: 0.3405\n",
      "Epoch 3/30\n",
      "225/225 [==============================] - 1s 4ms/step - loss: 1.6348 - accuracy: 0.3525 - val_loss: 1.5481 - val_accuracy: 0.4121\n",
      "Epoch 4/30\n",
      "225/225 [==============================] - 1s 4ms/step - loss: 1.5832 - accuracy: 0.3832 - val_loss: 1.5298 - val_accuracy: 0.4149\n",
      "Epoch 5/30\n",
      "225/225 [==============================] - 1s 4ms/step - loss: 1.5314 - accuracy: 0.4050 - val_loss: 1.4835 - val_accuracy: 0.4319\n",
      "Epoch 6/30\n",
      "225/225 [==============================] - 1s 4ms/step - loss: 1.4941 - accuracy: 0.4235 - val_loss: 1.4551 - val_accuracy: 0.4377\n",
      "Epoch 7/30\n",
      "225/225 [==============================] - 1s 4ms/step - loss: 1.4574 - accuracy: 0.4402 - val_loss: 1.4365 - val_accuracy: 0.4433\n",
      "Epoch 8/30\n",
      "225/225 [==============================] - 1s 4ms/step - loss: 1.4213 - accuracy: 0.4563 - val_loss: 1.4601 - val_accuracy: 0.4335\n",
      "Epoch 9/30\n",
      "225/225 [==============================] - 1s 4ms/step - loss: 1.3814 - accuracy: 0.4739 - val_loss: 1.4214 - val_accuracy: 0.4578\n",
      "Epoch 10/30\n",
      "225/225 [==============================] - 1s 4ms/step - loss: 1.3446 - accuracy: 0.4905 - val_loss: 1.3883 - val_accuracy: 0.4770\n",
      "Epoch 11/30\n",
      "225/225 [==============================] - 1s 4ms/step - loss: 1.2987 - accuracy: 0.5084 - val_loss: 1.3929 - val_accuracy: 0.4709\n",
      "Epoch 12/30\n",
      "225/225 [==============================] - 1s 4ms/step - loss: 1.2585 - accuracy: 0.5243 - val_loss: 1.3880 - val_accuracy: 0.4784\n",
      "Epoch 13/30\n",
      "225/225 [==============================] - 1s 4ms/step - loss: 1.2190 - accuracy: 0.5413 - val_loss: 1.3947 - val_accuracy: 0.4778\n",
      "Epoch 14/30\n",
      "225/225 [==============================] - 1s 4ms/step - loss: 1.1753 - accuracy: 0.5533 - val_loss: 1.4224 - val_accuracy: 0.4692\n",
      "Epoch 15/30\n",
      "225/225 [==============================] - 1s 4ms/step - loss: 1.1404 - accuracy: 0.5693 - val_loss: 1.3902 - val_accuracy: 0.4918\n",
      "Epoch 16/30\n",
      "225/225 [==============================] - 1s 4ms/step - loss: 1.1010 - accuracy: 0.5882 - val_loss: 1.4044 - val_accuracy: 0.4873\n",
      "Epoch 17/30\n",
      "225/225 [==============================] - 1s 4ms/step - loss: 1.0563 - accuracy: 0.6021 - val_loss: 1.4405 - val_accuracy: 0.4759\n",
      "Epoch 18/30\n",
      "225/225 [==============================] - 1s 4ms/step - loss: 1.0275 - accuracy: 0.6095 - val_loss: 1.4403 - val_accuracy: 0.4843\n",
      "Epoch 19/30\n",
      "225/225 [==============================] - 1s 4ms/step - loss: 0.9823 - accuracy: 0.6281 - val_loss: 1.4699 - val_accuracy: 0.4706\n",
      "Epoch 20/30\n",
      "225/225 [==============================] - 1s 4ms/step - loss: 0.9640 - accuracy: 0.6345 - val_loss: 1.4913 - val_accuracy: 0.4773\n",
      "Epoch 21/30\n",
      "225/225 [==============================] - 1s 4ms/step - loss: 0.9282 - accuracy: 0.6473 - val_loss: 1.4962 - val_accuracy: 0.4896\n",
      "Epoch 22/30\n",
      "225/225 [==============================] - 1s 4ms/step - loss: 0.8871 - accuracy: 0.6614 - val_loss: 1.5526 - val_accuracy: 0.4879\n",
      "Epoch 23/30\n",
      "225/225 [==============================] - 1s 4ms/step - loss: 0.8661 - accuracy: 0.6697 - val_loss: 1.5545 - val_accuracy: 0.4915\n",
      "Epoch 24/30\n",
      "225/225 [==============================] - 1s 4ms/step - loss: 0.8396 - accuracy: 0.6808 - val_loss: 1.5777 - val_accuracy: 0.4960\n",
      "Epoch 25/30\n",
      "225/225 [==============================] - 1s 4ms/step - loss: 0.8233 - accuracy: 0.6865 - val_loss: 1.6264 - val_accuracy: 0.4940\n",
      "Epoch 26/30\n",
      "225/225 [==============================] - 1s 4ms/step - loss: 0.8055 - accuracy: 0.6895 - val_loss: 1.7168 - val_accuracy: 0.4935\n",
      "Epoch 27/30\n",
      "225/225 [==============================] - 1s 4ms/step - loss: 0.7801 - accuracy: 0.7025 - val_loss: 1.6682 - val_accuracy: 0.4937\n",
      "Epoch 28/30\n",
      "225/225 [==============================] - 1s 4ms/step - loss: 0.7526 - accuracy: 0.7105 - val_loss: 1.7495 - val_accuracy: 0.4848\n",
      "Epoch 29/30\n",
      "225/225 [==============================] - 1s 4ms/step - loss: 0.7345 - accuracy: 0.7182 - val_loss: 1.7584 - val_accuracy: 0.4912\n",
      "Epoch 30/30\n",
      "225/225 [==============================] - 1s 4ms/step - loss: 0.7294 - accuracy: 0.7199 - val_loss: 1.8086 - val_accuracy: 0.4932\n"
     ]
    },
    {
     "name": "stderr",
     "output_type": "stream",
     "text": [
      "WARNING:absl:Found untraced functions such as _jit_compiled_convolution_op, _jit_compiled_convolution_op while saving (showing 2 of 2). These functions will not be directly callable after loading.\n"
     ]
    },
    {
     "name": "stdout",
     "output_type": "stream",
     "text": [
      "INFO:tensorflow:Assets written to: Models/pixel_cnn/assets\n"
     ]
    },
    {
     "name": "stderr",
     "output_type": "stream",
     "text": [
      "INFO:tensorflow:Assets written to: Models/pixel_cnn/assets\n"
     ]
    }
   ],
   "source": [
    "#Architecture adaptée à partir de LE: https://towardsdatascience.com/understanding-and-implementing-lenet-5-cnn-architecture-deep-learning-a2d531ebc342\n",
    "\n",
    "pixel_cnn = create_my_cnn(Xtrain[0].shape, ytrain_ohe[0].shape[0], 'softmax')\n",
    "\n",
    "pixel_cnn.compile(loss='categorical_crossentropy', optimizer='adam', metrics=['accuracy'])\n",
    "pixel_cnn.fit(Xtrain, ytrain_ohe, epochs=30, batch_size=128, verbose=1, validation_data=(Xval, yval_ohe))\n",
    "pixel_cnn.save('Models/pixel_cnn')"
   ]
  },
  {
   "cell_type": "code",
   "execution_count": 5,
   "metadata": {},
   "outputs": [
    {
     "name": "stdout",
     "output_type": "stream",
     "text": [
      "Epoch 1/30\n",
      "225/225 [==============================] - 1s 5ms/step - loss: 3.5697 - accuracy: 0.2423 - val_loss: 1.7132 - val_accuracy: 0.3207\n",
      "Epoch 2/30\n",
      "225/225 [==============================] - 1s 5ms/step - loss: 1.7239 - accuracy: 0.3080 - val_loss: 1.6475 - val_accuracy: 0.3541\n",
      "Epoch 3/30\n",
      "225/225 [==============================] - 1s 5ms/step - loss: 1.6605 - accuracy: 0.3432 - val_loss: 1.5860 - val_accuracy: 0.3859\n",
      "Epoch 4/30\n",
      "225/225 [==============================] - 1s 5ms/step - loss: 1.6007 - accuracy: 0.3756 - val_loss: 1.5301 - val_accuracy: 0.4021\n",
      "Epoch 5/30\n",
      "225/225 [==============================] - 1s 5ms/step - loss: 1.5471 - accuracy: 0.3995 - val_loss: 1.5059 - val_accuracy: 0.4174\n",
      "Epoch 6/30\n",
      "225/225 [==============================] - 1s 5ms/step - loss: 1.4957 - accuracy: 0.4234 - val_loss: 1.4635 - val_accuracy: 0.4333\n",
      "Epoch 7/30\n",
      "225/225 [==============================] - 1s 5ms/step - loss: 1.4378 - accuracy: 0.4491 - val_loss: 1.4467 - val_accuracy: 0.4400\n",
      "Epoch 8/30\n",
      "225/225 [==============================] - 1s 5ms/step - loss: 1.3816 - accuracy: 0.4719 - val_loss: 1.4539 - val_accuracy: 0.4400\n",
      "Epoch 9/30\n",
      "225/225 [==============================] - 1s 5ms/step - loss: 1.3264 - accuracy: 0.4983 - val_loss: 1.4347 - val_accuracy: 0.4595\n",
      "Epoch 10/30\n",
      "225/225 [==============================] - 1s 5ms/step - loss: 1.2681 - accuracy: 0.5222 - val_loss: 1.4043 - val_accuracy: 0.4706\n",
      "Epoch 11/30\n",
      "225/225 [==============================] - 1s 5ms/step - loss: 1.2087 - accuracy: 0.5464 - val_loss: 1.4055 - val_accuracy: 0.4650\n",
      "Epoch 12/30\n",
      "225/225 [==============================] - 1s 5ms/step - loss: 1.1492 - accuracy: 0.5695 - val_loss: 1.4824 - val_accuracy: 0.4667\n",
      "Epoch 13/30\n",
      "225/225 [==============================] - 1s 5ms/step - loss: 1.1023 - accuracy: 0.5896 - val_loss: 1.4563 - val_accuracy: 0.4709\n",
      "Epoch 14/30\n",
      "225/225 [==============================] - 1s 5ms/step - loss: 1.0459 - accuracy: 0.6078 - val_loss: 1.4933 - val_accuracy: 0.4706\n",
      "Epoch 15/30\n",
      "225/225 [==============================] - 1s 4ms/step - loss: 1.0002 - accuracy: 0.6275 - val_loss: 1.4932 - val_accuracy: 0.4854\n",
      "Epoch 16/30\n",
      "225/225 [==============================] - 1s 5ms/step - loss: 0.9478 - accuracy: 0.6443 - val_loss: 1.5514 - val_accuracy: 0.4689\n",
      "Epoch 17/30\n",
      "225/225 [==============================] - 1s 5ms/step - loss: 0.9000 - accuracy: 0.6639 - val_loss: 1.5616 - val_accuracy: 0.4809\n",
      "Epoch 18/30\n",
      "225/225 [==============================] - 1s 5ms/step - loss: 0.8645 - accuracy: 0.6812 - val_loss: 1.6045 - val_accuracy: 0.4776\n",
      "Epoch 19/30\n",
      "225/225 [==============================] - 1s 5ms/step - loss: 0.8183 - accuracy: 0.6968 - val_loss: 1.6646 - val_accuracy: 0.4778\n",
      "Epoch 20/30\n",
      "225/225 [==============================] - 1s 5ms/step - loss: 0.7782 - accuracy: 0.7125 - val_loss: 1.6034 - val_accuracy: 0.4854\n",
      "Epoch 21/30\n",
      "225/225 [==============================] - 1s 5ms/step - loss: 0.7405 - accuracy: 0.7263 - val_loss: 1.7259 - val_accuracy: 0.4728\n",
      "Epoch 22/30\n",
      "225/225 [==============================] - 1s 5ms/step - loss: 0.7211 - accuracy: 0.7356 - val_loss: 1.7838 - val_accuracy: 0.4759\n",
      "Epoch 23/30\n",
      "225/225 [==============================] - 1s 5ms/step - loss: 0.6929 - accuracy: 0.7426 - val_loss: 1.8967 - val_accuracy: 0.4636\n",
      "Epoch 24/30\n",
      "225/225 [==============================] - 1s 5ms/step - loss: 0.6588 - accuracy: 0.7575 - val_loss: 1.8330 - val_accuracy: 0.4767\n",
      "Epoch 25/30\n",
      "225/225 [==============================] - 1s 5ms/step - loss: 0.6248 - accuracy: 0.7694 - val_loss: 1.9128 - val_accuracy: 0.4915\n",
      "Epoch 26/30\n",
      "225/225 [==============================] - 1s 5ms/step - loss: 0.6129 - accuracy: 0.7734 - val_loss: 1.9051 - val_accuracy: 0.4834\n",
      "Epoch 27/30\n",
      "225/225 [==============================] - 1s 5ms/step - loss: 0.5882 - accuracy: 0.7825 - val_loss: 2.1287 - val_accuracy: 0.4631\n",
      "Epoch 28/30\n",
      "225/225 [==============================] - 1s 5ms/step - loss: 0.5731 - accuracy: 0.7917 - val_loss: 2.0845 - val_accuracy: 0.4804\n",
      "Epoch 29/30\n",
      "225/225 [==============================] - 1s 5ms/step - loss: 0.5500 - accuracy: 0.7962 - val_loss: 2.1765 - val_accuracy: 0.4720\n",
      "Epoch 30/30\n",
      "225/225 [==============================] - 1s 5ms/step - loss: 0.5254 - accuracy: 0.8070 - val_loss: 2.2317 - val_accuracy: 0.4812\n"
     ]
    },
    {
     "name": "stderr",
     "output_type": "stream",
     "text": [
      "WARNING:absl:Found untraced functions such as _jit_compiled_convolution_op, _jit_compiled_convolution_op while saving (showing 2 of 2). These functions will not be directly callable after loading.\n"
     ]
    },
    {
     "name": "stdout",
     "output_type": "stream",
     "text": [
      "INFO:tensorflow:Assets written to: Models/pixel_cnn_augment/assets\n"
     ]
    },
    {
     "name": "stderr",
     "output_type": "stream",
     "text": [
      "INFO:tensorflow:Assets written to: Models/pixel_cnn_augment/assets\n"
     ]
    },
    {
     "data": {
      "image/png": "[encoded data removed]",
      "text/plain": [
       "<Figure size 432x288 with 1 Axes>"
      ]
     },
     "metadata": {
      "needs_background": "light"
     },
     "output_type": "display_data"
    }
   ],
   "source": [
    "pixel_cnn_augment = create_my_cnn(Xtrain[0].shape, ytrain_ohe[0].shape[0], 'softmax')\n",
    "Xtrain_augment = augment_data(Xtrain, ytrain_ohe, (48, 48))\n",
    "\n",
    "pixel_cnn_augment.compile(loss='categorical_crossentropy', optimizer='adam', metrics=['accuracy'])\n",
    "pixel_cnn_augment.fit(Xtrain_augment, ytrain_ohe, epochs=30, batch_size=128, verbose=1, validation_data=(Xval, yval_ohe))\n",
    "pixel_cnn_augment.save('Models/pixel_cnn_augment')"
   ]
  },
  {
   "cell_type": "code",
   "execution_count": 6,
   "metadata": {},
   "outputs": [
    {
     "name": "stdout",
     "output_type": "stream",
     "text": [
      "898/898 [==============================] - 1s 924us/step\n",
      "<class 'numpy.ndarray'>\n",
      "Training accuracy: \n",
      "83.77512278379602%\n",
      "Training error: \n",
      "16.224877216203982%\n",
      "113/113 [==============================] - 0s 938us/step\n",
      "Validation accuracy: \n",
      "49.90247979938702%\n",
      "Validation error: \n",
      "50.097520200612976%\n",
      "113/113 [==============================] - 0s 997us/step\n",
      "Test accuracy: \n",
      "49.31735859570911%\n",
      "Test error: \n",
      "50.682641404290884%\n",
      "Average precision: 60.998320392964054%\n"
     ]
    },
    {
     "data": {
      "image/png": "[encoded data removed]",
      "text/plain": [
       "<Figure size 432x288 with 2 Axes>"
      ]
     },
     "metadata": {
      "needs_background": "light"
     },
     "output_type": "display_data"
    },
    {
     "name": "stdout",
     "output_type": "stream",
     "text": [
      "898/898 [==============================] - 1s 916us/step\n",
      "<class 'numpy.ndarray'>\n",
      "Training accuracy: \n",
      "92.58420704308753%\n",
      "Training error: \n",
      "7.415792956912471%\n",
      "113/113 [==============================] - 0s 984us/step\n",
      "Validation accuracy: \n",
      "47.199777096684315%\n",
      "Validation error: \n",
      "52.800222903315685%\n",
      "113/113 [==============================] - 0s 952us/step\n",
      "Test accuracy: \n",
      "48.11925327389245%\n",
      "Test error: \n",
      "51.88074672610755%\n",
      "Average precision: 62.63441247122144%\n"
     ]
    },
    {
     "data": {
      "image/png": "[encoded data removed]",
      "text/plain": [
       "<Figure size 432x288 with 2 Axes>"
      ]
     },
     "metadata": {
      "needs_background": "light"
     },
     "output_type": "display_data"
    }
   ],
   "source": [
    "eval_model(pixel_cnn, Xtrain, ytrain, Xtest, ytest, Xval, yval, 'pixel cnn')\n",
    "eval_model(pixel_cnn_augment, Xtrain, ytrain, Xtest, ytest, Xval, yval, 'pixel cnn - augment')"
   ]
  },
  {
   "cell_type": "markdown",
   "metadata": {},
   "source": [
    "#### Résultats et réponses:\n",
    "Vos résultats ici"
   ]
  },
  {
   "cell_type": "markdown",
   "metadata": {},
   "source": [
    "| Ensemble | My CNN   | My CNN - Augmentation   |\n",
    "|----------|----------|-------------------------|\n",
    "| App      | 83.78%   |                  92.58% |\n",
    "| Val      | 49.90%   |                  47.20% |\n",
    "| Test     | 50.10%   |                  48.12% |\n",
    "| Moyenne  | 61.00%   |                  62.63% |"
   ]
  },
  {
   "cell_type": "markdown",
   "metadata": {},
   "source": [
    "### 3b: Code CNN Pré-entraîné (FER)\n",
    "\n",
    "##### À faire:\n",
    "1. Récupérer une des architectures [CNN pré-entraînes disponibles dans Keras](https://keras.io/api/applications/) pour faire un \"transfert de connaissance\" (transfer learning). Faire un \"fine-tuning\" du modèle choisi sur FER.    \n",
    "2. Entraîner et optimiser les paramètres du réseau.\n",
    "3. Évaluer la pertinence d’utiliser \"data augmentation\" pour améliorer la généralisation."
   ]
  },
  {
   "cell_type": "markdown",
   "metadata": {},
   "source": [
    "##### Sans augmentation:"
   ]
  },
  {
   "cell_type": "code",
   "execution_count": 5,
   "metadata": {},
   "outputs": [],
   "source": [
    "Xtrain_rgb, Xval_rgb, Xtest_rgb = convert_to_rgb(Xtrain, Xval, Xtest, 48, 48)"
   ]
  },
  {
   "cell_type": "code",
   "execution_count": 102,
   "metadata": {},
   "outputs": [
    {
     "name": "stdout",
     "output_type": "stream",
     "text": [
      "Epoch 1/30\n",
      "225/225 [==============================] - ETA: 0s - loss: 1.6520 - accuracy: 0.3743"
     ]
    },
    {
     "name": "stderr",
     "output_type": "stream",
     "text": [
      "2022-07-04 15:29:50.950276: W tensorflow/core/common_runtime/bfc_allocator.cc:290] Allocator (GPU_0_bfc) ran out of memory trying to allocate 2.31GiB with freed_by_count=0. The caller indicates that this is not a failure, but this may mean that there could be performance gains if more memory were available.\n",
      "2022-07-04 15:29:50.950319: W tensorflow/core/common_runtime/bfc_allocator.cc:290] Allocator (GPU_0_bfc) ran out of memory trying to allocate 2.31GiB with freed_by_count=0. The caller indicates that this is not a failure, but this may mean that there could be performance gains if more memory were available.\n",
      "2022-07-04 15:29:50.964561: W tensorflow/core/common_runtime/bfc_allocator.cc:290] Allocator (GPU_0_bfc) ran out of memory trying to allocate 2.43GiB with freed_by_count=0. The caller indicates that this is not a failure, but this may mean that there could be performance gains if more memory were available.\n",
      "2022-07-04 15:29:50.964587: W tensorflow/core/common_runtime/bfc_allocator.cc:290] Allocator (GPU_0_bfc) ran out of memory trying to allocate 2.43GiB with freed_by_count=0. The caller indicates that this is not a failure, but this may mean that there could be performance gains if more memory were available.\n"
     ]
    },
    {
     "name": "stdout",
     "output_type": "stream",
     "text": [
      "225/225 [==============================] - 9s 30ms/step - loss: 1.6520 - accuracy: 0.3743 - val_loss: 1.5402 - val_accuracy: 0.4037\n",
      "Epoch 2/30\n",
      "225/225 [==============================] - 6s 26ms/step - loss: 1.4817 - accuracy: 0.4305 - val_loss: 1.4965 - val_accuracy: 0.4205\n",
      "Epoch 3/30\n",
      "225/225 [==============================] - 6s 25ms/step - loss: 1.4114 - accuracy: 0.4607 - val_loss: 1.4814 - val_accuracy: 0.4335\n",
      "Epoch 4/30\n",
      "225/225 [==============================] - 6s 25ms/step - loss: 1.3558 - accuracy: 0.4854 - val_loss: 1.4574 - val_accuracy: 0.4436\n",
      "Epoch 5/30\n",
      "225/225 [==============================] - 6s 26ms/step - loss: 1.3056 - accuracy: 0.5088 - val_loss: 1.4627 - val_accuracy: 0.4436\n",
      "Epoch 6/30\n",
      "225/225 [==============================] - 6s 26ms/step - loss: 1.2558 - accuracy: 0.5278 - val_loss: 1.4587 - val_accuracy: 0.4525\n",
      "Epoch 7/30\n",
      "225/225 [==============================] - 6s 26ms/step - loss: 1.2125 - accuracy: 0.5454 - val_loss: 1.4843 - val_accuracy: 0.4519\n",
      "Epoch 8/30\n",
      "225/225 [==============================] - 6s 26ms/step - loss: 1.1574 - accuracy: 0.5702 - val_loss: 1.4962 - val_accuracy: 0.4503\n",
      "Epoch 9/30\n",
      "225/225 [==============================] - 6s 25ms/step - loss: 1.1103 - accuracy: 0.5890 - val_loss: 1.5406 - val_accuracy: 0.4544\n",
      "Epoch 10/30\n",
      "225/225 [==============================] - 6s 26ms/step - loss: 1.0676 - accuracy: 0.6082 - val_loss: 1.5415 - val_accuracy: 0.4550\n",
      "Epoch 11/30\n",
      "225/225 [==============================] - 6s 27ms/step - loss: 1.0269 - accuracy: 0.6218 - val_loss: 1.5628 - val_accuracy: 0.4597\n",
      "Epoch 12/30\n",
      "225/225 [==============================] - 6s 26ms/step - loss: 0.9771 - accuracy: 0.6428 - val_loss: 1.5978 - val_accuracy: 0.4522\n",
      "Epoch 13/30\n",
      "225/225 [==============================] - 6s 25ms/step - loss: 0.9457 - accuracy: 0.6558 - val_loss: 1.6537 - val_accuracy: 0.4653\n",
      "Epoch 14/30\n",
      "225/225 [==============================] - 6s 25ms/step - loss: 0.8954 - accuracy: 0.6764 - val_loss: 1.6710 - val_accuracy: 0.4723\n",
      "Epoch 15/30\n",
      "225/225 [==============================] - 6s 25ms/step - loss: 0.8663 - accuracy: 0.6867 - val_loss: 1.7292 - val_accuracy: 0.4441\n",
      "Epoch 16/30\n",
      "225/225 [==============================] - 6s 26ms/step - loss: 0.8272 - accuracy: 0.7010 - val_loss: 1.7942 - val_accuracy: 0.4592\n",
      "Epoch 17/30\n",
      "225/225 [==============================] - 6s 26ms/step - loss: 0.7866 - accuracy: 0.7152 - val_loss: 1.8087 - val_accuracy: 0.4600\n",
      "Epoch 18/30\n",
      "225/225 [==============================] - 6s 25ms/step - loss: 0.7549 - accuracy: 0.7304 - val_loss: 1.8613 - val_accuracy: 0.4556\n",
      "Epoch 19/30\n",
      "225/225 [==============================] - 6s 26ms/step - loss: 0.7167 - accuracy: 0.7421 - val_loss: 1.8841 - val_accuracy: 0.4583\n",
      "Epoch 20/30\n",
      "225/225 [==============================] - 6s 26ms/step - loss: 0.6946 - accuracy: 0.7515 - val_loss: 1.9730 - val_accuracy: 0.4480\n",
      "Epoch 21/30\n",
      "225/225 [==============================] - 6s 26ms/step - loss: 0.6598 - accuracy: 0.7641 - val_loss: 1.9904 - val_accuracy: 0.4636\n",
      "Epoch 22/30\n",
      "225/225 [==============================] - 6s 26ms/step - loss: 0.6277 - accuracy: 0.7775 - val_loss: 2.1354 - val_accuracy: 0.4687\n",
      "Epoch 23/30\n",
      "225/225 [==============================] - 6s 26ms/step - loss: 0.6161 - accuracy: 0.7798 - val_loss: 2.1445 - val_accuracy: 0.4480\n",
      "Epoch 24/30\n",
      "225/225 [==============================] - 6s 25ms/step - loss: 0.5825 - accuracy: 0.7954 - val_loss: 2.1611 - val_accuracy: 0.4595\n",
      "Epoch 25/30\n",
      "225/225 [==============================] - 6s 26ms/step - loss: 0.5543 - accuracy: 0.8056 - val_loss: 2.2352 - val_accuracy: 0.4603\n",
      "Epoch 26/30\n",
      "225/225 [==============================] - 6s 26ms/step - loss: 0.5278 - accuracy: 0.8145 - val_loss: 2.3044 - val_accuracy: 0.4595\n",
      "Epoch 27/30\n",
      "225/225 [==============================] - 6s 25ms/step - loss: 0.5041 - accuracy: 0.8285 - val_loss: 2.3657 - val_accuracy: 0.4500\n",
      "Epoch 28/30\n",
      "225/225 [==============================] - 6s 26ms/step - loss: 0.4873 - accuracy: 0.8317 - val_loss: 2.4865 - val_accuracy: 0.4634\n",
      "Epoch 29/30\n",
      "225/225 [==============================] - 6s 25ms/step - loss: 0.4624 - accuracy: 0.8401 - val_loss: 2.5575 - val_accuracy: 0.4352\n",
      "Epoch 30/30\n",
      "225/225 [==============================] - 6s 25ms/step - loss: 0.4456 - accuracy: 0.8454 - val_loss: 2.6105 - val_accuracy: 0.4542\n"
     ]
    },
    {
     "name": "stderr",
     "output_type": "stream",
     "text": [
      "WARNING:absl:Found untraced functions such as _jit_compiled_convolution_op, _jit_compiled_convolution_op, _jit_compiled_convolution_op, _jit_compiled_convolution_op, _jit_compiled_convolution_op while saving (showing 5 of 53). These functions will not be directly callable after loading.\n"
     ]
    },
    {
     "name": "stdout",
     "output_type": "stream",
     "text": [
      "INFO:tensorflow:Assets written to: Models/resnet50/assets\n"
     ]
    },
    {
     "name": "stderr",
     "output_type": "stream",
     "text": [
      "INFO:tensorflow:Assets written to: Models/resnet50/assets\n"
     ]
    }
   ],
   "source": [
    "\n",
    "pretrained_resnet50 = ResNet50(include_top=False,\n",
    "                               input_shape=(48,48,3),\n",
    "                               pooling='avg',classes=len(labels),\n",
    "                               weights='imagenet')\n",
    "\n",
    "resnet50 = transfer_train(pretrained_resnet50, Xtrain_rgb, ytrain_ohe, Xval_rgb, yval_ohe)\n",
    "resnet50.save(\"Models/resnet50\")"
   ]
  },
  {
   "cell_type": "code",
   "execution_count": 103,
   "metadata": {},
   "outputs": [
    {
     "name": "stdout",
     "output_type": "stream",
     "text": [
      "WARNING:tensorflow:`input_shape` is undefined or non-square, or `rows` is not in [96, 128, 160, 192, 224]. Weights for input shape (224, 224) will be loaded as the default.\n"
     ]
    },
    {
     "name": "stderr",
     "output_type": "stream",
     "text": [
      "WARNING:tensorflow:`input_shape` is undefined or non-square, or `rows` is not in [96, 128, 160, 192, 224]. Weights for input shape (224, 224) will be loaded as the default.\n"
     ]
    },
    {
     "name": "stdout",
     "output_type": "stream",
     "text": [
      "Epoch 1/30\n",
      "225/225 [==============================] - 6s 18ms/step - loss: 1.8030 - accuracy: 0.2626 - val_loss: 1.7505 - val_accuracy: 0.2867\n",
      "Epoch 2/30\n",
      "225/225 [==============================] - 3s 14ms/step - loss: 1.7156 - accuracy: 0.3032 - val_loss: 1.7364 - val_accuracy: 0.2948\n",
      "Epoch 3/30\n",
      "225/225 [==============================] - 3s 14ms/step - loss: 1.6898 - accuracy: 0.3190 - val_loss: 1.7359 - val_accuracy: 0.2926\n",
      "Epoch 4/30\n",
      "225/225 [==============================] - 3s 14ms/step - loss: 1.6671 - accuracy: 0.3284 - val_loss: 1.7193 - val_accuracy: 0.3051\n",
      "Epoch 5/30\n",
      "225/225 [==============================] - 3s 15ms/step - loss: 1.6522 - accuracy: 0.3403 - val_loss: 1.7265 - val_accuracy: 0.2895\n",
      "Epoch 6/30\n",
      "225/225 [==============================] - 3s 15ms/step - loss: 1.6364 - accuracy: 0.3457 - val_loss: 1.7203 - val_accuracy: 0.3012\n",
      "Epoch 7/30\n",
      "225/225 [==============================] - 3s 14ms/step - loss: 1.6206 - accuracy: 0.3559 - val_loss: 1.7142 - val_accuracy: 0.3090\n",
      "Epoch 8/30\n",
      "225/225 [==============================] - 3s 14ms/step - loss: 1.6050 - accuracy: 0.3641 - val_loss: 1.7402 - val_accuracy: 0.3031\n",
      "Epoch 9/30\n",
      "225/225 [==============================] - 3s 14ms/step - loss: 1.5936 - accuracy: 0.3719 - val_loss: 1.7224 - val_accuracy: 0.3096\n",
      "Epoch 10/30\n",
      "225/225 [==============================] - 3s 14ms/step - loss: 1.5774 - accuracy: 0.3752 - val_loss: 1.7283 - val_accuracy: 0.3070\n",
      "Epoch 11/30\n",
      "225/225 [==============================] - 3s 14ms/step - loss: 1.5551 - accuracy: 0.3886 - val_loss: 1.7317 - val_accuracy: 0.3107\n",
      "Epoch 12/30\n",
      "225/225 [==============================] - 3s 14ms/step - loss: 1.5443 - accuracy: 0.3932 - val_loss: 1.7376 - val_accuracy: 0.3101\n",
      "Epoch 13/30\n",
      "225/225 [==============================] - 3s 14ms/step - loss: 1.5370 - accuracy: 0.3955 - val_loss: 1.7413 - val_accuracy: 0.3090\n",
      "Epoch 14/30\n",
      "225/225 [==============================] - 3s 14ms/step - loss: 1.5203 - accuracy: 0.4044 - val_loss: 1.7518 - val_accuracy: 0.3126\n",
      "Epoch 15/30\n",
      "225/225 [==============================] - 3s 14ms/step - loss: 1.5009 - accuracy: 0.4139 - val_loss: 1.7495 - val_accuracy: 0.3065\n",
      "Epoch 16/30\n",
      "225/225 [==============================] - 3s 14ms/step - loss: 1.4853 - accuracy: 0.4198 - val_loss: 1.7739 - val_accuracy: 0.3068\n",
      "Epoch 17/30\n",
      "225/225 [==============================] - 3s 14ms/step - loss: 1.4728 - accuracy: 0.4211 - val_loss: 1.7707 - val_accuracy: 0.3171\n",
      "Epoch 18/30\n",
      "225/225 [==============================] - 3s 14ms/step - loss: 1.4541 - accuracy: 0.4328 - val_loss: 1.7791 - val_accuracy: 0.3054\n",
      "Epoch 19/30\n",
      "225/225 [==============================] - 3s 15ms/step - loss: 1.4400 - accuracy: 0.4408 - val_loss: 1.7913 - val_accuracy: 0.3082\n",
      "Epoch 20/30\n",
      "225/225 [==============================] - 3s 14ms/step - loss: 1.4196 - accuracy: 0.4474 - val_loss: 1.7966 - val_accuracy: 0.3232\n",
      "Epoch 21/30\n",
      "225/225 [==============================] - 3s 14ms/step - loss: 1.4051 - accuracy: 0.4557 - val_loss: 1.8325 - val_accuracy: 0.3070\n",
      "Epoch 22/30\n",
      "225/225 [==============================] - 3s 15ms/step - loss: 1.3903 - accuracy: 0.4617 - val_loss: 1.8148 - val_accuracy: 0.3121\n",
      "Epoch 23/30\n",
      "225/225 [==============================] - 3s 15ms/step - loss: 1.3769 - accuracy: 0.4669 - val_loss: 1.8649 - val_accuracy: 0.3043\n",
      "Epoch 24/30\n",
      "225/225 [==============================] - 3s 14ms/step - loss: 1.3564 - accuracy: 0.4748 - val_loss: 1.8777 - val_accuracy: 0.3009\n",
      "Epoch 25/30\n",
      "225/225 [==============================] - 3s 14ms/step - loss: 1.3418 - accuracy: 0.4827 - val_loss: 1.8768 - val_accuracy: 0.3043\n",
      "Epoch 26/30\n",
      "225/225 [==============================] - 3s 14ms/step - loss: 1.3323 - accuracy: 0.4871 - val_loss: 1.8795 - val_accuracy: 0.3090\n",
      "Epoch 27/30\n",
      "225/225 [==============================] - 3s 14ms/step - loss: 1.3161 - accuracy: 0.4966 - val_loss: 1.9014 - val_accuracy: 0.3149\n",
      "Epoch 28/30\n",
      "225/225 [==============================] - 3s 15ms/step - loss: 1.2956 - accuracy: 0.5036 - val_loss: 1.9541 - val_accuracy: 0.2979\n",
      "Epoch 29/30\n",
      "225/225 [==============================] - 3s 14ms/step - loss: 1.2814 - accuracy: 0.5114 - val_loss: 1.9313 - val_accuracy: 0.3093\n",
      "Epoch 30/30\n",
      "225/225 [==============================] - 3s 14ms/step - loss: 1.2756 - accuracy: 0.5131 - val_loss: 1.9466 - val_accuracy: 0.3093\n"
     ]
    },
    {
     "name": "stderr",
     "output_type": "stream",
     "text": [
      "WARNING:absl:Function `_wrapped_model` contains input name(s) mobilenetv2_1.00_224_input with unsupported characters which will be renamed to mobilenetv2_1_00_224_input in the SavedModel.\n",
      "WARNING:absl:Found untraced functions such as _jit_compiled_convolution_op, _jit_compiled_convolution_op, _jit_compiled_convolution_op, _jit_compiled_convolution_op, _jit_compiled_convolution_op while saving (showing 5 of 52). These functions will not be directly callable after loading.\n"
     ]
    },
    {
     "name": "stdout",
     "output_type": "stream",
     "text": [
      "INFO:tensorflow:Assets written to: Models/mobilenet/assets\n"
     ]
    },
    {
     "name": "stderr",
     "output_type": "stream",
     "text": [
      "INFO:tensorflow:Assets written to: Models/mobilenet/assets\n"
     ]
    }
   ],
   "source": [
    "pretrained_mobilenet = MobileNetV2(include_top=False,\n",
    "                               input_shape=(48,48,3),\n",
    "                               pooling='avg',classes=len(labels),\n",
    "                               weights='imagenet')\n",
    "\n",
    "mobilenet = transfer_train(pretrained_mobilenet, Xtrain_rgb, ytrain_ohe, Xval_rgb, yval_ohe)\n",
    "mobilenet.save(\"Models/mobilenet\")"
   ]
  },
  {
   "cell_type": "code",
   "execution_count": 104,
   "metadata": {},
   "outputs": [
    {
     "name": "stdout",
     "output_type": "stream",
     "text": [
      "Epoch 1/30\n",
      "225/225 [==============================] - 9s 37ms/step - loss: 5.4351 - accuracy: 0.2818 - val_loss: 2.8940 - val_accuracy: 0.3215\n",
      "Epoch 2/30\n",
      "225/225 [==============================] - 8s 34ms/step - loss: 2.3393 - accuracy: 0.3482 - val_loss: 2.2685 - val_accuracy: 0.3458\n",
      "Epoch 3/30\n",
      "225/225 [==============================] - 8s 34ms/step - loss: 1.8228 - accuracy: 0.3842 - val_loss: 1.9062 - val_accuracy: 0.3711\n",
      "Epoch 4/30\n",
      "225/225 [==============================] - 8s 34ms/step - loss: 1.6115 - accuracy: 0.4184 - val_loss: 1.7977 - val_accuracy: 0.3728\n",
      "Epoch 5/30\n",
      "225/225 [==============================] - 8s 34ms/step - loss: 1.4996 - accuracy: 0.4471 - val_loss: 1.7746 - val_accuracy: 0.3926\n",
      "Epoch 6/30\n",
      "225/225 [==============================] - 8s 34ms/step - loss: 1.4342 - accuracy: 0.4637 - val_loss: 1.7441 - val_accuracy: 0.3709\n",
      "Epoch 7/30\n",
      "225/225 [==============================] - 8s 34ms/step - loss: 1.3743 - accuracy: 0.4835 - val_loss: 1.7312 - val_accuracy: 0.3842\n",
      "Epoch 8/30\n",
      "225/225 [==============================] - 8s 34ms/step - loss: 1.3383 - accuracy: 0.4996 - val_loss: 1.7141 - val_accuracy: 0.3898\n",
      "Epoch 9/30\n",
      "225/225 [==============================] - 8s 34ms/step - loss: 1.3043 - accuracy: 0.5089 - val_loss: 1.7045 - val_accuracy: 0.4040\n",
      "Epoch 10/30\n",
      "225/225 [==============================] - 8s 34ms/step - loss: 1.2682 - accuracy: 0.5236 - val_loss: 1.7697 - val_accuracy: 0.3940\n",
      "Epoch 11/30\n",
      "225/225 [==============================] - 8s 34ms/step - loss: 1.2521 - accuracy: 0.5314 - val_loss: 1.7242 - val_accuracy: 0.4057\n",
      "Epoch 12/30\n",
      "225/225 [==============================] - 8s 34ms/step - loss: 1.2215 - accuracy: 0.5429 - val_loss: 1.7258 - val_accuracy: 0.4048\n",
      "Epoch 13/30\n",
      "225/225 [==============================] - 8s 34ms/step - loss: 1.1954 - accuracy: 0.5519 - val_loss: 1.7795 - val_accuracy: 0.3998\n",
      "Epoch 14/30\n",
      "225/225 [==============================] - 8s 34ms/step - loss: 1.1830 - accuracy: 0.5588 - val_loss: 1.7705 - val_accuracy: 0.3979\n",
      "Epoch 15/30\n",
      "225/225 [==============================] - 8s 34ms/step - loss: 1.1603 - accuracy: 0.5685 - val_loss: 1.8274 - val_accuracy: 0.4051\n",
      "Epoch 16/30\n",
      "225/225 [==============================] - 8s 34ms/step - loss: 1.1366 - accuracy: 0.5783 - val_loss: 1.8252 - val_accuracy: 0.4110\n",
      "Epoch 17/30\n",
      "225/225 [==============================] - 8s 34ms/step - loss: 1.1200 - accuracy: 0.5804 - val_loss: 1.8650 - val_accuracy: 0.4040\n",
      "Epoch 18/30\n",
      "225/225 [==============================] - 8s 35ms/step - loss: 1.1009 - accuracy: 0.5859 - val_loss: 1.8702 - val_accuracy: 0.4126\n",
      "Epoch 19/30\n",
      "225/225 [==============================] - 8s 35ms/step - loss: 1.0726 - accuracy: 0.6007 - val_loss: 1.9043 - val_accuracy: 0.4154\n",
      "Epoch 20/30\n",
      "225/225 [==============================] - 8s 35ms/step - loss: 1.0610 - accuracy: 0.6049 - val_loss: 1.9432 - val_accuracy: 0.4082\n",
      "Epoch 21/30\n",
      "225/225 [==============================] - 8s 34ms/step - loss: 1.0401 - accuracy: 0.6126 - val_loss: 1.9426 - val_accuracy: 0.4241\n",
      "Epoch 22/30\n",
      "225/225 [==============================] - 8s 34ms/step - loss: 1.0220 - accuracy: 0.6181 - val_loss: 2.0095 - val_accuracy: 0.4210\n",
      "Epoch 23/30\n",
      "225/225 [==============================] - 8s 34ms/step - loss: 1.0082 - accuracy: 0.6249 - val_loss: 2.0251 - val_accuracy: 0.4230\n",
      "Epoch 24/30\n",
      "225/225 [==============================] - 8s 34ms/step - loss: 0.9980 - accuracy: 0.6249 - val_loss: 2.0249 - val_accuracy: 0.4235\n",
      "Epoch 25/30\n",
      "225/225 [==============================] - 8s 34ms/step - loss: 0.9764 - accuracy: 0.6361 - val_loss: 2.0869 - val_accuracy: 0.4085\n",
      "Epoch 26/30\n",
      "225/225 [==============================] - 8s 35ms/step - loss: 0.9657 - accuracy: 0.6419 - val_loss: 2.1457 - val_accuracy: 0.4001\n",
      "Epoch 27/30\n",
      "225/225 [==============================] - 8s 35ms/step - loss: 0.9483 - accuracy: 0.6494 - val_loss: 2.1736 - val_accuracy: 0.4171\n",
      "Epoch 28/30\n",
      "225/225 [==============================] - 8s 35ms/step - loss: 0.9404 - accuracy: 0.6504 - val_loss: 2.2283 - val_accuracy: 0.4104\n",
      "Epoch 29/30\n",
      "225/225 [==============================] - 8s 34ms/step - loss: 0.9174 - accuracy: 0.6598 - val_loss: 2.2341 - val_accuracy: 0.4171\n",
      "Epoch 30/30\n",
      "225/225 [==============================] - 8s 34ms/step - loss: 0.9021 - accuracy: 0.6669 - val_loss: 2.2912 - val_accuracy: 0.4257\n"
     ]
    },
    {
     "name": "stderr",
     "output_type": "stream",
     "text": [
      "WARNING:absl:Found untraced functions such as _jit_compiled_convolution_op, _jit_compiled_convolution_op, _jit_compiled_convolution_op, _jit_compiled_convolution_op, _jit_compiled_convolution_op while saving (showing 5 of 16). These functions will not be directly callable after loading.\n"
     ]
    },
    {
     "name": "stdout",
     "output_type": "stream",
     "text": [
      "INFO:tensorflow:Assets written to: Models/vgg19/assets\n"
     ]
    },
    {
     "name": "stderr",
     "output_type": "stream",
     "text": [
      "INFO:tensorflow:Assets written to: Models/vgg19/assets\n"
     ]
    }
   ],
   "source": [
    "pretrained_vgg19 = VGG19(include_top=False,\n",
    "                               input_shape=(48,48,3),\n",
    "                               pooling='avg',classes=len(labels),\n",
    "                               weights='imagenet')\n",
    "\n",
    "vgg19 = transfer_train(pretrained_vgg19, Xtrain_rgb, ytrain_ohe, Xval_rgb, yval_ohe)\n",
    "vgg19.save('Models/vgg19')"
   ]
  },
  {
   "cell_type": "code",
   "execution_count": 105,
   "metadata": {},
   "outputs": [
    {
     "name": "stdout",
     "output_type": "stream",
     "text": [
      "Epoch 1/30\n",
      "225/225 [==============================] - 8s 35ms/step - loss: 5.0372 - accuracy: 0.2759 - val_loss: 2.7334 - val_accuracy: 0.2984\n",
      "Epoch 2/30\n",
      "225/225 [==============================] - 8s 35ms/step - loss: 2.1725 - accuracy: 0.3369 - val_loss: 1.9640 - val_accuracy: 0.3458\n",
      "Epoch 3/30\n",
      "225/225 [==============================] - 8s 35ms/step - loss: 1.7132 - accuracy: 0.3855 - val_loss: 1.8215 - val_accuracy: 0.3477\n",
      "Epoch 4/30\n",
      "225/225 [==============================] - 8s 35ms/step - loss: 1.5548 - accuracy: 0.4190 - val_loss: 1.6909 - val_accuracy: 0.3728\n",
      "Epoch 5/30\n",
      "225/225 [==============================] - 8s 35ms/step - loss: 1.4632 - accuracy: 0.4485 - val_loss: 1.6725 - val_accuracy: 0.3892\n",
      "Epoch 6/30\n",
      "225/225 [==============================] - 8s 35ms/step - loss: 1.4095 - accuracy: 0.4641 - val_loss: 1.6554 - val_accuracy: 0.3929\n",
      "Epoch 7/30\n",
      "225/225 [==============================] - 8s 35ms/step - loss: 1.3678 - accuracy: 0.4816 - val_loss: 1.6490 - val_accuracy: 0.3965\n",
      "Epoch 8/30\n",
      "225/225 [==============================] - 8s 35ms/step - loss: 1.3355 - accuracy: 0.4931 - val_loss: 1.6546 - val_accuracy: 0.3881\n",
      "Epoch 9/30\n",
      "225/225 [==============================] - 8s 35ms/step - loss: 1.3055 - accuracy: 0.5017 - val_loss: 1.6455 - val_accuracy: 0.4076\n",
      "Epoch 10/30\n",
      "225/225 [==============================] - 8s 35ms/step - loss: 1.2765 - accuracy: 0.5170 - val_loss: 1.6937 - val_accuracy: 0.3887\n",
      "Epoch 11/30\n",
      "225/225 [==============================] - 8s 35ms/step - loss: 1.2513 - accuracy: 0.5269 - val_loss: 1.6970 - val_accuracy: 0.3990\n",
      "Epoch 12/30\n",
      "225/225 [==============================] - 8s 35ms/step - loss: 1.2255 - accuracy: 0.5357 - val_loss: 1.6966 - val_accuracy: 0.4029\n",
      "Epoch 13/30\n",
      "225/225 [==============================] - 8s 35ms/step - loss: 1.2065 - accuracy: 0.5464 - val_loss: 1.7326 - val_accuracy: 0.4074\n",
      "Epoch 14/30\n",
      "225/225 [==============================] - 8s 35ms/step - loss: 1.1797 - accuracy: 0.5568 - val_loss: 1.7449 - val_accuracy: 0.4140\n",
      "Epoch 15/30\n",
      "225/225 [==============================] - 8s 35ms/step - loss: 1.1608 - accuracy: 0.5642 - val_loss: 1.7740 - val_accuracy: 0.4099\n",
      "Epoch 16/30\n",
      "225/225 [==============================] - 8s 34ms/step - loss: 1.1342 - accuracy: 0.5736 - val_loss: 1.8053 - val_accuracy: 0.4037\n",
      "Epoch 17/30\n",
      "225/225 [==============================] - 8s 35ms/step - loss: 1.1213 - accuracy: 0.5814 - val_loss: 1.8496 - val_accuracy: 0.4099\n",
      "Epoch 18/30\n",
      "225/225 [==============================] - 8s 34ms/step - loss: 1.1018 - accuracy: 0.5873 - val_loss: 1.8846 - val_accuracy: 0.4154\n",
      "Epoch 19/30\n",
      "225/225 [==============================] - 8s 35ms/step - loss: 1.0781 - accuracy: 0.5948 - val_loss: 1.8975 - val_accuracy: 0.4093\n",
      "Epoch 20/30\n",
      "225/225 [==============================] - 8s 35ms/step - loss: 1.0642 - accuracy: 0.6011 - val_loss: 1.9548 - val_accuracy: 0.4118\n",
      "Epoch 21/30\n",
      "225/225 [==============================] - 8s 35ms/step - loss: 1.0441 - accuracy: 0.6076 - val_loss: 2.0111 - val_accuracy: 0.3982\n",
      "Epoch 22/30\n",
      "225/225 [==============================] - 8s 35ms/step - loss: 1.0231 - accuracy: 0.6197 - val_loss: 2.0167 - val_accuracy: 0.4074\n",
      "Epoch 23/30\n",
      "225/225 [==============================] - 8s 34ms/step - loss: 1.0038 - accuracy: 0.6261 - val_loss: 2.0685 - val_accuracy: 0.4135\n",
      "Epoch 24/30\n",
      "225/225 [==============================] - 8s 34ms/step - loss: 0.9864 - accuracy: 0.6315 - val_loss: 2.1225 - val_accuracy: 0.4174\n",
      "Epoch 25/30\n",
      "225/225 [==============================] - 8s 34ms/step - loss: 0.9666 - accuracy: 0.6377 - val_loss: 2.1442 - val_accuracy: 0.4087\n",
      "Epoch 26/30\n",
      "225/225 [==============================] - 8s 34ms/step - loss: 0.9597 - accuracy: 0.6428 - val_loss: 2.1903 - val_accuracy: 0.4207\n",
      "Epoch 27/30\n",
      "225/225 [==============================] - 8s 34ms/step - loss: 0.9428 - accuracy: 0.6505 - val_loss: 2.3024 - val_accuracy: 0.4121\n",
      "Epoch 28/30\n",
      "225/225 [==============================] - 8s 35ms/step - loss: 0.9208 - accuracy: 0.6587 - val_loss: 2.3015 - val_accuracy: 0.4166\n",
      "Epoch 29/30\n",
      "225/225 [==============================] - 8s 34ms/step - loss: 0.9179 - accuracy: 0.6581 - val_loss: 2.3582 - val_accuracy: 0.4085\n",
      "Epoch 30/30\n",
      "225/225 [==============================] - 8s 35ms/step - loss: 0.9050 - accuracy: 0.6629 - val_loss: 2.3966 - val_accuracy: 0.4154\n"
     ]
    },
    {
     "name": "stderr",
     "output_type": "stream",
     "text": [
      "WARNING:absl:Found untraced functions such as _jit_compiled_convolution_op, _jit_compiled_convolution_op, _jit_compiled_convolution_op, _jit_compiled_convolution_op, _jit_compiled_convolution_op while saving (showing 5 of 16). These functions will not be directly callable after loading.\n"
     ]
    },
    {
     "name": "stdout",
     "output_type": "stream",
     "text": [
      "INFO:tensorflow:Assets written to: Models/efficientNet/assets\n"
     ]
    },
    {
     "name": "stderr",
     "output_type": "stream",
     "text": [
      "INFO:tensorflow:Assets written to: Models/efficientNet/assets\n"
     ]
    }
   ],
   "source": [
    "pretrained_EfficientNetV2L= EfficientNetV2L(include_top=False,\n",
    "                               input_shape=(48,48,3),\n",
    "                               pooling='avg',classes=len(labels),\n",
    "                               weights='imagenet')\n",
    "\n",
    "efficientNetV2L = transfer_train(pretrained_vgg19, Xtrain_rgb, ytrain_ohe, Xval_rgb, yval_ohe)\n",
    "efficientNetV2L.save('Models/efficientNet')"
   ]
  },
  {
   "cell_type": "markdown",
   "metadata": {},
   "source": [
    "##### Augmentation:"
   ]
  },
  {
   "cell_type": "code",
   "execution_count": 12,
   "metadata": {},
   "outputs": [
    {
     "name": "stderr",
     "output_type": "stream",
     "text": [
      "2022-07-04 15:59:39.061469: W tensorflow/core/framework/cpu_allocator_impl.cc:82] Allocation of 1587492864 exceeds 10% of free system memory.\n",
      "2022-07-04 15:59:39.713533: W tensorflow/core/framework/cpu_allocator_impl.cc:82] Allocation of 1587492864 exceeds 10% of free system memory.\n"
     ]
    }
   ],
   "source": [
    "Xtrain_rgb_augment = augment_data(Xtrain_rgb, ytrain_ohe, (48, 48))"
   ]
  },
  {
   "cell_type": "code",
   "execution_count": 13,
   "metadata": {},
   "outputs": [
    {
     "name": "stdout",
     "output_type": "stream",
     "text": [
      "Epoch 1/30\n"
     ]
    },
    {
     "name": "stderr",
     "output_type": "stream",
     "text": [
      "2022-07-04 15:59:50.049053: I tensorflow/stream_executor/cuda/cuda_dnn.cc:384] Loaded cuDNN version 8401\n"
     ]
    },
    {
     "name": "stdout",
     "output_type": "stream",
     "text": [
      "225/225 [==============================] - 10s 30ms/step - loss: 1.6354 - accuracy: 0.3769 - val_loss: 1.5242 - val_accuracy: 0.4037\n",
      "Epoch 2/30\n",
      "225/225 [==============================] - 6s 25ms/step - loss: 1.4766 - accuracy: 0.4352 - val_loss: 1.5119 - val_accuracy: 0.4168\n",
      "Epoch 3/30\n",
      "225/225 [==============================] - 6s 25ms/step - loss: 1.4122 - accuracy: 0.4628 - val_loss: 1.4839 - val_accuracy: 0.4344\n",
      "Epoch 4/30\n",
      "225/225 [==============================] - 6s 26ms/step - loss: 1.3614 - accuracy: 0.4805 - val_loss: 1.4542 - val_accuracy: 0.4397\n",
      "Epoch 5/30\n",
      "225/225 [==============================] - 6s 25ms/step - loss: 1.3169 - accuracy: 0.5021 - val_loss: 1.4791 - val_accuracy: 0.4377\n",
      "Epoch 6/30\n",
      "225/225 [==============================] - 6s 25ms/step - loss: 1.2686 - accuracy: 0.5205 - val_loss: 1.4571 - val_accuracy: 0.4592\n",
      "Epoch 7/30\n",
      "225/225 [==============================] - 6s 25ms/step - loss: 1.2232 - accuracy: 0.5397 - val_loss: 1.4592 - val_accuracy: 0.4539\n",
      "Epoch 8/30\n",
      "225/225 [==============================] - 6s 26ms/step - loss: 1.1867 - accuracy: 0.5554 - val_loss: 1.4944 - val_accuracy: 0.4472\n",
      "Epoch 9/30\n",
      "225/225 [==============================] - 6s 25ms/step - loss: 1.1453 - accuracy: 0.5729 - val_loss: 1.5051 - val_accuracy: 0.4547\n",
      "Epoch 10/30\n",
      "225/225 [==============================] - 6s 25ms/step - loss: 1.0930 - accuracy: 0.5978 - val_loss: 1.5040 - val_accuracy: 0.4681\n",
      "Epoch 11/30\n",
      "225/225 [==============================] - 6s 25ms/step - loss: 1.0497 - accuracy: 0.6092 - val_loss: 1.5742 - val_accuracy: 0.4597\n",
      "Epoch 12/30\n",
      "225/225 [==============================] - 6s 26ms/step - loss: 1.0095 - accuracy: 0.6266 - val_loss: 1.6131 - val_accuracy: 0.4611\n",
      "Epoch 13/30\n",
      "225/225 [==============================] - 6s 25ms/step - loss: 0.9716 - accuracy: 0.6431 - val_loss: 1.6284 - val_accuracy: 0.4597\n",
      "Epoch 14/30\n",
      "225/225 [==============================] - 6s 25ms/step - loss: 0.9293 - accuracy: 0.6593 - val_loss: 1.6461 - val_accuracy: 0.4583\n",
      "Epoch 15/30\n",
      "225/225 [==============================] - 6s 26ms/step - loss: 0.8907 - accuracy: 0.6768 - val_loss: 1.6889 - val_accuracy: 0.4550\n",
      "Epoch 16/30\n",
      "225/225 [==============================] - 6s 26ms/step - loss: 0.8618 - accuracy: 0.6821 - val_loss: 1.7494 - val_accuracy: 0.4606\n",
      "Epoch 17/30\n",
      "225/225 [==============================] - 6s 26ms/step - loss: 0.8277 - accuracy: 0.7019 - val_loss: 1.7795 - val_accuracy: 0.4589\n",
      "Epoch 18/30\n",
      "225/225 [==============================] - 6s 25ms/step - loss: 0.7873 - accuracy: 0.7175 - val_loss: 1.8248 - val_accuracy: 0.4603\n",
      "Epoch 19/30\n",
      "225/225 [==============================] - 6s 26ms/step - loss: 0.7551 - accuracy: 0.7256 - val_loss: 1.9393 - val_accuracy: 0.4508\n",
      "Epoch 20/30\n",
      "225/225 [==============================] - 6s 26ms/step - loss: 0.7380 - accuracy: 0.7323 - val_loss: 1.9260 - val_accuracy: 0.4578\n",
      "Epoch 21/30\n",
      "225/225 [==============================] - 6s 26ms/step - loss: 0.6983 - accuracy: 0.7493 - val_loss: 2.0126 - val_accuracy: 0.4494\n",
      "Epoch 22/30\n",
      "225/225 [==============================] - 6s 25ms/step - loss: 0.6742 - accuracy: 0.7593 - val_loss: 2.0423 - val_accuracy: 0.4494\n",
      "Epoch 23/30\n",
      "225/225 [==============================] - 6s 26ms/step - loss: 0.6487 - accuracy: 0.7680 - val_loss: 2.1370 - val_accuracy: 0.4505\n",
      "Epoch 24/30\n",
      "225/225 [==============================] - 6s 25ms/step - loss: 0.6174 - accuracy: 0.7828 - val_loss: 2.1533 - val_accuracy: 0.4592\n",
      "Epoch 25/30\n",
      "225/225 [==============================] - 6s 26ms/step - loss: 0.5918 - accuracy: 0.7878 - val_loss: 2.2233 - val_accuracy: 0.4553\n",
      "Epoch 26/30\n",
      "225/225 [==============================] - 6s 26ms/step - loss: 0.5745 - accuracy: 0.7986 - val_loss: 2.3131 - val_accuracy: 0.4333\n",
      "Epoch 27/30\n",
      "225/225 [==============================] - 6s 26ms/step - loss: 0.5583 - accuracy: 0.8031 - val_loss: 2.3579 - val_accuracy: 0.4572\n",
      "Epoch 28/30\n",
      "225/225 [==============================] - 6s 26ms/step - loss: 0.5211 - accuracy: 0.8183 - val_loss: 2.4143 - val_accuracy: 0.4436\n",
      "Epoch 29/30\n",
      "225/225 [==============================] - 6s 26ms/step - loss: 0.5046 - accuracy: 0.8227 - val_loss: 2.4949 - val_accuracy: 0.4581\n",
      "Epoch 30/30\n",
      "225/225 [==============================] - 6s 25ms/step - loss: 0.4925 - accuracy: 0.8275 - val_loss: 2.5834 - val_accuracy: 0.4497\n"
     ]
    },
    {
     "name": "stderr",
     "output_type": "stream",
     "text": [
      "WARNING:absl:Found untraced functions such as _jit_compiled_convolution_op, _jit_compiled_convolution_op, _jit_compiled_convolution_op, _jit_compiled_convolution_op, _jit_compiled_convolution_op while saving (showing 5 of 53). These functions will not be directly callable after loading.\n"
     ]
    },
    {
     "name": "stdout",
     "output_type": "stream",
     "text": [
      "INFO:tensorflow:Assets written to: Models/resnet50_augment/assets\n"
     ]
    },
    {
     "name": "stderr",
     "output_type": "stream",
     "text": [
      "INFO:tensorflow:Assets written to: Models/resnet50_augment/assets\n"
     ]
    }
   ],
   "source": [
    "pretrained_resnet50 = ResNet50(include_top=False,\n",
    "                               input_shape=(48,48,3),\n",
    "                               pooling='avg',classes=len(labels),\n",
    "                               weights='imagenet')\n",
    "\n",
    "resnet50 = transfer_train(pretrained_resnet50, Xtrain_rgb_augment, ytrain_ohe, Xval_rgb, yval_ohe)\n",
    "resnet50.save(\"Models/resnet50_augment\")"
   ]
  },
  {
   "cell_type": "code",
   "execution_count": 14,
   "metadata": {},
   "outputs": [
    {
     "name": "stdout",
     "output_type": "stream",
     "text": [
      "WARNING:tensorflow:`input_shape` is undefined or non-square, or `rows` is not in [96, 128, 160, 192, 224]. Weights for input shape (224, 224) will be loaded as the default.\n"
     ]
    },
    {
     "name": "stderr",
     "output_type": "stream",
     "text": [
      "WARNING:tensorflow:`input_shape` is undefined or non-square, or `rows` is not in [96, 128, 160, 192, 224]. Weights for input shape (224, 224) will be loaded as the default.\n"
     ]
    },
    {
     "name": "stdout",
     "output_type": "stream",
     "text": [
      "Epoch 1/30\n",
      "225/225 [==============================] - 6s 19ms/step - loss: 1.7950 - accuracy: 0.2676 - val_loss: 1.7637 - val_accuracy: 0.2731\n",
      "Epoch 2/30\n",
      "225/225 [==============================] - 3s 14ms/step - loss: 1.7208 - accuracy: 0.2993 - val_loss: 1.7394 - val_accuracy: 0.2967\n",
      "Epoch 3/30\n",
      "225/225 [==============================] - 3s 14ms/step - loss: 1.6962 - accuracy: 0.3142 - val_loss: 1.7481 - val_accuracy: 0.2906\n",
      "Epoch 4/30\n",
      "225/225 [==============================] - 3s 14ms/step - loss: 1.6701 - accuracy: 0.3318 - val_loss: 1.7206 - val_accuracy: 0.3098\n",
      "Epoch 5/30\n",
      "225/225 [==============================] - 4s 16ms/step - loss: 1.6569 - accuracy: 0.3374 - val_loss: 1.7127 - val_accuracy: 0.3040\n",
      "Epoch 6/30\n",
      "225/225 [==============================] - 3s 15ms/step - loss: 1.6397 - accuracy: 0.3456 - val_loss: 1.7217 - val_accuracy: 0.3076\n",
      "Epoch 7/30\n",
      "225/225 [==============================] - 3s 14ms/step - loss: 1.6282 - accuracy: 0.3493 - val_loss: 1.7191 - val_accuracy: 0.3118\n",
      "Epoch 8/30\n",
      "225/225 [==============================] - 3s 14ms/step - loss: 1.6107 - accuracy: 0.3588 - val_loss: 1.7237 - val_accuracy: 0.3107\n",
      "Epoch 9/30\n",
      "225/225 [==============================] - 3s 14ms/step - loss: 1.5992 - accuracy: 0.3670 - val_loss: 1.7366 - val_accuracy: 0.3082\n",
      "Epoch 10/30\n",
      "225/225 [==============================] - 3s 14ms/step - loss: 1.5817 - accuracy: 0.3768 - val_loss: 1.7250 - val_accuracy: 0.3112\n",
      "Epoch 11/30\n",
      "225/225 [==============================] - 3s 14ms/step - loss: 1.5684 - accuracy: 0.3809 - val_loss: 1.7337 - val_accuracy: 0.3126\n",
      "Epoch 12/30\n",
      "225/225 [==============================] - 3s 14ms/step - loss: 1.5564 - accuracy: 0.3854 - val_loss: 1.7451 - val_accuracy: 0.3093\n",
      "Epoch 13/30\n",
      "225/225 [==============================] - 3s 15ms/step - loss: 1.5400 - accuracy: 0.3961 - val_loss: 1.7593 - val_accuracy: 0.3031\n",
      "Epoch 14/30\n",
      "225/225 [==============================] - 3s 14ms/step - loss: 1.5253 - accuracy: 0.4008 - val_loss: 1.7427 - val_accuracy: 0.3129\n",
      "Epoch 15/30\n",
      "225/225 [==============================] - 3s 15ms/step - loss: 1.5125 - accuracy: 0.4083 - val_loss: 1.7650 - val_accuracy: 0.2948\n",
      "Epoch 16/30\n",
      "225/225 [==============================] - 3s 15ms/step - loss: 1.4971 - accuracy: 0.4122 - val_loss: 1.7723 - val_accuracy: 0.3059\n",
      "Epoch 17/30\n",
      "225/225 [==============================] - 3s 14ms/step - loss: 1.4807 - accuracy: 0.4207 - val_loss: 1.7716 - val_accuracy: 0.3037\n",
      "Epoch 18/30\n",
      "225/225 [==============================] - 3s 14ms/step - loss: 1.4633 - accuracy: 0.4286 - val_loss: 1.7716 - val_accuracy: 0.3132\n",
      "Epoch 19/30\n",
      "225/225 [==============================] - 3s 14ms/step - loss: 1.4506 - accuracy: 0.4357 - val_loss: 1.7826 - val_accuracy: 0.3098\n",
      "Epoch 20/30\n",
      "225/225 [==============================] - 3s 15ms/step - loss: 1.4324 - accuracy: 0.4432 - val_loss: 1.7988 - val_accuracy: 0.3107\n",
      "Epoch 21/30\n",
      "225/225 [==============================] - 3s 14ms/step - loss: 1.4170 - accuracy: 0.4459 - val_loss: 1.8105 - val_accuracy: 0.2995\n",
      "Epoch 22/30\n",
      "225/225 [==============================] - 3s 14ms/step - loss: 1.4063 - accuracy: 0.4548 - val_loss: 1.8334 - val_accuracy: 0.3076\n",
      "Epoch 23/30\n",
      "225/225 [==============================] - 3s 14ms/step - loss: 1.3851 - accuracy: 0.4628 - val_loss: 1.8191 - val_accuracy: 0.3101\n",
      "Epoch 24/30\n",
      "225/225 [==============================] - 3s 14ms/step - loss: 1.3762 - accuracy: 0.4671 - val_loss: 1.8363 - val_accuracy: 0.2987\n",
      "Epoch 25/30\n",
      "225/225 [==============================] - 3s 14ms/step - loss: 1.3627 - accuracy: 0.4745 - val_loss: 1.8595 - val_accuracy: 0.3057\n",
      "Epoch 26/30\n",
      "225/225 [==============================] - 3s 14ms/step - loss: 1.3444 - accuracy: 0.4807 - val_loss: 1.8663 - val_accuracy: 0.3026\n",
      "Epoch 27/30\n",
      "225/225 [==============================] - 3s 14ms/step - loss: 1.3279 - accuracy: 0.4864 - val_loss: 1.8773 - val_accuracy: 0.3051\n",
      "Epoch 28/30\n",
      "225/225 [==============================] - 3s 14ms/step - loss: 1.3184 - accuracy: 0.4921 - val_loss: 1.9114 - val_accuracy: 0.2984\n",
      "Epoch 29/30\n",
      "225/225 [==============================] - 3s 14ms/step - loss: 1.3037 - accuracy: 0.5011 - val_loss: 1.8965 - val_accuracy: 0.3057\n",
      "Epoch 30/30\n",
      "225/225 [==============================] - 3s 14ms/step - loss: 1.2952 - accuracy: 0.5038 - val_loss: 1.9568 - val_accuracy: 0.3076\n"
     ]
    },
    {
     "name": "stderr",
     "output_type": "stream",
     "text": [
      "WARNING:absl:Function `_wrapped_model` contains input name(s) mobilenetv2_1.00_224_input with unsupported characters which will be renamed to mobilenetv2_1_00_224_input in the SavedModel.\n",
      "WARNING:absl:Found untraced functions such as _jit_compiled_convolution_op, _jit_compiled_convolution_op, _jit_compiled_convolution_op, _jit_compiled_convolution_op, _jit_compiled_convolution_op while saving (showing 5 of 52). These functions will not be directly callable after loading.\n"
     ]
    },
    {
     "name": "stdout",
     "output_type": "stream",
     "text": [
      "INFO:tensorflow:Assets written to: Models/mobilenet_augment/assets\n"
     ]
    },
    {
     "name": "stderr",
     "output_type": "stream",
     "text": [
      "INFO:tensorflow:Assets written to: Models/mobilenet_augment/assets\n"
     ]
    }
   ],
   "source": [
    "pretrained_mobilenet = MobileNetV2(include_top=False,\n",
    "                               input_shape=(48,48,3),\n",
    "                               pooling='avg',classes=len(labels),\n",
    "                               weights='imagenet')\n",
    "\n",
    "mobilenet = transfer_train(pretrained_mobilenet, Xtrain_rgb_augment, ytrain_ohe, Xval_rgb, yval_ohe)\n",
    "mobilenet.save(\"Models/mobilenet_augment\")"
   ]
  },
  {
   "cell_type": "code",
   "execution_count": 15,
   "metadata": {},
   "outputs": [
    {
     "name": "stdout",
     "output_type": "stream",
     "text": [
      "Epoch 1/30\n",
      "225/225 [==============================] - 10s 37ms/step - loss: 4.5895 - accuracy: 0.2850 - val_loss: 2.4050 - val_accuracy: 0.3132\n",
      "Epoch 2/30\n",
      "225/225 [==============================] - 8s 34ms/step - loss: 1.9717 - accuracy: 0.3329 - val_loss: 1.8411 - val_accuracy: 0.3344\n",
      "Epoch 3/30\n",
      "225/225 [==============================] - 8s 34ms/step - loss: 1.6660 - accuracy: 0.3786 - val_loss: 1.7102 - val_accuracy: 0.3628\n",
      "Epoch 4/30\n",
      "225/225 [==============================] - 8s 35ms/step - loss: 1.5441 - accuracy: 0.4148 - val_loss: 1.6619 - val_accuracy: 0.3798\n",
      "Epoch 5/30\n",
      "225/225 [==============================] - 8s 34ms/step - loss: 1.4775 - accuracy: 0.4341 - val_loss: 1.6334 - val_accuracy: 0.3873\n",
      "Epoch 6/30\n",
      "225/225 [==============================] - 8s 35ms/step - loss: 1.4221 - accuracy: 0.4565 - val_loss: 1.6266 - val_accuracy: 0.3926\n",
      "Epoch 7/30\n",
      "225/225 [==============================] - 8s 35ms/step - loss: 1.3814 - accuracy: 0.4738 - val_loss: 1.6493 - val_accuracy: 0.4021\n",
      "Epoch 8/30\n",
      "225/225 [==============================] - 8s 36ms/step - loss: 1.3489 - accuracy: 0.4843 - val_loss: 1.6474 - val_accuracy: 0.3945\n",
      "Epoch 9/30\n",
      "225/225 [==============================] - 8s 35ms/step - loss: 1.3163 - accuracy: 0.4983 - val_loss: 1.6482 - val_accuracy: 0.4054\n",
      "Epoch 10/30\n",
      "225/225 [==============================] - 8s 36ms/step - loss: 1.2846 - accuracy: 0.5083 - val_loss: 1.6602 - val_accuracy: 0.3970\n",
      "Epoch 11/30\n",
      "225/225 [==============================] - 8s 35ms/step - loss: 1.2613 - accuracy: 0.5213 - val_loss: 1.6865 - val_accuracy: 0.4076\n",
      "Epoch 12/30\n",
      "225/225 [==============================] - 8s 36ms/step - loss: 1.2374 - accuracy: 0.5279 - val_loss: 1.7209 - val_accuracy: 0.3965\n",
      "Epoch 13/30\n",
      "225/225 [==============================] - 8s 37ms/step - loss: 1.2131 - accuracy: 0.5376 - val_loss: 1.7144 - val_accuracy: 0.4051\n",
      "Epoch 14/30\n",
      "225/225 [==============================] - 8s 36ms/step - loss: 1.1938 - accuracy: 0.5474 - val_loss: 1.7721 - val_accuracy: 0.4171\n",
      "Epoch 15/30\n",
      "225/225 [==============================] - 8s 36ms/step - loss: 1.1686 - accuracy: 0.5586 - val_loss: 1.7546 - val_accuracy: 0.4062\n",
      "Epoch 16/30\n",
      "225/225 [==============================] - 8s 36ms/step - loss: 1.1429 - accuracy: 0.5672 - val_loss: 1.7681 - val_accuracy: 0.4191\n",
      "Epoch 17/30\n",
      "225/225 [==============================] - 8s 35ms/step - loss: 1.1213 - accuracy: 0.5740 - val_loss: 1.8459 - val_accuracy: 0.4149\n",
      "Epoch 18/30\n",
      "225/225 [==============================] - 8s 36ms/step - loss: 1.1014 - accuracy: 0.5836 - val_loss: 1.8387 - val_accuracy: 0.4216\n",
      "Epoch 19/30\n",
      "225/225 [==============================] - 8s 35ms/step - loss: 1.0827 - accuracy: 0.5903 - val_loss: 1.9092 - val_accuracy: 0.4104\n",
      "Epoch 20/30\n",
      "225/225 [==============================] - 8s 36ms/step - loss: 1.0608 - accuracy: 0.5994 - val_loss: 1.9569 - val_accuracy: 0.4118\n",
      "Epoch 21/30\n",
      "225/225 [==============================] - 8s 36ms/step - loss: 1.0471 - accuracy: 0.6056 - val_loss: 1.9847 - val_accuracy: 0.4157\n",
      "Epoch 22/30\n",
      "225/225 [==============================] - 8s 36ms/step - loss: 1.0408 - accuracy: 0.6079 - val_loss: 2.0262 - val_accuracy: 0.4107\n",
      "Epoch 23/30\n",
      "225/225 [==============================] - 8s 36ms/step - loss: 1.0207 - accuracy: 0.6168 - val_loss: 2.0356 - val_accuracy: 0.4046\n",
      "Epoch 24/30\n",
      "225/225 [==============================] - 8s 36ms/step - loss: 0.9953 - accuracy: 0.6256 - val_loss: 2.1359 - val_accuracy: 0.4146\n",
      "Epoch 25/30\n",
      "225/225 [==============================] - 8s 36ms/step - loss: 0.9761 - accuracy: 0.6349 - val_loss: 2.1690 - val_accuracy: 0.4054\n",
      "Epoch 26/30\n",
      "225/225 [==============================] - 8s 36ms/step - loss: 0.9660 - accuracy: 0.6357 - val_loss: 2.2354 - val_accuracy: 0.3998\n",
      "Epoch 27/30\n",
      "225/225 [==============================] - 8s 36ms/step - loss: 0.9520 - accuracy: 0.6428 - val_loss: 2.2573 - val_accuracy: 0.4093\n",
      "Epoch 28/30\n",
      "225/225 [==============================] - 8s 36ms/step - loss: 0.9410 - accuracy: 0.6471 - val_loss: 2.2852 - val_accuracy: 0.4057\n",
      "Epoch 29/30\n",
      "225/225 [==============================] - 8s 36ms/step - loss: 0.9317 - accuracy: 0.6478 - val_loss: 2.3614 - val_accuracy: 0.4018\n",
      "Epoch 30/30\n",
      "225/225 [==============================] - 8s 36ms/step - loss: 0.9157 - accuracy: 0.6537 - val_loss: 2.4076 - val_accuracy: 0.4065\n"
     ]
    },
    {
     "name": "stderr",
     "output_type": "stream",
     "text": [
      "WARNING:absl:Found untraced functions such as _jit_compiled_convolution_op, _jit_compiled_convolution_op, _jit_compiled_convolution_op, _jit_compiled_convolution_op, _jit_compiled_convolution_op while saving (showing 5 of 16). These functions will not be directly callable after loading.\n"
     ]
    },
    {
     "name": "stdout",
     "output_type": "stream",
     "text": [
      "INFO:tensorflow:Assets written to: Models/vgg19_augment/assets\n"
     ]
    },
    {
     "name": "stderr",
     "output_type": "stream",
     "text": [
      "INFO:tensorflow:Assets written to: Models/vgg19_augment/assets\n"
     ]
    }
   ],
   "source": [
    "pretrained_vgg19 = VGG19(include_top=False,\n",
    "                               input_shape=(48,48,3),\n",
    "                               pooling='avg',classes=len(labels),\n",
    "                               weights='imagenet')\n",
    "\n",
    "vgg19 = transfer_train(pretrained_vgg19, Xtrain_rgb_augment, ytrain_ohe, Xval_rgb, yval_ohe)\n",
    "vgg19.save('Models/vgg19_augment')"
   ]
  },
  {
   "cell_type": "code",
   "execution_count": 16,
   "metadata": {},
   "outputs": [
    {
     "name": "stdout",
     "output_type": "stream",
     "text": [
      "Epoch 1/30\n",
      "225/225 [==============================] - 9s 37ms/step - loss: 4.4709 - accuracy: 0.2754 - val_loss: 2.2667 - val_accuracy: 0.3015\n",
      "Epoch 2/30\n",
      "225/225 [==============================] - 8s 36ms/step - loss: 1.8805 - accuracy: 0.3361 - val_loss: 1.7668 - val_accuracy: 0.3380\n",
      "Epoch 3/30\n",
      "225/225 [==============================] - 8s 36ms/step - loss: 1.6225 - accuracy: 0.3793 - val_loss: 1.6801 - val_accuracy: 0.3625\n",
      "Epoch 4/30\n",
      "225/225 [==============================] - 8s 36ms/step - loss: 1.5261 - accuracy: 0.4134 - val_loss: 1.6622 - val_accuracy: 0.3789\n",
      "Epoch 5/30\n",
      "225/225 [==============================] - 8s 36ms/step - loss: 1.4654 - accuracy: 0.4366 - val_loss: 1.6278 - val_accuracy: 0.3884\n",
      "Epoch 6/30\n",
      "225/225 [==============================] - 8s 36ms/step - loss: 1.4205 - accuracy: 0.4534 - val_loss: 1.6326 - val_accuracy: 0.3870\n",
      "Epoch 7/30\n",
      "225/225 [==============================] - 8s 36ms/step - loss: 1.3830 - accuracy: 0.4725 - val_loss: 1.6453 - val_accuracy: 0.3901\n",
      "Epoch 8/30\n",
      "225/225 [==============================] - 8s 36ms/step - loss: 1.3473 - accuracy: 0.4863 - val_loss: 1.6530 - val_accuracy: 0.4012\n",
      "Epoch 9/30\n",
      "225/225 [==============================] - 8s 36ms/step - loss: 1.3168 - accuracy: 0.4970 - val_loss: 1.6589 - val_accuracy: 0.4065\n",
      "Epoch 10/30\n",
      "225/225 [==============================] - 8s 37ms/step - loss: 1.2907 - accuracy: 0.5083 - val_loss: 1.6977 - val_accuracy: 0.4021\n",
      "Epoch 11/30\n",
      "225/225 [==============================] - 8s 36ms/step - loss: 1.2682 - accuracy: 0.5165 - val_loss: 1.7031 - val_accuracy: 0.4043\n",
      "Epoch 12/30\n",
      "225/225 [==============================] - 8s 36ms/step - loss: 1.2397 - accuracy: 0.5263 - val_loss: 1.7422 - val_accuracy: 0.4071\n",
      "Epoch 13/30\n",
      "225/225 [==============================] - 8s 37ms/step - loss: 1.2166 - accuracy: 0.5408 - val_loss: 1.7519 - val_accuracy: 0.4054\n",
      "Epoch 14/30\n",
      "225/225 [==============================] - 8s 36ms/step - loss: 1.1928 - accuracy: 0.5454 - val_loss: 1.7736 - val_accuracy: 0.4124\n",
      "Epoch 15/30\n",
      "225/225 [==============================] - 8s 36ms/step - loss: 1.1729 - accuracy: 0.5546 - val_loss: 1.7979 - val_accuracy: 0.4071\n",
      "Epoch 16/30\n",
      "225/225 [==============================] - 8s 36ms/step - loss: 1.1472 - accuracy: 0.5670 - val_loss: 1.8249 - val_accuracy: 0.4115\n",
      "Epoch 17/30\n",
      "225/225 [==============================] - 8s 36ms/step - loss: 1.1303 - accuracy: 0.5722 - val_loss: 1.8760 - val_accuracy: 0.4129\n",
      "Epoch 18/30\n",
      "225/225 [==============================] - 8s 36ms/step - loss: 1.1112 - accuracy: 0.5813 - val_loss: 1.8913 - val_accuracy: 0.4082\n",
      "Epoch 19/30\n",
      "225/225 [==============================] - 8s 36ms/step - loss: 1.0886 - accuracy: 0.5886 - val_loss: 1.9607 - val_accuracy: 0.4138\n",
      "Epoch 20/30\n",
      "225/225 [==============================] - 8s 37ms/step - loss: 1.0722 - accuracy: 0.5959 - val_loss: 2.0106 - val_accuracy: 0.4062\n",
      "Epoch 21/30\n",
      "225/225 [==============================] - 8s 36ms/step - loss: 1.0558 - accuracy: 0.6045 - val_loss: 2.0475 - val_accuracy: 0.4140\n",
      "Epoch 22/30\n",
      "225/225 [==============================] - 8s 36ms/step - loss: 1.0416 - accuracy: 0.6093 - val_loss: 2.0923 - val_accuracy: 0.4029\n",
      "Epoch 23/30\n",
      "225/225 [==============================] - 8s 36ms/step - loss: 1.0200 - accuracy: 0.6167 - val_loss: 2.1456 - val_accuracy: 0.4082\n",
      "Epoch 24/30\n",
      "225/225 [==============================] - 8s 36ms/step - loss: 1.0021 - accuracy: 0.6246 - val_loss: 2.1805 - val_accuracy: 0.4132\n",
      "Epoch 25/30\n",
      "225/225 [==============================] - 8s 36ms/step - loss: 0.9909 - accuracy: 0.6283 - val_loss: 2.2638 - val_accuracy: 0.4057\n",
      "Epoch 26/30\n",
      "225/225 [==============================] - 8s 36ms/step - loss: 0.9756 - accuracy: 0.6349 - val_loss: 2.2951 - val_accuracy: 0.4216\n",
      "Epoch 27/30\n",
      "225/225 [==============================] - 8s 36ms/step - loss: 0.9587 - accuracy: 0.6414 - val_loss: 2.3323 - val_accuracy: 0.4110\n",
      "Epoch 28/30\n",
      "225/225 [==============================] - 8s 37ms/step - loss: 0.9529 - accuracy: 0.6426 - val_loss: 2.3849 - val_accuracy: 0.4068\n",
      "Epoch 29/30\n",
      "225/225 [==============================] - 8s 37ms/step - loss: 0.9366 - accuracy: 0.6510 - val_loss: 2.4356 - val_accuracy: 0.4118\n",
      "Epoch 30/30\n",
      "225/225 [==============================] - 8s 37ms/step - loss: 0.9322 - accuracy: 0.6485 - val_loss: 2.4696 - val_accuracy: 0.4057\n"
     ]
    },
    {
     "name": "stderr",
     "output_type": "stream",
     "text": [
      "WARNING:absl:Found untraced functions such as _jit_compiled_convolution_op, _jit_compiled_convolution_op, _jit_compiled_convolution_op, _jit_compiled_convolution_op, _jit_compiled_convolution_op while saving (showing 5 of 16). These functions will not be directly callable after loading.\n"
     ]
    },
    {
     "name": "stdout",
     "output_type": "stream",
     "text": [
      "INFO:tensorflow:Assets written to: Models/efficientNet_augment/assets\n"
     ]
    },
    {
     "name": "stderr",
     "output_type": "stream",
     "text": [
      "INFO:tensorflow:Assets written to: Models/efficientNet_augment/assets\n"
     ]
    }
   ],
   "source": [
    "pretrained_EfficientNetV2L= EfficientNetV2L(include_top=False,\n",
    "                               input_shape=(48,48,3),\n",
    "                               pooling='avg',classes=len(labels),\n",
    "                               weights='imagenet')\n",
    "\n",
    "efficientNetV2L = transfer_train(pretrained_vgg19, Xtrain_rgb_augment, ytrain_ohe, Xval_rgb, yval_ohe)\n",
    "efficientNetV2L.save('Models/efficientNet_augment')"
   ]
  },
  {
   "cell_type": "markdown",
   "metadata": {},
   "source": [
    "#### Résultats et réponses:"
   ]
  },
  {
   "cell_type": "code",
   "execution_count": 17,
   "metadata": {},
   "outputs": [
    {
     "name": "stdout",
     "output_type": "stream",
     "text": [
      "898/898 [==============================] - 11s 11ms/step\n",
      "<class 'numpy.ndarray'>\n",
      "Training accuracy: \n",
      "86.47810791041137%\n",
      "Training error: \n",
      "13.521892089588627%\n",
      "113/113 [==============================] - 1s 11ms/step\n",
      "Validation accuracy: \n",
      "44.608526051825024%\n",
      "Validation error: \n",
      "55.39147394817498%\n",
      "113/113 [==============================] - 1s 10ms/step\n",
      "Test accuracy: \n",
      "45.416550571189745%\n",
      "Test error: \n",
      "54.58344942881026%\n",
      "Average precision: 58.834394844475376%\n"
     ]
    },
    {
     "data": {
      "image/png": "[encoded data removed]",
      "text/plain": [
       "<Figure size 432x288 with 2 Axes>"
      ]
     },
     "metadata": {
      "needs_background": "light"
     },
     "output_type": "display_data"
    },
    {
     "name": "stdout",
     "output_type": "stream",
     "text": [
      "898/898 [==============================] - 7s 7ms/step\n",
      "<class 'numpy.ndarray'>\n",
      "Training accuracy: \n",
      "53.16102964227246%\n",
      "Training error: \n",
      "46.83897035772754%\n",
      "113/113 [==============================] - 1s 6ms/step\n",
      "Validation accuracy: \n",
      "31.262190025076624%\n",
      "Validation error: \n",
      "68.73780997492338%\n",
      "113/113 [==============================] - 1s 6ms/step\n",
      "Test accuracy: \n",
      "30.927835051546392%\n",
      "Test error: \n",
      "69.0721649484536%\n",
      "Average precision: 38.45035157296516%\n"
     ]
    },
    {
     "data": {
      "image/png": "[encoded data removed]",
      "text/plain": [
       "<Figure size 432x288 with 2 Axes>"
      ]
     },
     "metadata": {
      "needs_background": "light"
     },
     "output_type": "display_data"
    },
    {
     "name": "stdout",
     "output_type": "stream",
     "text": [
      "898/898 [==============================] - 10s 11ms/step\n",
      "<class 'numpy.ndarray'>\n",
      "Training accuracy: \n",
      "69.10724859800062%\n",
      "Training error: \n",
      "30.892751401999373%\n",
      "113/113 [==============================] - 1s 11ms/step\n",
      "Validation accuracy: \n",
      "40.06687099470604%\n",
      "Validation error: \n",
      "59.93312900529395%\n",
      "113/113 [==============================] - 1s 11ms/step\n",
      "Test accuracy: \n",
      "42.57453329618278%\n",
      "Test error: \n",
      "57.42546670381722%\n",
      "Average precision: 50.582884296296484%\n"
     ]
    },
    {
     "data": {
      "image/png": "[encoded data removed]",
      "text/plain": [
       "<Figure size 432x288 with 2 Axes>"
      ]
     },
     "metadata": {
      "needs_background": "light"
     },
     "output_type": "display_data"
    },
    {
     "name": "stdout",
     "output_type": "stream",
     "text": [
      "898/898 [==============================] - 10s 11ms/step\n",
      "<class 'numpy.ndarray'>\n",
      "Training accuracy: \n",
      "68.8564561635724%\n",
      "Training error: \n",
      "31.1435438364276%\n",
      "113/113 [==============================] - 1s 11ms/step\n",
      "Validation accuracy: \n",
      "38.86876567288938%\n",
      "Validation error: \n",
      "61.13123432711062%\n",
      "113/113 [==============================] - 1s 11ms/step\n",
      "Test accuracy: \n",
      "41.543605461131236%\n",
      "Test error: \n",
      "58.45639453886877%\n",
      "Average precision: 49.75627576586434%\n"
     ]
    },
    {
     "data": {
      "image/png": "[encoded data removed]",
      "text/plain": [
       "<Figure size 432x288 with 2 Axes>"
      ]
     },
     "metadata": {
      "needs_background": "light"
     },
     "output_type": "display_data"
    }
   ],
   "source": [
    "resnet50 = keras.models.load_model(\"Models/resnet50\")\n",
    "mobilenet = keras.models.load_model(\"Models/mobilenet\")\n",
    "vgg19 = keras.models.load_model('Models/vgg19')\n",
    "efficientNetV2L = keras.models.load_model('Models/efficientNet')\n",
    "\n",
    "eval_model(resnet50, Xtrain_rgb, ytrain, Xtest_rgb, ytest, Xval_rgb, yval, 'pixel ResNet50')\n",
    "eval_model(mobilenet, Xtrain_rgb, ytrain, Xtest_rgb, ytest, Xval_rgb, yval, 'pixel MobileNet')\n",
    "eval_model(vgg19, Xtrain_rgb, ytrain, Xtest_rgb, ytest, Xval_rgb, yval, 'pixel VGG19')\n",
    "eval_model(efficientNetV2L, Xtrain_rgb, ytrain, Xtest_rgb, ytest, Xval_rgb, yval, 'pixel EfficientNetV2L')"
   ]
  },
  {
   "cell_type": "code",
   "execution_count": 6,
   "metadata": {},
   "outputs": [
    {
     "name": "stderr",
     "output_type": "stream",
     "text": [
      "2022-07-04 16:29:55.834405: I tensorflow/stream_executor/cuda/cuda_dnn.cc:384] Loaded cuDNN version 8401\n"
     ]
    },
    {
     "name": "stdout",
     "output_type": "stream",
     "text": [
      "898/898 [==============================] - 12s 11ms/step\n",
      "<class 'numpy.ndarray'>\n",
      "Training accuracy: \n",
      "84.61806402173534%\n",
      "Training error: \n",
      "15.38193597826466%\n",
      "113/113 [==============================] - 1s 11ms/step\n",
      "Validation accuracy: \n",
      "44.71997770966843%\n",
      "Validation error: \n",
      "55.28002229033157%\n",
      "113/113 [==============================] - 1s 11ms/step\n",
      "Test accuracy: \n",
      "44.9707439398161%\n",
      "Test error: \n",
      "55.0292560601839%\n",
      "Average precision: 58.1029285570733%\n"
     ]
    },
    {
     "data": {
      "image/png": "[encoded data removed]",
      "text/plain": [
       "<Figure size 432x288 with 2 Axes>"
      ]
     },
     "metadata": {
      "needs_background": "light"
     },
     "output_type": "display_data"
    },
    {
     "name": "stdout",
     "output_type": "stream",
     "text": [
      "898/898 [==============================] - 7s 7ms/step\n",
      "<class 'numpy.ndarray'>\n",
      "Training accuracy: \n",
      "51.31143543836427%\n",
      "Training error: \n",
      "48.68856456163573%\n",
      "113/113 [==============================] - 1s 6ms/step\n",
      "Validation accuracy: \n",
      "31.707996656450266%\n",
      "Validation error: \n",
      "68.29200334354974%\n",
      "113/113 [==============================] - 1s 6ms/step\n",
      "Test accuracy: \n",
      "30.760657564781273%\n",
      "Test error: \n",
      "69.23934243521872%\n",
      "Average precision: 37.9266965531986%\n"
     ]
    },
    {
     "data": {
      "image/png": "[encoded data removed]",
      "text/plain": [
       "<Figure size 432x288 with 2 Axes>"
      ]
     },
     "metadata": {
      "needs_background": "light"
     },
     "output_type": "display_data"
    },
    {
     "name": "stdout",
     "output_type": "stream",
     "text": [
      "898/898 [==============================] - 10s 11ms/step\n",
      "<class 'numpy.ndarray'>\n",
      "Training accuracy: \n",
      "68.28172350134103%\n",
      "Training error: \n",
      "31.71827649865896%\n",
      "113/113 [==============================] - 1s 11ms/step\n",
      "Validation accuracy: \n",
      "40.26191139593202%\n",
      "Validation error: \n",
      "59.73808860406798%\n",
      "113/113 [==============================] - 1s 11ms/step\n",
      "Test accuracy: \n",
      "40.65199219838395%\n",
      "Test error: \n",
      "59.34800780161604%\n",
      "Average precision: 49.73187569855234%\n"
     ]
    },
    {
     "data": {
      "image/png": "[encoded data removed]",
      "text/plain": [
       "<Figure size 432x288 with 2 Axes>"
      ]
     },
     "metadata": {
      "needs_background": "light"
     },
     "output_type": "display_data"
    },
    {
     "name": "stdout",
     "output_type": "stream",
     "text": [
      "898/898 [==============================] - 10s 11ms/step\n",
      "<class 'numpy.ndarray'>\n",
      "Training accuracy: \n",
      "67.56766170887178%\n",
      "Training error: \n",
      "32.43233829112822%\n",
      "113/113 [==============================] - 1s 11ms/step\n",
      "Validation accuracy: \n",
      "40.401225968236275%\n",
      "Validation error: \n",
      "59.598774031763725%\n",
      "113/113 [==============================] - 1s 11ms/step\n",
      "Test accuracy: \n",
      "40.568403455001395%\n",
      "Test error: \n",
      "59.43159654499861%\n",
      "Average precision: 49.51243037736982%\n"
     ]
    },
    {
     "data": {
      "image/png": "[encoded data removed]",
      "text/plain": [
       "<Figure size 432x288 with 2 Axes>"
      ]
     },
     "metadata": {
      "needs_background": "light"
     },
     "output_type": "display_data"
    }
   ],
   "source": [
    "resnet50_augment = keras.models.load_model(\"Models/resnet50_augment\")\n",
    "mobilenet_augment = keras.models.load_model(\"Models/mobilenet_augment\")\n",
    "vgg19_augment = keras.models.load_model('Models/vgg19_augment')\n",
    "efficientNetV2L_augment = keras.models.load_model('Models/efficientNet_augment')\n",
    "\n",
    "eval_model(resnet50_augment, Xtrain_rgb, ytrain, Xtest_rgb, ytest, Xval_rgb, yval, 'pixel ResNet50 - Augment')\n",
    "eval_model(mobilenet_augment, Xtrain_rgb, ytrain, Xtest_rgb, ytest, Xval_rgb, yval, 'pixel MobileNet - Augment')\n",
    "eval_model(vgg19_augment, Xtrain_rgb, ytrain, Xtest_rgb, ytest, Xval_rgb, yval, 'pixel VGG19 - Augment')\n",
    "eval_model(efficientNetV2L_augment, Xtrain_rgb, ytrain, Xtest_rgb, ytest, Xval_rgb, yval, 'pixel EfficientNetV2L - Augment')"
   ]
  },
  {
   "cell_type": "markdown",
   "metadata": {},
   "source": [
    "#### Sans Augmentation\n",
    "| Ensemble | My CNN   | Resnet50   | MobileNet | VGG 19 | EfficientNetV2L |\n",
    "|----------|----------|------------|-----------|--------|-----------------|\n",
    "| App      | 83.78%   |     80.32% |    47.29% | 62.84% |          65.58% |\n",
    "| Val      | 49.90%   |     43.69% |    30.29% | 37.16% |          39.45% |\n",
    "| Test     | 50.10%   |     45.33% |    29.73% | 39.12% |          39.98% |\n",
    "| Moyenne  | 61.00%   |     56.45% |    35.77% | 47.06% |          48.34% |\n",
    "\n",
    "#### Augmentation\n",
    "| Ensemble | My CNN   | Resnet50   | MobileNet | VGG 19 | EfficientNetV2L |\n",
    "|----------|----------|------------|-----------|--------|-----------------|\n",
    "| App      | 92.58%   |     84.62% |    51.31% | 68.28% |          67.57% |\n",
    "| Val      | 47.20%   |     44.72% |    31.71% | 40.26% |          40.40% |\n",
    "| Test     | 48.12%   |     44.97% |    30.76% | 40.65% |          40.57% |\n",
    "| Moyenne  | 62.63%   |     58.10% |    37.93% | 49.73% |          49.51% |"
   ]
  },
  {
   "cell_type": "markdown",
   "metadata": {},
   "source": [
    "### 3c: Code CNN Pré-entraîné (FG-NET):\n",
    "\n",
    "##### À faire:\n",
    "1. Choisir le modèle \\ l’architecture qu’a donné de meilleurs résultats sur FER pour faire un “transfert de connaissance (transfer learning).\n",
    "2. Adapter ce modèle pour FG-NET (couche de sortie classification (7 unités avec softmax) -> régression (1 unité lineaire)).   \n",
    "3. Entraîner (\"fine-tuning\" du modèle choisi sur FG-NET) et optimiser les paramètres du réseau pour la régression.\n",
    "4. Évaluer la pertinence d’utiliser \"data augmentation\" pour améliorer la généralisation.\n",
    "5. Faire une analyse des résultats et présenter vos conclusions sur les réseaux de neurones."
   ]
  },
  {
   "cell_type": "code",
   "execution_count": 17,
   "metadata": {},
   "outputs": [],
   "source": [
    "X_fgnet = np.loadtxt('Datasets/fgnet_256x256.csv', delimiter=',', dtype=int )\n",
    "y_fgnet = np.loadtxt('Datasets/fgnet_labels.csv', delimiter=',', dtype=int )\n",
    "\n",
    "X_fgnet = X_fgnet.reshape(X_fgnet.shape[0], 256, 256, 1)\n",
    "X_fgnet = pretreat_fgnet(X_fgnet)\n",
    "\n",
    "Xtrain_fgnet, Xtest_fgnet, ytrain_fgnet, ytest_fgnet = sklearn.model_selection.train_test_split(X_fgnet, y_fgnet, test_size=0.2, random_state=1)\n",
    "Xtrain_fgnet, Xval_fgnet, ytrain_fgnet, yval_fgnet = sklearn.model_selection.train_test_split(Xtrain_fgnet, ytrain_fgnet, test_size=0.25, random_state=1)\n",
    "\n",
    "Xtrain_fgnet_augment = augment_data(Xtrain_fgnet, ytrain_fgnet, (48, 48))"
   ]
  },
  {
   "cell_type": "code",
   "execution_count": 24,
   "metadata": {},
   "outputs": [
    {
     "name": "stdout",
     "output_type": "stream",
     "text": [
      "600\n",
      "Epoch 1/60\n",
      "4/4 [==============================] - 0s 37ms/step - loss: 1.8070e-06 - MSE: 397.2765 - val_loss: 2.0156e-06 - val_MSE: 478.4286\n",
      "Epoch 2/60\n",
      "4/4 [==============================] - 0s 7ms/step - loss: 1.8070e-06 - MSE: 396.3695 - val_loss: 2.0156e-06 - val_MSE: 478.4286\n",
      "Epoch 3/60\n",
      "4/4 [==============================] - 0s 9ms/step - loss: 1.8070e-06 - MSE: 396.3260 - val_loss: 2.0156e-06 - val_MSE: 478.4286\n",
      "Epoch 4/60\n",
      "4/4 [==============================] - 0s 9ms/step - loss: 1.8070e-06 - MSE: 396.9670 - val_loss: 2.0156e-06 - val_MSE: 478.4286\n",
      "Epoch 5/60\n",
      "4/4 [==============================] - 0s 10ms/step - loss: 1.8070e-06 - MSE: 397.7168 - val_loss: 2.0156e-06 - val_MSE: 478.4286\n",
      "Epoch 6/60\n",
      "4/4 [==============================] - 0s 9ms/step - loss: 1.8070e-06 - MSE: 396.3313 - val_loss: 2.0156e-06 - val_MSE: 478.4286\n",
      "Epoch 7/60\n",
      "4/4 [==============================] - 0s 9ms/step - loss: 1.8070e-06 - MSE: 396.5075 - val_loss: 2.0156e-06 - val_MSE: 478.4286\n",
      "Epoch 8/60\n",
      "4/4 [==============================] - 0s 9ms/step - loss: 1.8070e-06 - MSE: 396.9028 - val_loss: 2.0156e-06 - val_MSE: 478.4286\n",
      "Epoch 9/60\n",
      "4/4 [==============================] - 0s 9ms/step - loss: 1.8070e-06 - MSE: 397.1746 - val_loss: 2.0156e-06 - val_MSE: 478.4286\n",
      "Epoch 10/60\n",
      "4/4 [==============================] - 0s 9ms/step - loss: 1.8070e-06 - MSE: 396.8051 - val_loss: 2.0156e-06 - val_MSE: 478.4286\n",
      "Epoch 11/60\n",
      "4/4 [==============================] - 0s 9ms/step - loss: 1.8070e-06 - MSE: 396.6455 - val_loss: 2.0156e-06 - val_MSE: 478.4286\n",
      "Epoch 12/60\n",
      "4/4 [==============================] - 0s 9ms/step - loss: 1.8070e-06 - MSE: 396.7052 - val_loss: 2.0156e-06 - val_MSE: 478.4286\n",
      "Epoch 13/60\n",
      "4/4 [==============================] - 0s 10ms/step - loss: 1.8070e-06 - MSE: 396.9892 - val_loss: 2.0156e-06 - val_MSE: 478.4286\n",
      "Epoch 14/60\n",
      "4/4 [==============================] - 0s 10ms/step - loss: 1.8070e-06 - MSE: 397.0054 - val_loss: 2.0156e-06 - val_MSE: 478.4286\n",
      "Epoch 15/60\n",
      "4/4 [==============================] - 0s 10ms/step - loss: 1.8070e-06 - MSE: 396.8553 - val_loss: 2.0156e-06 - val_MSE: 478.4286\n",
      "Epoch 16/60\n",
      "4/4 [==============================] - 0s 9ms/step - loss: 1.8070e-06 - MSE: 396.8423 - val_loss: 2.0156e-06 - val_MSE: 478.4286\n",
      "Epoch 17/60\n",
      "4/4 [==============================] - 0s 10ms/step - loss: 1.8070e-06 - MSE: 397.7969 - val_loss: 2.0156e-06 - val_MSE: 478.4286\n",
      "Epoch 18/60\n",
      "4/4 [==============================] - 0s 10ms/step - loss: 1.8070e-06 - MSE: 396.8495 - val_loss: 2.0156e-06 - val_MSE: 478.4286\n",
      "Epoch 19/60\n",
      "4/4 [==============================] - 0s 10ms/step - loss: 1.8070e-06 - MSE: 396.5882 - val_loss: 2.0156e-06 - val_MSE: 478.4286\n",
      "Epoch 20/60\n",
      "4/4 [==============================] - 0s 10ms/step - loss: 1.8070e-06 - MSE: 396.4575 - val_loss: 2.0156e-06 - val_MSE: 478.4286\n",
      "Epoch 21/60\n",
      "4/4 [==============================] - 0s 9ms/step - loss: 1.8070e-06 - MSE: 396.4356 - val_loss: 2.0156e-06 - val_MSE: 478.4286\n",
      "Epoch 22/60\n",
      "4/4 [==============================] - 0s 9ms/step - loss: 1.8070e-06 - MSE: 397.1017 - val_loss: 2.0156e-06 - val_MSE: 478.4286\n",
      "Epoch 23/60\n",
      "4/4 [==============================] - 0s 8ms/step - loss: 1.8070e-06 - MSE: 396.4324 - val_loss: 2.0156e-06 - val_MSE: 478.4286\n",
      "Epoch 24/60\n",
      "4/4 [==============================] - 0s 8ms/step - loss: 1.8070e-06 - MSE: 396.8936 - val_loss: 2.0156e-06 - val_MSE: 478.4286\n",
      "Epoch 25/60\n",
      "4/4 [==============================] - 0s 8ms/step - loss: 1.8070e-06 - MSE: 397.0091 - val_loss: 2.0156e-06 - val_MSE: 478.4286\n",
      "Epoch 26/60\n",
      "4/4 [==============================] - 0s 8ms/step - loss: 1.8070e-06 - MSE: 396.4452 - val_loss: 2.0156e-06 - val_MSE: 478.4286\n",
      "Epoch 27/60\n",
      "4/4 [==============================] - 0s 9ms/step - loss: 1.8070e-06 - MSE: 396.9578 - val_loss: 2.0156e-06 - val_MSE: 478.4286\n",
      "Epoch 28/60\n",
      "4/4 [==============================] - 0s 9ms/step - loss: 1.8070e-06 - MSE: 396.4703 - val_loss: 2.0156e-06 - val_MSE: 478.4286\n",
      "Epoch 29/60\n",
      "4/4 [==============================] - 0s 11ms/step - loss: 1.8070e-06 - MSE: 396.6663 - val_loss: 2.0156e-06 - val_MSE: 478.4286\n",
      "Epoch 30/60\n",
      "4/4 [==============================] - 0s 9ms/step - loss: 1.8070e-06 - MSE: 397.0654 - val_loss: 2.0156e-06 - val_MSE: 478.4286\n",
      "Epoch 31/60\n",
      "4/4 [==============================] - 0s 9ms/step - loss: 1.8070e-06 - MSE: 397.0509 - val_loss: 2.0156e-06 - val_MSE: 478.4286\n",
      "Epoch 32/60\n",
      "4/4 [==============================] - 0s 9ms/step - loss: 1.8070e-06 - MSE: 396.1561 - val_loss: 2.0156e-06 - val_MSE: 478.4286\n",
      "Epoch 33/60\n",
      "4/4 [==============================] - 0s 9ms/step - loss: 1.8070e-06 - MSE: 396.7672 - val_loss: 2.0156e-06 - val_MSE: 478.4286\n",
      "Epoch 34/60\n",
      "4/4 [==============================] - 0s 8ms/step - loss: 1.8070e-06 - MSE: 396.5970 - val_loss: 2.0156e-06 - val_MSE: 478.4286\n",
      "Epoch 35/60\n",
      "4/4 [==============================] - 0s 8ms/step - loss: 1.8070e-06 - MSE: 396.9562 - val_loss: 2.0156e-06 - val_MSE: 478.4286\n",
      "Epoch 36/60\n",
      "4/4 [==============================] - 0s 8ms/step - loss: 1.8070e-06 - MSE: 396.5509 - val_loss: 2.0156e-06 - val_MSE: 478.4286\n",
      "Epoch 37/60\n",
      "4/4 [==============================] - 0s 8ms/step - loss: 1.8070e-06 - MSE: 396.2039 - val_loss: 2.0156e-06 - val_MSE: 478.4286\n",
      "Epoch 38/60\n",
      "4/4 [==============================] - 0s 10ms/step - loss: 1.8070e-06 - MSE: 396.5388 - val_loss: 2.0156e-06 - val_MSE: 478.4286\n",
      "Epoch 39/60\n",
      "4/4 [==============================] - 0s 10ms/step - loss: 1.8070e-06 - MSE: 396.7021 - val_loss: 2.0156e-06 - val_MSE: 478.4286\n",
      "Epoch 40/60\n",
      "4/4 [==============================] - 0s 9ms/step - loss: 1.8070e-06 - MSE: 396.9909 - val_loss: 2.0156e-06 - val_MSE: 478.4286\n",
      "Epoch 41/60\n",
      "4/4 [==============================] - 0s 10ms/step - loss: 1.8070e-06 - MSE: 397.2479 - val_loss: 2.0156e-06 - val_MSE: 478.4286\n",
      "Epoch 42/60\n",
      "4/4 [==============================] - 0s 9ms/step - loss: 1.8070e-06 - MSE: 397.4636 - val_loss: 2.0156e-06 - val_MSE: 478.4286\n",
      "Epoch 43/60\n",
      "4/4 [==============================] - 0s 9ms/step - loss: 1.8070e-06 - MSE: 396.4584 - val_loss: 2.0156e-06 - val_MSE: 478.4286\n",
      "Epoch 44/60\n",
      "4/4 [==============================] - 0s 8ms/step - loss: 1.8070e-06 - MSE: 396.7731 - val_loss: 2.0156e-06 - val_MSE: 478.4286\n",
      "Epoch 45/60\n",
      "4/4 [==============================] - 0s 7ms/step - loss: 1.8070e-06 - MSE: 396.8369 - val_loss: 2.0156e-06 - val_MSE: 478.4286\n",
      "Epoch 46/60\n",
      "4/4 [==============================] - 0s 8ms/step - loss: 1.8070e-06 - MSE: 396.3676 - val_loss: 2.0156e-06 - val_MSE: 478.4286\n",
      "Epoch 47/60\n",
      "4/4 [==============================] - 0s 8ms/step - loss: 1.8070e-06 - MSE: 397.0091 - val_loss: 2.0156e-06 - val_MSE: 478.4286\n",
      "Epoch 48/60\n",
      "4/4 [==============================] - 0s 9ms/step - loss: 1.8070e-06 - MSE: 396.7071 - val_loss: 2.0156e-06 - val_MSE: 478.4286\n",
      "Epoch 49/60\n",
      "4/4 [==============================] - 0s 9ms/step - loss: 1.8070e-06 - MSE: 397.4660 - val_loss: 2.0156e-06 - val_MSE: 478.4286\n",
      "Epoch 50/60\n",
      "4/4 [==============================] - 0s 9ms/step - loss: 1.8070e-06 - MSE: 396.1989 - val_loss: 2.0156e-06 - val_MSE: 478.4286\n",
      "Epoch 51/60\n",
      "4/4 [==============================] - 0s 9ms/step - loss: 1.8070e-06 - MSE: 396.7216 - val_loss: 2.0156e-06 - val_MSE: 478.4286\n",
      "Epoch 52/60\n",
      "4/4 [==============================] - 0s 9ms/step - loss: 1.8070e-06 - MSE: 396.4480 - val_loss: 2.0156e-06 - val_MSE: 478.4286\n",
      "Epoch 53/60\n",
      "4/4 [==============================] - 0s 8ms/step - loss: 1.8070e-06 - MSE: 397.2537 - val_loss: 2.0156e-06 - val_MSE: 478.4286\n",
      "Epoch 54/60\n",
      "4/4 [==============================] - 0s 7ms/step - loss: 1.8070e-06 - MSE: 396.1579 - val_loss: 2.0156e-06 - val_MSE: 478.4286\n",
      "Epoch 55/60\n",
      "4/4 [==============================] - 0s 8ms/step - loss: 1.8070e-06 - MSE: 396.3280 - val_loss: 2.0156e-06 - val_MSE: 478.4286\n",
      "Epoch 56/60\n",
      "4/4 [==============================] - 0s 9ms/step - loss: 1.8070e-06 - MSE: 396.9779 - val_loss: 2.0156e-06 - val_MSE: 478.4286\n",
      "Epoch 57/60\n",
      "4/4 [==============================] - 0s 10ms/step - loss: 1.8070e-06 - MSE: 396.5132 - val_loss: 2.0156e-06 - val_MSE: 478.4286\n",
      "Epoch 58/60\n",
      "4/4 [==============================] - 0s 11ms/step - loss: 1.8070e-06 - MSE: 396.7368 - val_loss: 2.0156e-06 - val_MSE: 478.4286\n",
      "Epoch 59/60\n",
      "4/4 [==============================] - 0s 11ms/step - loss: 1.8070e-06 - MSE: 397.0836 - val_loss: 2.0156e-06 - val_MSE: 478.4286\n",
      "Epoch 60/60\n",
      "4/4 [==============================] - 0s 10ms/step - loss: 1.8070e-06 - MSE: 397.0179 - val_loss: 2.0156e-06 - val_MSE: 478.4286\n"
     ]
    },
    {
     "name": "stderr",
     "output_type": "stream",
     "text": [
      "WARNING:absl:Found untraced functions such as _jit_compiled_convolution_op, _jit_compiled_convolution_op while saving (showing 2 of 2). These functions will not be directly callable after loading.\n"
     ]
    },
    {
     "name": "stdout",
     "output_type": "stream",
     "text": [
      "INFO:tensorflow:Assets written to: Models/pixel_cnn_fg/assets\n"
     ]
    },
    {
     "name": "stderr",
     "output_type": "stream",
     "text": [
      "INFO:tensorflow:Assets written to: Models/pixel_cnn_fg/assets\n"
     ]
    }
   ],
   "source": [
    "# Nos meilleurs résultats ont été observés avec le modèle My CNN sans augmentation\n",
    "pixel_cnn_fg: Sequential = keras.models.load_model('Models/pixel_cnn')\n",
    "pixel_cnn_fg.pop()\n",
    "for layer in pixel_cnn_fg.layers:\n",
    "      layer.trainable = False\n",
    "pixel_cnn_fg.add(Dense(1, activation='linear', name='Dense3'))\n",
    "\n",
    "# Training\n",
    "pixel_cnn_fg.compile(loss='categorical_crossentropy', optimizer='adam', metrics=['MSE'])\n",
    "pixel_cnn_fg.fit(Xtrain_fgnet, ytrain_fgnet, epochs=60, batch_size=128, verbose=1, validation_split=0.2)\n",
    "pixel_cnn_fg.save('Models/pixel_cnn_fg')"
   ]
  },
  {
   "cell_type": "code",
   "execution_count": 27,
   "metadata": {},
   "outputs": [
    {
     "name": "stdout",
     "output_type": "stream",
     "text": [
      "Epoch 1/60\n",
      "4/4 [==============================] - 0s 39ms/step - loss: 1.8070e-06 - MSE: 401.0703 - val_loss: 2.0156e-06 - val_MSE: 483.4001\n",
      "Epoch 2/60\n",
      "4/4 [==============================] - 0s 8ms/step - loss: 1.8070e-06 - MSE: 400.3546 - val_loss: 2.0156e-06 - val_MSE: 483.4001\n",
      "Epoch 3/60\n",
      "4/4 [==============================] - 0s 8ms/step - loss: 1.8070e-06 - MSE: 400.7461 - val_loss: 2.0156e-06 - val_MSE: 483.4001\n",
      "Epoch 4/60\n",
      "4/4 [==============================] - 0s 8ms/step - loss: 1.8070e-06 - MSE: 399.1765 - val_loss: 2.0156e-06 - val_MSE: 483.4001\n",
      "Epoch 5/60\n",
      "4/4 [==============================] - 0s 9ms/step - loss: 1.8070e-06 - MSE: 399.7865 - val_loss: 2.0156e-06 - val_MSE: 483.4001\n",
      "Epoch 6/60\n",
      "4/4 [==============================] - 0s 9ms/step - loss: 1.8070e-06 - MSE: 399.6227 - val_loss: 2.0156e-06 - val_MSE: 483.4001\n",
      "Epoch 7/60\n",
      "4/4 [==============================] - 0s 8ms/step - loss: 1.8070e-06 - MSE: 400.1476 - val_loss: 2.0156e-06 - val_MSE: 483.4001\n",
      "Epoch 8/60\n",
      "4/4 [==============================] - 0s 9ms/step - loss: 1.8070e-06 - MSE: 401.1692 - val_loss: 2.0156e-06 - val_MSE: 483.4001\n",
      "Epoch 9/60\n",
      "4/4 [==============================] - 0s 8ms/step - loss: 1.8070e-06 - MSE: 401.0118 - val_loss: 2.0156e-06 - val_MSE: 483.4001\n",
      "Epoch 10/60\n",
      "4/4 [==============================] - 0s 8ms/step - loss: 1.8070e-06 - MSE: 400.4489 - val_loss: 2.0156e-06 - val_MSE: 483.4001\n",
      "Epoch 11/60\n",
      "4/4 [==============================] - 0s 8ms/step - loss: 1.8070e-06 - MSE: 400.7002 - val_loss: 2.0156e-06 - val_MSE: 483.4001\n",
      "Epoch 12/60\n",
      "4/4 [==============================] - 0s 10ms/step - loss: 1.8070e-06 - MSE: 400.6175 - val_loss: 2.0156e-06 - val_MSE: 483.4001\n",
      "Epoch 13/60\n",
      "4/4 [==============================] - 0s 9ms/step - loss: 1.8070e-06 - MSE: 400.4451 - val_loss: 2.0156e-06 - val_MSE: 483.4001\n",
      "Epoch 14/60\n",
      "4/4 [==============================] - 0s 9ms/step - loss: 1.8070e-06 - MSE: 400.5093 - val_loss: 2.0156e-06 - val_MSE: 483.4001\n",
      "Epoch 15/60\n",
      "4/4 [==============================] - 0s 9ms/step - loss: 1.8070e-06 - MSE: 400.7492 - val_loss: 2.0156e-06 - val_MSE: 483.4001\n",
      "Epoch 16/60\n",
      "4/4 [==============================] - 0s 9ms/step - loss: 1.8070e-06 - MSE: 399.6383 - val_loss: 2.0156e-06 - val_MSE: 483.4001\n",
      "Epoch 17/60\n",
      "4/4 [==============================] - 0s 13ms/step - loss: 1.8070e-06 - MSE: 400.1476 - val_loss: 2.0156e-06 - val_MSE: 483.4001\n",
      "Epoch 18/60\n",
      "4/4 [==============================] - 0s 11ms/step - loss: 1.8070e-06 - MSE: 399.8417 - val_loss: 2.0156e-06 - val_MSE: 483.4001\n",
      "Epoch 19/60\n",
      "4/4 [==============================] - 0s 12ms/step - loss: 1.8070e-06 - MSE: 399.2549 - val_loss: 2.0156e-06 - val_MSE: 483.4001\n",
      "Epoch 20/60\n",
      "4/4 [==============================] - 0s 9ms/step - loss: 1.8070e-06 - MSE: 399.9327 - val_loss: 2.0156e-06 - val_MSE: 483.4001\n",
      "Epoch 21/60\n",
      "4/4 [==============================] - 0s 8ms/step - loss: 1.8070e-06 - MSE: 400.6008 - val_loss: 2.0156e-06 - val_MSE: 483.4001\n",
      "Epoch 22/60\n",
      "4/4 [==============================] - 0s 8ms/step - loss: 1.8070e-06 - MSE: 400.7904 - val_loss: 2.0156e-06 - val_MSE: 483.4001\n",
      "Epoch 23/60\n",
      "4/4 [==============================] - 0s 8ms/step - loss: 1.8070e-06 - MSE: 399.9705 - val_loss: 2.0156e-06 - val_MSE: 483.4001\n",
      "Epoch 24/60\n",
      "4/4 [==============================] - 0s 8ms/step - loss: 1.8070e-06 - MSE: 400.3007 - val_loss: 2.0156e-06 - val_MSE: 483.4001\n",
      "Epoch 25/60\n",
      "4/4 [==============================] - 0s 8ms/step - loss: 1.8070e-06 - MSE: 401.0434 - val_loss: 2.0156e-06 - val_MSE: 483.4001\n",
      "Epoch 26/60\n",
      "4/4 [==============================] - 0s 9ms/step - loss: 1.8070e-06 - MSE: 400.4737 - val_loss: 2.0156e-06 - val_MSE: 483.4001\n",
      "Epoch 27/60\n",
      "4/4 [==============================] - 0s 9ms/step - loss: 1.8070e-06 - MSE: 399.8625 - val_loss: 2.0156e-06 - val_MSE: 483.4001\n",
      "Epoch 28/60\n",
      "4/4 [==============================] - 0s 9ms/step - loss: 1.8070e-06 - MSE: 400.5516 - val_loss: 2.0156e-06 - val_MSE: 483.4001\n",
      "Epoch 29/60\n",
      "4/4 [==============================] - 0s 9ms/step - loss: 1.8070e-06 - MSE: 400.4685 - val_loss: 2.0156e-06 - val_MSE: 483.4001\n",
      "Epoch 30/60\n",
      "4/4 [==============================] - 0s 10ms/step - loss: 1.8070e-06 - MSE: 400.7215 - val_loss: 2.0156e-06 - val_MSE: 483.4001\n",
      "Epoch 31/60\n",
      "4/4 [==============================] - 0s 9ms/step - loss: 1.8070e-06 - MSE: 399.5567 - val_loss: 2.0156e-06 - val_MSE: 483.4001\n",
      "Epoch 32/60\n",
      "4/4 [==============================] - 0s 9ms/step - loss: 1.8070e-06 - MSE: 399.6646 - val_loss: 2.0156e-06 - val_MSE: 483.4001\n",
      "Epoch 33/60\n",
      "4/4 [==============================] - 0s 9ms/step - loss: 1.8070e-06 - MSE: 400.8294 - val_loss: 2.0156e-06 - val_MSE: 483.4001\n",
      "Epoch 34/60\n",
      "4/4 [==============================] - 0s 9ms/step - loss: 1.8070e-06 - MSE: 401.4244 - val_loss: 2.0156e-06 - val_MSE: 483.4001\n",
      "Epoch 35/60\n",
      "4/4 [==============================] - 0s 9ms/step - loss: 1.8070e-06 - MSE: 399.2437 - val_loss: 2.0156e-06 - val_MSE: 483.4001\n",
      "Epoch 36/60\n",
      "4/4 [==============================] - 0s 9ms/step - loss: 1.8070e-06 - MSE: 399.7297 - val_loss: 2.0156e-06 - val_MSE: 483.4001\n",
      "Epoch 37/60\n",
      "4/4 [==============================] - 0s 10ms/step - loss: 1.8070e-06 - MSE: 399.6016 - val_loss: 2.0156e-06 - val_MSE: 483.4001\n",
      "Epoch 38/60\n",
      "4/4 [==============================] - 0s 9ms/step - loss: 1.8070e-06 - MSE: 401.2298 - val_loss: 2.0156e-06 - val_MSE: 483.4001\n",
      "Epoch 39/60\n",
      "4/4 [==============================] - 0s 10ms/step - loss: 1.8070e-06 - MSE: 400.6556 - val_loss: 2.0156e-06 - val_MSE: 483.4001\n",
      "Epoch 40/60\n",
      "4/4 [==============================] - 0s 10ms/step - loss: 1.8070e-06 - MSE: 400.5087 - val_loss: 2.0156e-06 - val_MSE: 483.4001\n",
      "Epoch 41/60\n",
      "4/4 [==============================] - 0s 11ms/step - loss: 1.8070e-06 - MSE: 400.9593 - val_loss: 2.0156e-06 - val_MSE: 483.4001\n",
      "Epoch 42/60\n",
      "4/4 [==============================] - 0s 8ms/step - loss: 1.8070e-06 - MSE: 400.8136 - val_loss: 2.0156e-06 - val_MSE: 483.4001\n",
      "Epoch 43/60\n",
      "4/4 [==============================] - 0s 8ms/step - loss: 1.8070e-06 - MSE: 399.8922 - val_loss: 2.0156e-06 - val_MSE: 483.4001\n",
      "Epoch 44/60\n",
      "4/4 [==============================] - 0s 9ms/step - loss: 1.8070e-06 - MSE: 399.8208 - val_loss: 2.0156e-06 - val_MSE: 483.4001\n",
      "Epoch 45/60\n",
      "4/4 [==============================] - 0s 9ms/step - loss: 1.8070e-06 - MSE: 399.7348 - val_loss: 2.0156e-06 - val_MSE: 483.4001\n",
      "Epoch 46/60\n",
      "4/4 [==============================] - 0s 8ms/step - loss: 1.8070e-06 - MSE: 399.9830 - val_loss: 2.0156e-06 - val_MSE: 483.4001\n",
      "Epoch 47/60\n",
      "4/4 [==============================] - 0s 7ms/step - loss: 1.8070e-06 - MSE: 400.0801 - val_loss: 2.0156e-06 - val_MSE: 483.4001\n",
      "Epoch 48/60\n",
      "4/4 [==============================] - 0s 8ms/step - loss: 1.8070e-06 - MSE: 399.9010 - val_loss: 2.0156e-06 - val_MSE: 483.4001\n",
      "Epoch 49/60\n",
      "4/4 [==============================] - 0s 9ms/step - loss: 1.8070e-06 - MSE: 399.9508 - val_loss: 2.0156e-06 - val_MSE: 483.4001\n",
      "Epoch 50/60\n",
      "4/4 [==============================] - 0s 9ms/step - loss: 1.8070e-06 - MSE: 399.7962 - val_loss: 2.0156e-06 - val_MSE: 483.4001\n",
      "Epoch 51/60\n",
      "4/4 [==============================] - 0s 9ms/step - loss: 1.8070e-06 - MSE: 399.6327 - val_loss: 2.0156e-06 - val_MSE: 483.4001\n",
      "Epoch 52/60\n",
      "4/4 [==============================] - 0s 9ms/step - loss: 1.8070e-06 - MSE: 401.0312 - val_loss: 2.0156e-06 - val_MSE: 483.4001\n",
      "Epoch 53/60\n",
      "4/4 [==============================] - 0s 10ms/step - loss: 1.8070e-06 - MSE: 400.2273 - val_loss: 2.0156e-06 - val_MSE: 483.4001\n",
      "Epoch 54/60\n",
      "4/4 [==============================] - 0s 10ms/step - loss: 1.8070e-06 - MSE: 400.3300 - val_loss: 2.0156e-06 - val_MSE: 483.4001\n",
      "Epoch 55/60\n",
      "4/4 [==============================] - 0s 9ms/step - loss: 1.8070e-06 - MSE: 400.7845 - val_loss: 2.0156e-06 - val_MSE: 483.4001\n",
      "Epoch 56/60\n",
      "4/4 [==============================] - 0s 9ms/step - loss: 1.8070e-06 - MSE: 400.5863 - val_loss: 2.0156e-06 - val_MSE: 483.4001\n",
      "Epoch 57/60\n",
      "4/4 [==============================] - 0s 10ms/step - loss: 1.8070e-06 - MSE: 400.8962 - val_loss: 2.0156e-06 - val_MSE: 483.4001\n",
      "Epoch 58/60\n",
      "4/4 [==============================] - 0s 9ms/step - loss: 1.8070e-06 - MSE: 400.2989 - val_loss: 2.0156e-06 - val_MSE: 483.4001\n",
      "Epoch 59/60\n",
      "4/4 [==============================] - 0s 9ms/step - loss: 1.8070e-06 - MSE: 400.4146 - val_loss: 2.0156e-06 - val_MSE: 483.4001\n",
      "Epoch 60/60\n",
      "4/4 [==============================] - 0s 9ms/step - loss: 1.8070e-06 - MSE: 398.8776 - val_loss: 2.0156e-06 - val_MSE: 483.4001\n"
     ]
    },
    {
     "name": "stderr",
     "output_type": "stream",
     "text": [
      "WARNING:absl:Found untraced functions such as _jit_compiled_convolution_op, _jit_compiled_convolution_op while saving (showing 2 of 2). These functions will not be directly callable after loading.\n"
     ]
    },
    {
     "name": "stdout",
     "output_type": "stream",
     "text": [
      "INFO:tensorflow:Assets written to: Models/pixel_cnn_fg_augment/assets\n"
     ]
    },
    {
     "name": "stderr",
     "output_type": "stream",
     "text": [
      "INFO:tensorflow:Assets written to: Models/pixel_cnn_fg_augment/assets\n"
     ]
    }
   ],
   "source": [
    "#\"pixel\"\n",
    "# Create the model\n",
    "pixel_cnn_fg_augment: Sequential = keras.models.load_model('Models/pixel_cnn')\n",
    "pixel_cnn_fg_augment.pop()\n",
    "for layer in pixel_cnn_fg_augment.layers:\n",
    "      layer.trainable = False\n",
    "pixel_cnn_fg_augment.add(Dense(1, activation='linear'))\n",
    "\n",
    "# Training\n",
    "pixel_cnn_fg_augment.compile(loss='categorical_crossentropy', optimizer='adam', metrics=['MSE'])\n",
    "pixel_cnn_fg_augment.fit(Xtrain_fgnet_augment, ytrain_fgnet, epochs=60, batch_size=128, verbose=1, validation_split=0.2)\n",
    "pixel_cnn_fg_augment.save('Models/pixel_cnn_fg_augment')"
   ]
  },
  {
   "cell_type": "code",
   "execution_count": 33,
   "metadata": {},
   "outputs": [
    {
     "name": "stdout",
     "output_type": "stream",
     "text": [
      "19/19 [==============================] - 0s 980us/step\n",
      "7/7 [==============================] - 0s 1ms/step\n",
      "7/7 [==============================] - 0s 1ms/step\n",
      "Training Set\n",
      "MAE: 15.508333333333333\n",
      "MSE: 404.5416666666667\n",
      "R2: -1.4662172603033174\n",
      "Validation Set\n",
      "MAE: 16.149253731343283\n",
      "MSE: 429.2437810945274\n",
      "R2: -1.548266793155162\n",
      "Test Set\n",
      "MAE: 16.52238805970149\n",
      "MSE: 438.5422885572139\n",
      "R2: -1.6489543404760343\n",
      "19/19 [==============================] - 0s 963us/step\n",
      "7/7 [==============================] - 0s 1ms/step\n",
      "7/7 [==============================] - 0s 1ms/step\n",
      "Training Set\n",
      "MAE: 15.508333333333333\n",
      "MSE: 404.5416666666667\n",
      "R2: -1.4662172603033174\n",
      "Validation Set\n",
      "MAE: 16.149253731343283\n",
      "MSE: 429.2437810945274\n",
      "R2: -1.548266793155162\n",
      "Test Set\n",
      "MAE: 16.52238805970149\n",
      "MSE: 438.5422885572139\n",
      "R2: -1.6489543404760343\n"
     ]
    }
   ],
   "source": [
    "pixel_cnn_fg = keras.models.load_model(\"Models/pixel_cnn_fg\")\n",
    "\n",
    "eval_regression_model(pixel_cnn_fg, Xtrain_fgnet, ytrain_fgnet, Xtest_fgnet, ytest_fgnet, Xval_fgnet, yval_fgnet, 'pixel CNN')"
   ]
  },
  {
   "cell_type": "markdown",
   "metadata": {},
   "source": [
    "#### Résultats et réponses:"
   ]
  },
  {
   "cell_type": "code",
   "execution_count": 34,
   "metadata": {},
   "outputs": [
    {
     "name": "stdout",
     "output_type": "stream",
     "text": [
      "19/19 [==============================] - 0s 925us/step\n",
      "7/7 [==============================] - 0s 1ms/step\n",
      "7/7 [==============================] - 0s 1ms/step\n",
      "Training Set\n",
      "MAE: 15.508333333333333\n",
      "MSE: 404.5416666666667\n",
      "R2: -1.4662172603033174\n",
      "Validation Set\n",
      "MAE: 16.149253731343283\n",
      "MSE: 429.2437810945274\n",
      "R2: -1.548266793155162\n",
      "Test Set\n",
      "MAE: 16.52238805970149\n",
      "MSE: 438.5422885572139\n",
      "R2: -1.6489543404760343\n"
     ]
    }
   ],
   "source": [
    "pixel_cnn_fg_augment = keras.models.load_model(\"Models/pixel_cnn_fg_augment\")\n",
    "eval_regression_model(pixel_cnn_fg_augment, Xtrain_fgnet, ytrain_fgnet, Xtest_fgnet, ytest_fgnet, Xval_fgnet, yval_fgnet, 'pixel CNN - Augment')\n"
   ]
  },
  {
   "cell_type": "markdown",
   "metadata": {},
   "source": [
    "##### My CNN - Sans augmentation:\n",
    "| Ensemble | MAE      | MSE           | R2     |\n",
    "|----------|----------|---------------|--------|\n",
    "| App      | 15.51    |     404.54    | -1.47  |\n",
    "| Val      | 16.15    |     429.24    | -1.55  |\n",
    "| Test     | 16.52    |     438.54    | -1.65  |\n",
    "\n",
    "##### My CNN - Avec augmentation:\n",
    "| Ensemble | MAE      | MSE           | R2     |\n",
    "|----------|----------|---------------|--------|\n",
    "| App      | 15.51    |     404.54    | -1.47  |\n",
    "| Val      | 16.15    |     429.24    | -1.55  |\n",
    "| Test     | 16.52    |     438.54    | -1.65  |"
   ]
  },
  {
   "cell_type": "markdown",
   "metadata": {},
   "source": [
    "## Partie Final: Conclusion"
   ]
  },
  {
   "cell_type": "markdown",
   "metadata": {},
   "source": [
    "##### À faire:\n",
    "1. Résumer et comparer les principaux résultats obtenus pour la classification (FER) et régression (FG-NET).\n",
    "2. Faire une analyse des résultats obtenus et présenter vos conclusions sur les différents modèles que vous avez entraînés (classification et régression).\n",
    "3. Comparer les résultats obtenus sur FER avec les résultats du laboratoire 1 (vecteur de pixels, vecteur de primitives). Avez-vous observé une amélioration? Commenter sur les temps d'apprentissage, complexité spatiale et temporelle, etc."
   ]
  },
  {
   "cell_type": "markdown",
   "metadata": {},
   "source": [
    "#### Résultats et réponses:\n",
    "Vos résultats ici"
   ]
  },
  {
   "cell_type": "markdown",
   "metadata": {},
   "source": [
    "| Algorithme            | MSE           |\n",
    "|-----------------------|---------------|\n",
    "| Regr lineaire         | XXX.XX        |\n",
    "| Regr Ridge            | XXX.XX        |\n",
    "| Regr Lasso            | XXX.XX        |\n",
    "| Regr ElasticNet       | XXX.XX        |\n",
    "| ...                   | XXX.XX        |\n",
    "| ...                   | XXX.XX        |"
   ]
  }
 ],
 "metadata": {
  "kernelspec": {
   "display_name": "Python 3 (ipykernel)",
   "language": "python",
   "name": "python3"
  },
  "language_info": {
   "codemirror_mode": {
    "name": "ipython",
    "version": 3
   },
   "file_extension": ".py",
   "mimetype": "text/x-python",
   "name": "python",
   "nbconvert_exporter": "python",
   "pygments_lexer": "ipython3",
   "version": "3.9.12"
  },
  "vscode": {
   "interpreter": {
    "hash": "c2cc76b7ba6e4a9b71994c9389777e7f76d395fe05acbae764e416f09af23599"
   }
  }
 },
 "nbformat": 4,
 "nbformat_minor": 2
}
