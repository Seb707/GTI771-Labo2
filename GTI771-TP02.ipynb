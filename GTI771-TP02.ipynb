{
 "cells": [
  {
   "cell_type": "markdown",
   "metadata": {},
   "source": [
    "##### Laboratoire 2\n",
    "# Discrimination linéaire et réseaux de neurones profonds\n",
    "## Classification et régression (Datasets FER et FG-NET)\n",
    "\n",
    "### GTI771 - Apprentissage machine avancé\n",
    "#### Département de génie logiciel et des technologies de l’information (LogTI)\n",
    "\n",
    "##### <font color=white> Version 1.0 - février 2020<br>Version 2.0 - février 2020 <br> Version 3.0 - mars 2020<br>Version 4.0 - juin 2020 (Richard Rail)<br>Version 4.1 - février 2021<br></font><br>Version 4.2 - février 2022<br>\n",
    "\n",
    "\n",
    "##### Prof. Alessandro L. Koerich"
   ]
  },
  {
   "cell_type": "markdown",
   "metadata": {},
   "source": [
    "| Étudiants             | NOMS - CODE PERMANENT                                   |\n",
    "|-----------------------|---------------------------------------------------------|\n",
    "| Session               | SAISON ANNÉE                                            |\n",
    "| Équipe                | X                                                       |\n",
    "| Numéro du laboratoire | X                                                       |\n",
    "| Professeur            | Prof. NOM                                               |\n",
    "| Chargé de laboratoire | NOM                                                     |\n",
    "| Date                  | DATE                                                    |"
   ]
  },
  {
   "cell_type": "markdown",
   "metadata": {},
   "source": [
    "# Introduction\n",
    "\n",
    "Ce deuxième laboratoire porte sur l'utilisation de trois algorithmes d'apprentissage soit les algorithmes de régression, les réseaux neuronaux et les réseaux neuronaux profonds. Dans ce laboratoire, vous êtes amenés à utiliser de nouvelles approches à l’aide de ces algorithmes aﬁn de résoudre deux problèmes: prédiction de l'âge de personnes à partir de photos du visage (régression); problème de classiﬁcation des expressions faciales (FER) introduit dans le cadre du premier laboratoire de ce cours.\n",
    "\n",
    "Le problème de régression qui vous est présenté est le problème [Facial Aging Estimation (FAE)](https://yanweifu.github.io/FG_NET_data/index.html), dont le but est de prédire l'âge des personnes à partir du visage. En vous basant sur les concepts vus en classe et l'expérience acquise dans le laboratoire 1, vous êtes invité à reprendre les primitives développées lors du laboratoire 1 ou d'autres primitives que vous jugez pertinentes à extraire sur ces types d’images et effectuer l’extraction de celles-ci sur l’ensemble de données fournies avec cet énoncé. \n",
    "\n",
    "##### Description de l'ensemble de données:\n",
    "* 1002 images faciales de 82 sujets multiraciaux âgés de 0 à 69 ans;\n",
    "* Déséquilibré: 50% des sujets ont entre 0 et 13 ans;\n",
    "* Images couleur et niveaux de gris avec une dimension moyenne de 384x487 pixels, et la résolution varie de 200 dpi à 1200 dpi;\n",
    "* Grande variation d'éclairage, de pose, d'expression faciale, de flou et d'occlusions (par exemple, moustache, barbe, lunettes, etc.).\n",
    "\n",
    "Voici, en exemple, des images de visages se retrouvant dans l’ensemble de données FG-NET:\n",
    "\n",
    "![Exemples de FER](https://www.mdpi.com/sensors/sensors-16-00994/article_deploy/html/images/sensors-16-00994-g001.png)\n",
    "\n",
    "Veuillez noter que les images qui vous sont fournies ne sont pas nécessairement similaires aux images de FER. Plusieurs images comportent du bruit, des artéfacts ou des éléments non pertinents. Le défi de ce laboratoire repose sur cette difficulté qui est chose courante dans des problèmes d’apprentissage machine moderne.\n",
    "\n",
    "Tout comme le premier travail pratique, vous réaliserez ce deuxième laboratoire avec la technologie Python3 conjointement avec la librairie d’apprentissage machine scikit-learn et TensorFlow et Keras pour la partie réseaux de neurones. Vous êtes invité à reprendre le code développé lors du laboratoire 1 afin de continuer son développement.\n",
    "\n",
    "<font color=black> L’évaluation de ce laboratoire sera basée sur la qualité des modèles entraînés, la comparaison des performances réalisées par les différents modèles, les réponses aux questions dans cette notebook ainsi que l'organisation de votre code source (SVP, n'oubliez pas des commentaires dans le code!).</font>"
   ]
  },
  {
   "cell_type": "markdown",
   "metadata": {},
   "source": [
    "* #### Partie 1: Régression\n",
    "* Régression lineaire\n",
    "* Régression Ridge\n",
    "* Régression Lasso et Elastic-Net\n",
    "* Descente du gradiente stochastique (SGD)<br>\n",
    "<br>\n",
    "* #### Partie 2: Classification\n",
    "* Régression logistique\n",
    "* Réseaux de neurones MLP <br>\n",
    "<br>\n",
    "* #### Partie 3: Classification et régression\n",
    "* Réseaux convolutionel entraîné \"from scratch\"\n",
    "* Réseaux convolutionel + modèles pre-entraînes (transfer learning)\n",
    "* Réseaux convolutionel adapté à la régression"
   ]
  },
  {
   "cell_type": "markdown",
   "metadata": {
    "collapsed": true
   },
   "source": [
    "## Partie 0: Imports"
   ]
  },
  {
   "cell_type": "markdown",
   "metadata": {},
   "source": [
    "#### (0a) Import de bibliotèques\n",
    "\n"
   ]
  },
  {
   "cell_type": "markdown",
   "metadata": {},
   "source": [
    "##### À faire:\n",
    "1. Ajouter toutes les bibliothèques que vous avez utilisées pour compléter ce notebook dans une cellule avec une petite description."
   ]
  },
  {
   "cell_type": "code",
   "execution_count": null,
   "metadata": {},
   "outputs": [],
   "source": [
    "import numpy as np  # package for scientific computing with Python.\n",
    "import matplotlib.pyplot as plt # 2D plotting library\n",
    "\n",
    "# Votre code ici"
   ]
  },
  {
   "cell_type": "markdown",
   "metadata": {},
   "source": [
    "#### (0b) Fonctions"
   ]
  },
  {
   "cell_type": "markdown",
   "metadata": {},
   "source": [
    "##### À faire:\n",
    "Avez-vous créé des fonctions? Si oui, vous devez les mettre ici, avec une description."
   ]
  },
  {
   "cell_type": "code",
   "execution_count": null,
   "metadata": {},
   "outputs": [],
   "source": [
    "# Cette fonction ne fait rien. Elle ne reçoit aucune variable et retourne 1\n",
    "\n",
    "def fa():\n",
    "    return 1"
   ]
  },
  {
   "cell_type": "markdown",
   "metadata": {},
   "source": [
    "# Partie 1: Explorez les algorithmes de régression\n",
    "## FG-NET dataset (Facial Aging Estimation)\n",
    "\n",
    "Dans cette partie vous devez explorer les <b> algorithmes de régression linéaire </b> disponibles dans Scikit-learn, comme régression least square, régression Ridge, régression Lasso et Elastic-Net, descente du gradient stochastique (SGD), etc.\n",
    "\n",
    "Vous devez comparer la performance de ces algorithmes pour l'ensemble de données FG-NET sur:\n",
    "\n",
    "1. Le vecteur de pixels (images vectorisées)\n",
    "2. Vecteur de primitives (reprendre l'algorithme d'extraction de primitives que vous avez utilisées dans le Laboratoire 1, p.ex. LBP). Vous pouvez reprendre les primitives \"réduits\" que vous avez utilisées dans le Laboratoire 1 (p.ex. vecteur LBP après PCA), si vous pensez qu’ils sont plus performants."
   ]
  },
  {
   "cell_type": "markdown",
   "metadata": {},
   "source": [
    "### 1a: Charger le fichier de données"
   ]
  },
  {
   "cell_type": "code",
   "execution_count": null,
   "metadata": {},
   "outputs": [],
   "source": [
    "# Load data"
   ]
  },
  {
   "cell_type": "markdown",
   "metadata": {},
   "source": [
    "### 1b: Visualisation des visages"
   ]
  },
  {
   "cell_type": "markdown",
   "metadata": {},
   "source": [
    "Vous pouvez visualiser les images en utilisant `plt.imshow`.\n",
    "\n",
    "Il y a différents types de prétraitement que nous pouvons appliquer à des images dans les ensembles de données pour réduire la variabilité, réduire des bruits, etc.\n",
    "\n",
    "Voici deux sources pour vous aidez à décider:\n",
    "- http://eprints.qut.edu.au/92300/1/manuscript_Jhony.pdf\n",
    "- https://ieeexplore.ieee.org/stamp/stamp.jsp?tp=&arnumber=7475805\n",
    "\n",
    "### À faire:\n",
    "1. Pensez-vous qu’est nécessaire un prétraitement des images? Si oui, vous pouvez choisir différents algorithmes de prétraitement dans [scikit-image](https://scikit-image.org/docs/stable/api/api.html). Il y a aussi autres types de prétraitement plus généraux dans [scikit-learn](https://scikit-learn.org/stable/modules/preprocessing.html#preprocessing).\n",
    "2. Expliquer et justifier les prétraitements choisis."
   ]
  },
  {
   "cell_type": "markdown",
   "metadata": {},
   "source": [
    "#### Code"
   ]
  },
  {
   "cell_type": "code",
   "execution_count": null,
   "metadata": {},
   "outputs": [],
   "source": [
    "# Votre code de pre-processing"
   ]
  },
  {
   "cell_type": "markdown",
   "metadata": {},
   "source": [
    "#### Résultats et résponses"
   ]
  },
  {
   "cell_type": "code",
   "execution_count": null,
   "metadata": {},
   "outputs": [],
   "source": [
    "# Votre explication/justification"
   ]
  },
  {
   "cell_type": "markdown",
   "metadata": {},
   "source": [
    "### 1c: Statistiques sur les sujets et étiquettes"
   ]
  },
  {
   "cell_type": "markdown",
   "metadata": {},
   "source": [
    "##### À faire:\n",
    "1. Calculer quelques statistiques (# images par sujet, distribution des âges, etc.) que vous jugez importantes sur les données\n",
    "2. Faire une analyse des résultats et présenter vos conclusions basées sur ces statistiques."
   ]
  },
  {
   "cell_type": "markdown",
   "metadata": {},
   "source": [
    "#### Code:"
   ]
  },
  {
   "cell_type": "code",
   "execution_count": null,
   "metadata": {},
   "outputs": [],
   "source": [
    "# Votre code ici\n",
    "\n",
    "# Code exemple:\n",
    "# Histogramme des étiquettes\n",
    "#hist, _ = np.histogram(ytrain, density=False, bins=7, range=(0, 7))"
   ]
  },
  {
   "cell_type": "markdown",
   "metadata": {},
   "source": [
    "#### Résultats et résponses:"
   ]
  },
  {
   "cell_type": "code",
   "execution_count": null,
   "metadata": {},
   "outputs": [],
   "source": [
    "# Vos résultats ici:\n",
    "\n",
    "# Code exemple:\n",
    "# Code exemple\n",
    "# Plot du histogramme\n",
    "# import matplotlib.pyplot as plt"
   ]
  },
  {
   "cell_type": "markdown",
   "metadata": {},
   "source": [
    "### 1d: Créer et évaluer des modèles de régression"
   ]
  },
  {
   "cell_type": "markdown",
   "metadata": {},
   "source": [
    "##### À faire:\n",
    "1. Choisir au moins trois (3) algorithmes de régression linéaire disponibles dans Scikit-learn (p.ex. régression least square, régression Ridge, régression Lasso, régression Elastic-Net, descente du gradient stochastique (SGD), etc.)\n",
    "2. Entraîner et optimiser les paramètres des modèles si nécessaire. Utiliser le protocole <font color=blue> \"Leave One Subject Out Cross-Validation\" </font> (LOSO).\n",
    "3. Faire une analyse des résultats et présenter vos conclusions sur les modèles de régression.\n",
    "\n",
    "| Algorithme            | Paramètres    |  MSE  |  MAE  |\n",
    "|-----------------------|---------------|-------|-------|\n",
    "| Regr lineaire         | XXX.XX        |XXX.XX |XXX.XX |\n",
    "| Regr Ridge            | alpha = 0.1   |123.34 | 10.45 |\n",
    "| Regr Lasso            | XXX.XX        |XXX.XX |XXX.XX |\n",
    "| Regr ElasticNet       | XXX.XX        |XXX.XX |XXX.XX |\n",
    "| ...                   | XXX.XX        |XXX.XX |XXX.XX |\n",
    "| ...                   | XXX.XX        |XXX.XX |XXX.XX |"
   ]
  },
  {
   "cell_type": "markdown",
   "metadata": {},
   "source": [
    "#### Code:"
   ]
  },
  {
   "cell_type": "code",
   "execution_count": null,
   "metadata": {},
   "outputs": [],
   "source": [
    "# Votre code ici"
   ]
  },
  {
   "cell_type": "markdown",
   "metadata": {},
   "source": [
    "#### Résultats et résponses:"
   ]
  },
  {
   "cell_type": "code",
   "execution_count": null,
   "metadata": {},
   "outputs": [],
   "source": [
    "# Vos résultats ici:"
   ]
  },
  {
   "cell_type": "markdown",
   "metadata": {},
   "source": [
    "# Partie 2: Explorez les algorithmes de classification\n",
    "## FER dataset ( Facial Expression Recognition )\n",
    "\n",
    "Vous devez reprendre l'ensemble FER et les primitives que vous avez choisis dans le Laboratoire 1.\n",
    "\n",
    "Dans cette partie vous devez explorer les algorithmes de classification <b> régression logistique et réseaux de neurones multicouches (MLP) </b>\n",
    "\n",
    "Vous devez comparer la performance de ces deux algorithmes pour l'ensemble FER sur:\n",
    "1. Le vecteur de pixels (images vectorisées)\n",
    "2. Vecteur de primitives (reprendre les primitives ou primitives sélectionnées/transformées du laboratoire 1)"
   ]
  },
  {
   "cell_type": "markdown",
   "metadata": {},
   "source": [
    "### 2a: Charger le fichier de données"
   ]
  },
  {
   "cell_type": "code",
   "execution_count": 1,
   "metadata": {},
   "outputs": [],
   "source": [
    "# Load data"
   ]
  },
  {
   "cell_type": "markdown",
   "metadata": {},
   "source": [
    "### 2b: Créer et évaluer des modèles de classification (Régression logistique)"
   ]
  },
  {
   "cell_type": "markdown",
   "metadata": {},
   "source": [
    "##### À faire:\n",
    "\n",
    "1. Utiliser l'algorithme régression logistique disponible dans [Scikit-learn](https://scikit-learn.org/stable/modules/generated/sklearn.linear_model.LogisticRegression.html), pour classifier le vecteur de pixels et le vecteur de primitives du laboratoire 1. Vous pouvez regarder aussi [SGDClassifier](https://scikit-learn.org/stable/modules/generated/sklearn.linear_model.SGDClassifier.html#sklearn.linear_model.SGDClassifier) et [LogisticRegressionCV](https://scikit-learn.org/stable/modules/generated/sklearn.linear_model.LogisticRegressionCV.html#sklearn.linear_model.LogisticRegressionCV)\n",
    "2. Entraîner et optimiser les paramètres des modèles.\n",
    "3. Faire une analyse des résultats et présenter vos conclusions sur le modèle logistique."
   ]
  },
  {
   "cell_type": "markdown",
   "metadata": {},
   "source": [
    "#### Code:"
   ]
  },
  {
   "cell_type": "code",
   "execution_count": 2,
   "metadata": {},
   "outputs": [],
   "source": [
    "# Votre code ici"
   ]
  },
  {
   "cell_type": "markdown",
   "metadata": {},
   "source": [
    "####  Résultats et résponses:\n",
    "\n",
    "Vos résultats ici:"
   ]
  },
  {
   "cell_type": "markdown",
   "metadata": {},
   "source": [
    "\n",
    "| Algorithme       | Paramètres    | Precision | %Erreur App | %Erreur Val | %Erreur Tst | \n",
    "|------------------|---------------|-----------|-------------|-------------|-------------|\n",
    "| Regr logistique  | XXX.XX        |   XXX.XX  |   XXX.XX    |   XXX.XX    |   XXX.XX    |\n",
    "| MLP 1            | 2403:100:100:7|   123.34  |    10.45    |   XXX.XX    |   XXX.XX    |\n",
    "| MLP 2            | XXX.XX        |   XXX.XX  |   XXX.XX    |   XXX.XX    |   XXX.XX    |\n",
    "| MLP 3            | XXX.XX        |   XXX.XX  |   XXX.XX    |   XXX.XX    |   XXX.XX    |\n",
    "| ...              | XXX.XX        |   XXX.XX  |   XXX.XX    |   XXX.XX    |   XXX.XX    |\n",
    "| ...              | XXX.XX        |   XXX.XX  |   XXX.XX    |   XXX.XX    |   XXX.XX    |"
   ]
  },
  {
   "cell_type": "markdown",
   "metadata": {},
   "source": [
    "### 2c: Créer et évaluer des modèles de classification (Réseaux perceptron multi-couche)"
   ]
  },
  {
   "cell_type": "markdown",
   "metadata": {},
   "source": [
    "##### À faire:\n",
    "\n",
    "1. Utiliser [Tensorflow et Keras](https://www.tensorflow.org/tutorials/keras/classification) pour construire un réseau de neurones multicouche pour classifier les vecteurs de primitives du laboratoire 1. \n",
    "2. Choisir l’architecture appropriée pour chaque vecteur de primitives (nombre et dimension des couches). \n",
    "2. Entraîner et optimiser les paramètres des réseaux.\n",
    "4. Faire une analyse des résultats et présenter vos conclusions sur les réseaux de neurones."
   ]
  },
  {
   "cell_type": "markdown",
   "metadata": {},
   "source": [
    "#### Code"
   ]
  },
  {
   "cell_type": "code",
   "execution_count": 3,
   "metadata": {},
   "outputs": [],
   "source": [
    "# Votre code ici"
   ]
  },
  {
   "cell_type": "markdown",
   "metadata": {},
   "source": [
    "#### Résultats et résponses:\n",
    "Vos résultats ici\n",
    "\n",
    "| Algorithme       | Paramètres    | Precision | %Erreur App | %Erreur Val | %Erreur Tst | \n",
    "|------------------|---------------|-----------|-------------|-------------|-------------|\n",
    "| Regr logistique  | XXX.XX        |   XXX.XX  |   XXX.XX    |   XXX.XX    |   XXX.XX    |\n",
    "| MLP 1            | 2403:100:100:7|   123.34  |    10.45    |   XXX.XX    |   XXX.XX    |\n",
    "| MLP 2            | XXX.XX        |   XXX.XX  |   XXX.XX    |   XXX.XX    |   XXX.XX    |\n",
    "| MLP 3            | XXX.XX        |   XXX.XX  |   XXX.XX    |   XXX.XX    |   XXX.XX    |\n",
    "| ...              | XXX.XX        |   XXX.XX  |   XXX.XX    |   XXX.XX    |   XXX.XX    |\n",
    "| ...              | XXX.XX        |   XXX.XX  |   XXX.XX    |   XXX.XX    |   XXX.XX    |"
   ]
  },
  {
   "cell_type": "markdown",
   "metadata": {},
   "source": [
    "# Partie 3: Explorez l'apprentissage de la représentation et les réseaux neuronaux profonds\n",
    "## (FER dataset et FG-NET dataset)\n"
   ]
  },
  {
   "cell_type": "markdown",
   "metadata": {},
   "source": [
    "##### À faire :\n",
    "1. Utiliser [Tensorflow et Keras](https://www.tensorflow.org/tutorials/keras/classification) pour construire un réseau de neurones convolutif pour apprendre une représentation directement des images de visage aussi que les discriminantes. \n",
    "2. Choisir l’architecture appropriée : nombre de couches convolutifs (CL), dimension des filtres, “stride”, nombre de couches entièrement connectées (FC) et la dimension des couches). \n",
    "3. Entraîner et optimiser les paramètres du réseau.\n",
    "4. Évaluer la pertinence d’utiliser \"data augmentation\" pour améliorer la généralisation.\n",
    "5. Récupérer une des architectures CNN pré-entraînes disponibles dans Keras pour faire une “transfert de connaissance (transfer learning). Faire un \"fine-tuning\" du modèle choisi sur FER.    \n",
    "7. Choisir le modèle qu’a donné de meilleurs résultats sur FER et adapter ce modèle pour faire la régression sur FG-NET.     \n",
    "8. Faire une analyse des résultats et présenter vos conclusions sur les réseaux de neurones."
   ]
  },
  {
   "cell_type": "markdown",
   "metadata": {},
   "source": [
    "### 3a: Code CNN (FER)\n",
    "    \n",
    "##### À faire:\n",
    "1. Utiliser [Tensorflow et Keras](https://www.tensorflow.org/tutorials/keras/classification) pour construire un réseau de neurones convolutif pour apprendre une représentation directement des images de visage aussi que les discriminantes. \n",
    "2. Choisir l’architecture appropriée: nombre de couches convolutifs (CL), dimension des filtres, \"stride”, nombre de couches entièrement connectées (FC) et la dimension des couches). \n",
    "3. Entraîner et optimiser les paramètres du réseau.\n",
    "4. Évaluer la pertinence d’utiliser \"data augmentation\" pour améliorer la généralisation."
   ]
  },
  {
   "cell_type": "code",
   "execution_count": null,
   "metadata": {},
   "outputs": [],
   "source": [
    "# Votre code ici"
   ]
  },
  {
   "cell_type": "markdown",
   "metadata": {},
   "source": [
    "#### Résultats et résponses:\n",
    "Vos résultats ici"
   ]
  },
  {
   "cell_type": "markdown",
   "metadata": {},
   "source": [
    "Exemple\n",
    "\n",
    "| Ensemble | My CNN   | VGG19 CNN           |                               \n",
    "|----------|----------|---------------------|\n",
    "| App      | 99,67%   |     XX,XX%          |                   \n",
    "| Val      | 89,77%   |     XX,XX%          |                             \n",
    "| Test     | 77,99%   |     XX,XX%          |       \n",
    "\n",
    "\n",
    "Q1: Nous avons choisi l'algorithme d'arbre de décision parce que...\n",
    "\n",
    "Q2: Les taux de classification indiquent que le modèle...\n",
    "\n",
    "Q3: La performance avec le primitive..."
   ]
  },
  {
   "cell_type": "markdown",
   "metadata": {},
   "source": [
    "### 3b: Code CNN Pré-entraîné (FER)\n",
    "\n",
    "##### À faire:\n",
    "1. Récupérer une des architectures [CNN pré-entraînes disponibles dans Keras](https://keras.io/api/applications/) pour faire un \"transfert de connaissance\" (transfer learning). Faire un \"fine-tuning\" du modèle choisi sur FER.    \n",
    "2. Entraîner et optimiser les paramètres du réseau.\n",
    "3. Évaluer la pertinence d’utiliser \"data augmentation\" pour améliorer la généralisation."
   ]
  },
  {
   "cell_type": "code",
   "execution_count": null,
   "metadata": {},
   "outputs": [],
   "source": [
    "# Votre code ici"
   ]
  },
  {
   "cell_type": "markdown",
   "metadata": {},
   "source": [
    "#### Résultats et résponses:"
   ]
  },
  {
   "cell_type": "markdown",
   "metadata": {},
   "source": [
    "Vos résultats ici\n",
    "\n",
    "##### Exemple:\n",
    "| Ensemble | My CNN   | VGG19 CNN           |                               \n",
    "|----------|----------|---------------------|\n",
    "| App      | 99,67%   |     XX,XX%          |                   \n",
    "| Val      | 89,77%   |     XX,XX%          |                             \n",
    "| Test     | 77,99%   |     XX,XX%          |       \n",
    "\n",
    "\n",
    "Q1: Nous avons choisi l'algorithme d'arbre de décision parce que...\n",
    "\n",
    "Q2: Les taux de classification indiquent que le modèle...\n",
    "\n",
    "Q3: La performance avec le primitive..."
   ]
  },
  {
   "cell_type": "markdown",
   "metadata": {},
   "source": [
    "### 3c: Code CNN Pré-entraîné (FG-NET):\n",
    "\n",
    "##### À faire:\n",
    "1. Choisir le modèle \\ l’architecture qu’a donné de meilleurs résultats sur FER pour faire un “transfert de connaissance (transfer learning).\n",
    "2. Adapter ce modèle pour FG-NET (couche de sortie classification (7 unités avec softmax) -> régression (1 unité lineaire)).   \n",
    "3. Entraîner (\"fine-tuning\" du modèle choisi sur FG-NET) et optimiser les paramètres du réseau pour la régression.\n",
    "4. Évaluer la pertinence d’utiliser \"data augmentation\" pour améliorer la généralisation.\n",
    "5. Faire une analyse des résultats et présenter vos conclusions sur les réseaux de neurones."
   ]
  },
  {
   "cell_type": "code",
   "execution_count": null,
   "metadata": {},
   "outputs": [],
   "source": [
    "# Votre code ici"
   ]
  },
  {
   "cell_type": "markdown",
   "metadata": {},
   "source": [
    "#### Résultats et résponses:"
   ]
  },
  {
   "cell_type": "markdown",
   "metadata": {},
   "source": [
    "Vos résultats ici\n",
    "\n",
    "##### Exemple:\n",
    "| Ensemble | My CNN   | VGG19 CNN           |                               \n",
    "|----------|----------|---------------------|\n",
    "| App      | 99,67%   |     XX,XX%          |                   \n",
    "| Val      | 89,77%   |     XX,XX%          |                             \n",
    "| Test     | 77,99%   |     XX,XX%          |       \n",
    "\n",
    "\n",
    "Q1: Nous avons choisi l'algorithme d'arbre de décision parce que...\n",
    "\n",
    "Q2: Les taux de classification indiquent que le modèle...\n",
    "\n",
    "Q3: La performance avec le primitive..."
   ]
  },
  {
   "cell_type": "markdown",
   "metadata": {},
   "source": [
    "## Partie Final: Conclusion"
   ]
  },
  {
   "cell_type": "markdown",
   "metadata": {},
   "source": [
    "##### À faire:\n",
    "1. Résumer et comparer les principaux résultats obtenus pour la classification (FER) et régression (FG-NET).\n",
    "2. Faire une analyse des résultats obtenus et présenter vos conclusions sur les différents modèles que vous avez entraînés (classification et régression).\n",
    "3. Comparer les résultats obtenus sur FER avec les résultats du laboratoire 1 (vecteur de pixels, vecteur de primitives). Avez-vous observé une amélioration? Commenter sur les temps d'apprentissage, complexité spatiale et temporelle, etc."
   ]
  },
  {
   "cell_type": "markdown",
   "metadata": {},
   "source": [
    "#### Résultats et résponses:\n",
    "Vos résultats ici"
   ]
  },
  {
   "cell_type": "markdown",
   "metadata": {},
   "source": [
    "| Algorithme            | MSE           |\n",
    "|-----------------------|---------------|\n",
    "| Regr lineaire         | XXX.XX        |\n",
    "| Regr Ridge            | XXX.XX        |\n",
    "| Regr Lasso            | XXX.XX        |\n",
    "| Regr ElasticNet       | XXX.XX        |\n",
    "| ...                   | XXX.XX        |\n",
    "| ...                   | XXX.XX        |"
   ]
  },
  {
   "cell_type": "markdown",
   "metadata": {},
   "source": [
    "## Notebook Ended"
   ]
  }
 ],
 "metadata": {
  "kernelspec": {
   "display_name": "Python 3 (ipykernel)",
   "language": "python",
   "name": "python3"
  },
  "language_info": {
   "codemirror_mode": {
    "name": "ipython",
    "version": 3
   },
   "file_extension": ".py",
   "mimetype": "text/x-python",
   "name": "python",
   "nbconvert_exporter": "python",
   "pygments_lexer": "ipython3",
   "version": "3.9.12"
  }
 },
 "nbformat": 4,
 "nbformat_minor": 2
}
